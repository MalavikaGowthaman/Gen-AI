{
  "nbformat": 4,
  "nbformat_minor": 0,
  "metadata": {
    "colab": {
      "provenance": []
    },
    "kernelspec": {
      "name": "python3",
      "display_name": "Python 3"
    },
    "language_info": {
      "name": "python"
    }
  },
  "cells": [
    {
      "cell_type": "markdown",
      "source": [
        "# Bag of Words"
      ],
      "metadata": {
        "id": "pnFsK40mZDIB"
      }
    },
    {
      "cell_type": "code",
      "execution_count": 1,
      "metadata": {
        "id": "1aXnvrP1Y87r"
      },
      "outputs": [],
      "source": [
        "import pandas as pd\n",
        "import numpy as np"
      ]
    },
    {
      "cell_type": "code",
      "source": [
        "df = pd.DataFrame({\"text\":[\"The dog makes child happy\",\n",
        "                           \"The child makes dog happy\",\n",
        "                           \"What makes child happy?\",\n",
        "                           \"What makes dog happy?\"],\n",
        "                   \"output\":[1,1,0,0]})\n",
        "df"
      ],
      "metadata": {
        "colab": {
          "base_uri": "https://localhost:8080/",
          "height": 175
        },
        "id": "8a18QNjZZRWB",
        "outputId": "111d10b6-5c38-420d-b2a2-d3e40691b394"
      },
      "execution_count": 2,
      "outputs": [
        {
          "output_type": "execute_result",
          "data": {
            "text/plain": [
              "                        text  output\n",
              "0  The dog makes child happy       1\n",
              "1  The child makes dog happy       1\n",
              "2    What makes child happy?       0\n",
              "3      What makes dog happy?       0"
            ],
            "text/html": [
              "\n",
              "  <div id=\"df-9b7e8e41-627a-4e19-9c92-2e7a343f2506\" class=\"colab-df-container\">\n",
              "    <div>\n",
              "<style scoped>\n",
              "    .dataframe tbody tr th:only-of-type {\n",
              "        vertical-align: middle;\n",
              "    }\n",
              "\n",
              "    .dataframe tbody tr th {\n",
              "        vertical-align: top;\n",
              "    }\n",
              "\n",
              "    .dataframe thead th {\n",
              "        text-align: right;\n",
              "    }\n",
              "</style>\n",
              "<table border=\"1\" class=\"dataframe\">\n",
              "  <thead>\n",
              "    <tr style=\"text-align: right;\">\n",
              "      <th></th>\n",
              "      <th>text</th>\n",
              "      <th>output</th>\n",
              "    </tr>\n",
              "  </thead>\n",
              "  <tbody>\n",
              "    <tr>\n",
              "      <th>0</th>\n",
              "      <td>The dog makes child happy</td>\n",
              "      <td>1</td>\n",
              "    </tr>\n",
              "    <tr>\n",
              "      <th>1</th>\n",
              "      <td>The child makes dog happy</td>\n",
              "      <td>1</td>\n",
              "    </tr>\n",
              "    <tr>\n",
              "      <th>2</th>\n",
              "      <td>What makes child happy?</td>\n",
              "      <td>0</td>\n",
              "    </tr>\n",
              "    <tr>\n",
              "      <th>3</th>\n",
              "      <td>What makes dog happy?</td>\n",
              "      <td>0</td>\n",
              "    </tr>\n",
              "  </tbody>\n",
              "</table>\n",
              "</div>\n",
              "    <div class=\"colab-df-buttons\">\n",
              "\n",
              "  <div class=\"colab-df-container\">\n",
              "    <button class=\"colab-df-convert\" onclick=\"convertToInteractive('df-9b7e8e41-627a-4e19-9c92-2e7a343f2506')\"\n",
              "            title=\"Convert this dataframe to an interactive table.\"\n",
              "            style=\"display:none;\">\n",
              "\n",
              "  <svg xmlns=\"http://www.w3.org/2000/svg\" height=\"24px\" viewBox=\"0 -960 960 960\">\n",
              "    <path d=\"M120-120v-720h720v720H120Zm60-500h600v-160H180v160Zm220 220h160v-160H400v160Zm0 220h160v-160H400v160ZM180-400h160v-160H180v160Zm440 0h160v-160H620v160ZM180-180h160v-160H180v160Zm440 0h160v-160H620v160Z\"/>\n",
              "  </svg>\n",
              "    </button>\n",
              "\n",
              "  <style>\n",
              "    .colab-df-container {\n",
              "      display:flex;\n",
              "      gap: 12px;\n",
              "    }\n",
              "\n",
              "    .colab-df-convert {\n",
              "      background-color: #E8F0FE;\n",
              "      border: none;\n",
              "      border-radius: 50%;\n",
              "      cursor: pointer;\n",
              "      display: none;\n",
              "      fill: #1967D2;\n",
              "      height: 32px;\n",
              "      padding: 0 0 0 0;\n",
              "      width: 32px;\n",
              "    }\n",
              "\n",
              "    .colab-df-convert:hover {\n",
              "      background-color: #E2EBFA;\n",
              "      box-shadow: 0px 1px 2px rgba(60, 64, 67, 0.3), 0px 1px 3px 1px rgba(60, 64, 67, 0.15);\n",
              "      fill: #174EA6;\n",
              "    }\n",
              "\n",
              "    .colab-df-buttons div {\n",
              "      margin-bottom: 4px;\n",
              "    }\n",
              "\n",
              "    [theme=dark] .colab-df-convert {\n",
              "      background-color: #3B4455;\n",
              "      fill: #D2E3FC;\n",
              "    }\n",
              "\n",
              "    [theme=dark] .colab-df-convert:hover {\n",
              "      background-color: #434B5C;\n",
              "      box-shadow: 0px 1px 3px 1px rgba(0, 0, 0, 0.15);\n",
              "      filter: drop-shadow(0px 1px 2px rgba(0, 0, 0, 0.3));\n",
              "      fill: #FFFFFF;\n",
              "    }\n",
              "  </style>\n",
              "\n",
              "    <script>\n",
              "      const buttonEl =\n",
              "        document.querySelector('#df-9b7e8e41-627a-4e19-9c92-2e7a343f2506 button.colab-df-convert');\n",
              "      buttonEl.style.display =\n",
              "        google.colab.kernel.accessAllowed ? 'block' : 'none';\n",
              "\n",
              "      async function convertToInteractive(key) {\n",
              "        const element = document.querySelector('#df-9b7e8e41-627a-4e19-9c92-2e7a343f2506');\n",
              "        const dataTable =\n",
              "          await google.colab.kernel.invokeFunction('convertToInteractive',\n",
              "                                                    [key], {});\n",
              "        if (!dataTable) return;\n",
              "\n",
              "        const docLinkHtml = 'Like what you see? Visit the ' +\n",
              "          '<a target=\"_blank\" href=https://colab.research.google.com/notebooks/data_table.ipynb>data table notebook</a>'\n",
              "          + ' to learn more about interactive tables.';\n",
              "        element.innerHTML = '';\n",
              "        dataTable['output_type'] = 'display_data';\n",
              "        await google.colab.output.renderOutput(dataTable, element);\n",
              "        const docLink = document.createElement('div');\n",
              "        docLink.innerHTML = docLinkHtml;\n",
              "        element.appendChild(docLink);\n",
              "      }\n",
              "    </script>\n",
              "  </div>\n",
              "\n",
              "\n",
              "<div id=\"df-f7681e57-bc94-4638-ae9e-49c423b1beec\">\n",
              "  <button class=\"colab-df-quickchart\" onclick=\"quickchart('df-f7681e57-bc94-4638-ae9e-49c423b1beec')\"\n",
              "            title=\"Suggest charts\"\n",
              "            style=\"display:none;\">\n",
              "\n",
              "<svg xmlns=\"http://www.w3.org/2000/svg\" height=\"24px\"viewBox=\"0 0 24 24\"\n",
              "     width=\"24px\">\n",
              "    <g>\n",
              "        <path d=\"M19 3H5c-1.1 0-2 .9-2 2v14c0 1.1.9 2 2 2h14c1.1 0 2-.9 2-2V5c0-1.1-.9-2-2-2zM9 17H7v-7h2v7zm4 0h-2V7h2v10zm4 0h-2v-4h2v4z\"/>\n",
              "    </g>\n",
              "</svg>\n",
              "  </button>\n",
              "\n",
              "<style>\n",
              "  .colab-df-quickchart {\n",
              "      --bg-color: #E8F0FE;\n",
              "      --fill-color: #1967D2;\n",
              "      --hover-bg-color: #E2EBFA;\n",
              "      --hover-fill-color: #174EA6;\n",
              "      --disabled-fill-color: #AAA;\n",
              "      --disabled-bg-color: #DDD;\n",
              "  }\n",
              "\n",
              "  [theme=dark] .colab-df-quickchart {\n",
              "      --bg-color: #3B4455;\n",
              "      --fill-color: #D2E3FC;\n",
              "      --hover-bg-color: #434B5C;\n",
              "      --hover-fill-color: #FFFFFF;\n",
              "      --disabled-bg-color: #3B4455;\n",
              "      --disabled-fill-color: #666;\n",
              "  }\n",
              "\n",
              "  .colab-df-quickchart {\n",
              "    background-color: var(--bg-color);\n",
              "    border: none;\n",
              "    border-radius: 50%;\n",
              "    cursor: pointer;\n",
              "    display: none;\n",
              "    fill: var(--fill-color);\n",
              "    height: 32px;\n",
              "    padding: 0;\n",
              "    width: 32px;\n",
              "  }\n",
              "\n",
              "  .colab-df-quickchart:hover {\n",
              "    background-color: var(--hover-bg-color);\n",
              "    box-shadow: 0 1px 2px rgba(60, 64, 67, 0.3), 0 1px 3px 1px rgba(60, 64, 67, 0.15);\n",
              "    fill: var(--button-hover-fill-color);\n",
              "  }\n",
              "\n",
              "  .colab-df-quickchart-complete:disabled,\n",
              "  .colab-df-quickchart-complete:disabled:hover {\n",
              "    background-color: var(--disabled-bg-color);\n",
              "    fill: var(--disabled-fill-color);\n",
              "    box-shadow: none;\n",
              "  }\n",
              "\n",
              "  .colab-df-spinner {\n",
              "    border: 2px solid var(--fill-color);\n",
              "    border-color: transparent;\n",
              "    border-bottom-color: var(--fill-color);\n",
              "    animation:\n",
              "      spin 1s steps(1) infinite;\n",
              "  }\n",
              "\n",
              "  @keyframes spin {\n",
              "    0% {\n",
              "      border-color: transparent;\n",
              "      border-bottom-color: var(--fill-color);\n",
              "      border-left-color: var(--fill-color);\n",
              "    }\n",
              "    20% {\n",
              "      border-color: transparent;\n",
              "      border-left-color: var(--fill-color);\n",
              "      border-top-color: var(--fill-color);\n",
              "    }\n",
              "    30% {\n",
              "      border-color: transparent;\n",
              "      border-left-color: var(--fill-color);\n",
              "      border-top-color: var(--fill-color);\n",
              "      border-right-color: var(--fill-color);\n",
              "    }\n",
              "    40% {\n",
              "      border-color: transparent;\n",
              "      border-right-color: var(--fill-color);\n",
              "      border-top-color: var(--fill-color);\n",
              "    }\n",
              "    60% {\n",
              "      border-color: transparent;\n",
              "      border-right-color: var(--fill-color);\n",
              "    }\n",
              "    80% {\n",
              "      border-color: transparent;\n",
              "      border-right-color: var(--fill-color);\n",
              "      border-bottom-color: var(--fill-color);\n",
              "    }\n",
              "    90% {\n",
              "      border-color: transparent;\n",
              "      border-bottom-color: var(--fill-color);\n",
              "    }\n",
              "  }\n",
              "</style>\n",
              "\n",
              "  <script>\n",
              "    async function quickchart(key) {\n",
              "      const quickchartButtonEl =\n",
              "        document.querySelector('#' + key + ' button');\n",
              "      quickchartButtonEl.disabled = true;  // To prevent multiple clicks.\n",
              "      quickchartButtonEl.classList.add('colab-df-spinner');\n",
              "      try {\n",
              "        const charts = await google.colab.kernel.invokeFunction(\n",
              "            'suggestCharts', [key], {});\n",
              "      } catch (error) {\n",
              "        console.error('Error during call to suggestCharts:', error);\n",
              "      }\n",
              "      quickchartButtonEl.classList.remove('colab-df-spinner');\n",
              "      quickchartButtonEl.classList.add('colab-df-quickchart-complete');\n",
              "    }\n",
              "    (() => {\n",
              "      let quickchartButtonEl =\n",
              "        document.querySelector('#df-f7681e57-bc94-4638-ae9e-49c423b1beec button');\n",
              "      quickchartButtonEl.style.display =\n",
              "        google.colab.kernel.accessAllowed ? 'block' : 'none';\n",
              "    })();\n",
              "  </script>\n",
              "</div>\n",
              "\n",
              "  <div id=\"id_01bcbe7e-12b8-4367-90f9-217fa4a2361f\">\n",
              "    <style>\n",
              "      .colab-df-generate {\n",
              "        background-color: #E8F0FE;\n",
              "        border: none;\n",
              "        border-radius: 50%;\n",
              "        cursor: pointer;\n",
              "        display: none;\n",
              "        fill: #1967D2;\n",
              "        height: 32px;\n",
              "        padding: 0 0 0 0;\n",
              "        width: 32px;\n",
              "      }\n",
              "\n",
              "      .colab-df-generate:hover {\n",
              "        background-color: #E2EBFA;\n",
              "        box-shadow: 0px 1px 2px rgba(60, 64, 67, 0.3), 0px 1px 3px 1px rgba(60, 64, 67, 0.15);\n",
              "        fill: #174EA6;\n",
              "      }\n",
              "\n",
              "      [theme=dark] .colab-df-generate {\n",
              "        background-color: #3B4455;\n",
              "        fill: #D2E3FC;\n",
              "      }\n",
              "\n",
              "      [theme=dark] .colab-df-generate:hover {\n",
              "        background-color: #434B5C;\n",
              "        box-shadow: 0px 1px 3px 1px rgba(0, 0, 0, 0.15);\n",
              "        filter: drop-shadow(0px 1px 2px rgba(0, 0, 0, 0.3));\n",
              "        fill: #FFFFFF;\n",
              "      }\n",
              "    </style>\n",
              "    <button class=\"colab-df-generate\" onclick=\"generateWithVariable('df')\"\n",
              "            title=\"Generate code using this dataframe.\"\n",
              "            style=\"display:none;\">\n",
              "\n",
              "  <svg xmlns=\"http://www.w3.org/2000/svg\" height=\"24px\"viewBox=\"0 0 24 24\"\n",
              "       width=\"24px\">\n",
              "    <path d=\"M7,19H8.4L18.45,9,17,7.55,7,17.6ZM5,21V16.75L18.45,3.32a2,2,0,0,1,2.83,0l1.4,1.43a1.91,1.91,0,0,1,.58,1.4,1.91,1.91,0,0,1-.58,1.4L9.25,21ZM18.45,9,17,7.55Zm-12,3A5.31,5.31,0,0,0,4.9,8.1,5.31,5.31,0,0,0,1,6.5,5.31,5.31,0,0,0,4.9,4.9,5.31,5.31,0,0,0,6.5,1,5.31,5.31,0,0,0,8.1,4.9,5.31,5.31,0,0,0,12,6.5,5.46,5.46,0,0,0,6.5,12Z\"/>\n",
              "  </svg>\n",
              "    </button>\n",
              "    <script>\n",
              "      (() => {\n",
              "      const buttonEl =\n",
              "        document.querySelector('#id_01bcbe7e-12b8-4367-90f9-217fa4a2361f button.colab-df-generate');\n",
              "      buttonEl.style.display =\n",
              "        google.colab.kernel.accessAllowed ? 'block' : 'none';\n",
              "\n",
              "      buttonEl.onclick = () => {\n",
              "        google.colab.notebook.generateWithVariable('df');\n",
              "      }\n",
              "      })();\n",
              "    </script>\n",
              "  </div>\n",
              "\n",
              "    </div>\n",
              "  </div>\n"
            ],
            "application/vnd.google.colaboratory.intrinsic+json": {
              "type": "dataframe",
              "variable_name": "df",
              "summary": "{\n  \"name\": \"df\",\n  \"rows\": 4,\n  \"fields\": [\n    {\n      \"column\": \"text\",\n      \"properties\": {\n        \"dtype\": \"string\",\n        \"num_unique_values\": 4,\n        \"samples\": [\n          \"The child makes dog happy\",\n          \"What makes dog happy?\",\n          \"The dog makes child happy\"\n        ],\n        \"semantic_type\": \"\",\n        \"description\": \"\"\n      }\n    },\n    {\n      \"column\": \"output\",\n      \"properties\": {\n        \"dtype\": \"number\",\n        \"std\": 0,\n        \"min\": 0,\n        \"max\": 1,\n        \"num_unique_values\": 2,\n        \"samples\": [\n          0,\n          1\n        ],\n        \"semantic_type\": \"\",\n        \"description\": \"\"\n      }\n    }\n  ]\n}"
            }
          },
          "metadata": {},
          "execution_count": 2
        }
      ]
    },
    {
      "cell_type": "code",
      "source": [
        "from sklearn.feature_extraction.text import CountVectorizer\n",
        "cv = CountVectorizer()"
      ],
      "metadata": {
        "id": "X3gBDoLlZ9Ls"
      },
      "execution_count": 3,
      "outputs": []
    },
    {
      "cell_type": "code",
      "source": [
        "bag_of_words = cv.fit_transform(df[\"text\"])"
      ],
      "metadata": {
        "id": "a-filvRuaIL6"
      },
      "execution_count": 4,
      "outputs": []
    },
    {
      "cell_type": "code",
      "source": [
        "# to print vocabulary\n",
        "print(cv.vocabulary_)"
      ],
      "metadata": {
        "colab": {
          "base_uri": "https://localhost:8080/"
        },
        "id": "OwvGhvevaTIX",
        "outputId": "fc4412c6-f437-4c7d-ffdc-c55945eed055"
      },
      "execution_count": 6,
      "outputs": [
        {
          "output_type": "stream",
          "name": "stdout",
          "text": [
            "{'the': 4, 'dog': 1, 'makes': 3, 'child': 0, 'happy': 2, 'what': 5}\n"
          ]
        }
      ]
    },
    {
      "cell_type": "code",
      "source": [
        "bag_of_words.toarray()"
      ],
      "metadata": {
        "colab": {
          "base_uri": "https://localhost:8080/"
        },
        "id": "S9_7q8DparNJ",
        "outputId": "25c2202d-7cfe-4c4b-b2b8-2673c9efe49d"
      },
      "execution_count": 9,
      "outputs": [
        {
          "output_type": "execute_result",
          "data": {
            "text/plain": [
              "array([[1, 1, 1, 1, 1, 0],\n",
              "       [1, 1, 1, 1, 1, 0],\n",
              "       [1, 0, 1, 1, 0, 1],\n",
              "       [0, 1, 1, 1, 0, 1]])"
            ]
          },
          "metadata": {},
          "execution_count": 9
        }
      ]
    },
    {
      "cell_type": "code",
      "source": [
        "print(bag_of_words.toarray())"
      ],
      "metadata": {
        "colab": {
          "base_uri": "https://localhost:8080/"
        },
        "id": "5GBGECHmaaYE",
        "outputId": "0f005e41-bf24-4424-ffbf-92fb25d78b3e"
      },
      "execution_count": 10,
      "outputs": [
        {
          "output_type": "stream",
          "name": "stdout",
          "text": [
            "[[1 1 1 1 1 0]\n",
            " [1 1 1 1 1 0]\n",
            " [1 0 1 1 0 1]\n",
            " [0 1 1 1 0 1]]\n"
          ]
        }
      ]
    },
    {
      "cell_type": "code",
      "source": [
        "df['text'][2]"
      ],
      "metadata": {
        "colab": {
          "base_uri": "https://localhost:8080/",
          "height": 36
        },
        "id": "NSpzor4fa0wu",
        "outputId": "cd6e8d4e-2057-4898-b99d-9ed35e9410dd"
      },
      "execution_count": 13,
      "outputs": [
        {
          "output_type": "execute_result",
          "data": {
            "text/plain": [
              "'What makes child happy?'"
            ],
            "application/vnd.google.colaboratory.intrinsic+json": {
              "type": "string"
            }
          },
          "metadata": {},
          "execution_count": 13
        }
      ]
    },
    {
      "cell_type": "code",
      "source": [
        "cv.transform([df['text'][2]]).toarray()"
      ],
      "metadata": {
        "colab": {
          "base_uri": "https://localhost:8080/"
        },
        "id": "emfxVncTagBs",
        "outputId": "a95a96d1-7d94-4c23-bf51-0146674fdba7"
      },
      "execution_count": 14,
      "outputs": [
        {
          "output_type": "execute_result",
          "data": {
            "text/plain": [
              "array([[1, 0, 1, 1, 0, 1]])"
            ]
          },
          "metadata": {},
          "execution_count": 14
        }
      ]
    },
    {
      "cell_type": "markdown",
      "source": [
        "# N-grams"
      ],
      "metadata": {
        "id": "i-6Xt-WLbYAB"
      }
    },
    {
      "cell_type": "code",
      "source": [
        "df = pd.DataFrame({\"text\":[\"The dog makes child happy\",\n",
        "                           \"The child makes dog happy\",\n",
        "                           \"What makes child happy?\",\n",
        "                           \"What makes dog happy?\"],\n",
        "                   \"output\":[1,1,0,0]})"
      ],
      "metadata": {
        "id": "Tg7q7rYaazsA"
      },
      "execution_count": 15,
      "outputs": []
    },
    {
      "cell_type": "code",
      "source": [
        "#BI gram\n",
        "from sklearn.feature_extraction.text import CountVectorizer\n",
        "cv = CountVectorizer(ngram_range=(2,2))"
      ],
      "metadata": {
        "id": "PxmKXaFcbuKP"
      },
      "execution_count": 23,
      "outputs": []
    },
    {
      "cell_type": "code",
      "source": [
        "bag_of_words = cv.fit_transform(df[\"text\"])"
      ],
      "metadata": {
        "id": "Owh5Gt8Zbxdj"
      },
      "execution_count": 17,
      "outputs": []
    },
    {
      "cell_type": "code",
      "source": [
        "# to print vocabulary\n",
        "print(cv.vocabulary_)"
      ],
      "metadata": {
        "colab": {
          "base_uri": "https://localhost:8080/"
        },
        "id": "-UJagC7UbzT-",
        "outputId": "23daecff-abe7-4721-f981-8d44e8f84f77"
      },
      "execution_count": 18,
      "outputs": [
        {
          "output_type": "stream",
          "name": "stdout",
          "text": [
            "{'the dog': 7, 'dog makes': 3, 'makes child': 4, 'child happy': 0, 'the child': 6, 'child makes': 1, 'makes dog': 5, 'dog happy': 2, 'what makes': 8}\n"
          ]
        }
      ]
    },
    {
      "cell_type": "code",
      "source": [
        "bag_of_words.toarray()"
      ],
      "metadata": {
        "colab": {
          "base_uri": "https://localhost:8080/"
        },
        "id": "vULg7jGtb1BU",
        "outputId": "ccbfdd09-e4f8-460f-ace0-af679a4c520a"
      },
      "execution_count": 19,
      "outputs": [
        {
          "output_type": "execute_result",
          "data": {
            "text/plain": [
              "array([[1, 0, 0, 1, 1, 0, 0, 1, 0],\n",
              "       [0, 1, 1, 0, 0, 1, 1, 0, 0],\n",
              "       [1, 0, 0, 0, 1, 0, 0, 0, 1],\n",
              "       [0, 0, 1, 0, 0, 1, 0, 0, 1]])"
            ]
          },
          "metadata": {},
          "execution_count": 19
        }
      ]
    },
    {
      "cell_type": "code",
      "source": [
        "print(bag_of_words.toarray())"
      ],
      "metadata": {
        "colab": {
          "base_uri": "https://localhost:8080/"
        },
        "id": "XxeoxJNZb485",
        "outputId": "13929ed0-7e99-431b-8401-189ea53f1a45"
      },
      "execution_count": 20,
      "outputs": [
        {
          "output_type": "stream",
          "name": "stdout",
          "text": [
            "[[1 0 0 1 1 0 0 1 0]\n",
            " [0 1 1 0 0 1 1 0 0]\n",
            " [1 0 0 0 1 0 0 0 1]\n",
            " [0 0 1 0 0 1 0 0 1]]\n"
          ]
        }
      ]
    },
    {
      "cell_type": "code",
      "source": [
        "df['text'][2]"
      ],
      "metadata": {
        "colab": {
          "base_uri": "https://localhost:8080/",
          "height": 36
        },
        "id": "M7qq2CXRb6sp",
        "outputId": "60aa541b-3576-4b9d-fe10-76ad9834e088"
      },
      "execution_count": 21,
      "outputs": [
        {
          "output_type": "execute_result",
          "data": {
            "text/plain": [
              "'What makes child happy?'"
            ],
            "application/vnd.google.colaboratory.intrinsic+json": {
              "type": "string"
            }
          },
          "metadata": {},
          "execution_count": 21
        }
      ]
    },
    {
      "cell_type": "code",
      "source": [
        "cv.transform([df['text'][2]]).toarray()"
      ],
      "metadata": {
        "colab": {
          "base_uri": "https://localhost:8080/"
        },
        "id": "61M70CHKb8nv",
        "outputId": "1d4013d9-555b-45eb-e97d-596c3f5d9f22"
      },
      "execution_count": 22,
      "outputs": [
        {
          "output_type": "execute_result",
          "data": {
            "text/plain": [
              "array([[1, 0, 0, 0, 1, 0, 0, 0, 1]])"
            ]
          },
          "metadata": {},
          "execution_count": 22
        }
      ]
    },
    {
      "cell_type": "code",
      "source": [
        "# Ti gram\n",
        "from sklearn.feature_extraction.text import CountVectorizer\n",
        "cv = CountVectorizer(ngram_range=(3,3))"
      ],
      "metadata": {
        "id": "if7ky35_cd-6"
      },
      "execution_count": 24,
      "outputs": []
    },
    {
      "cell_type": "code",
      "source": [
        "bag_of_words = cv.fit_transform(df[\"text\"])"
      ],
      "metadata": {
        "id": "pqSfYNnCchPv"
      },
      "execution_count": 25,
      "outputs": []
    },
    {
      "cell_type": "code",
      "source": [
        "# to print vocabulary\n",
        "print(cv.vocabulary_)"
      ],
      "metadata": {
        "colab": {
          "base_uri": "https://localhost:8080/"
        },
        "id": "Yu7cAPcsck-o",
        "outputId": "ada22b4c-c104-404c-92e2-9fe58dc0328d"
      },
      "execution_count": 26,
      "outputs": [
        {
          "output_type": "stream",
          "name": "stdout",
          "text": [
            "{'the dog makes': 5, 'dog makes child': 1, 'makes child happy': 2, 'the child makes': 4, 'child makes dog': 0, 'makes dog happy': 3, 'what makes child': 6, 'what makes dog': 7}\n"
          ]
        }
      ]
    },
    {
      "cell_type": "code",
      "source": [
        "bag_of_words.toarray()"
      ],
      "metadata": {
        "colab": {
          "base_uri": "https://localhost:8080/"
        },
        "id": "FHy6FY6Ecm2v",
        "outputId": "dc0d2275-5c06-482c-9b24-248df88e2322"
      },
      "execution_count": 27,
      "outputs": [
        {
          "output_type": "execute_result",
          "data": {
            "text/plain": [
              "array([[0, 1, 1, 0, 0, 1, 0, 0],\n",
              "       [1, 0, 0, 1, 1, 0, 0, 0],\n",
              "       [0, 0, 1, 0, 0, 0, 1, 0],\n",
              "       [0, 0, 0, 1, 0, 0, 0, 1]])"
            ]
          },
          "metadata": {},
          "execution_count": 27
        }
      ]
    },
    {
      "cell_type": "code",
      "source": [
        "print(bag_of_words.toarray())"
      ],
      "metadata": {
        "colab": {
          "base_uri": "https://localhost:8080/"
        },
        "id": "FhkIm1zQcphY",
        "outputId": "b4572ab9-ff91-4bb3-e94e-68a00663d451"
      },
      "execution_count": 28,
      "outputs": [
        {
          "output_type": "stream",
          "name": "stdout",
          "text": [
            "[[0 1 1 0 0 1 0 0]\n",
            " [1 0 0 1 1 0 0 0]\n",
            " [0 0 1 0 0 0 1 0]\n",
            " [0 0 0 1 0 0 0 1]]\n"
          ]
        }
      ]
    },
    {
      "cell_type": "code",
      "source": [
        "df['text'][2]"
      ],
      "metadata": {
        "colab": {
          "base_uri": "https://localhost:8080/",
          "height": 36
        },
        "id": "abcP1SdTcr7E",
        "outputId": "f2eb1a78-1823-4d93-d99d-99816a2051fa"
      },
      "execution_count": 29,
      "outputs": [
        {
          "output_type": "execute_result",
          "data": {
            "text/plain": [
              "'What makes child happy?'"
            ],
            "application/vnd.google.colaboratory.intrinsic+json": {
              "type": "string"
            }
          },
          "metadata": {},
          "execution_count": 29
        }
      ]
    },
    {
      "cell_type": "code",
      "source": [
        "cv.transform([df['text'][2]]).toarray()"
      ],
      "metadata": {
        "colab": {
          "base_uri": "https://localhost:8080/"
        },
        "id": "h4Ieu7S6ctz2",
        "outputId": "0f6c2180-1c6b-40dd-a0b9-0732780464ef"
      },
      "execution_count": 30,
      "outputs": [
        {
          "output_type": "execute_result",
          "data": {
            "text/plain": [
              "array([[0, 0, 1, 0, 0, 0, 1, 0]])"
            ]
          },
          "metadata": {},
          "execution_count": 30
        }
      ]
    },
    {
      "cell_type": "markdown",
      "source": [
        "# TFIDF (Term frequency - inverse document frequency)"
      ],
      "metadata": {
        "id": "sY0nTeO-cy56"
      }
    },
    {
      "cell_type": "code",
      "source": [
        "df = pd.DataFrame({\"text\":[\"The dog makes child happy\",\n",
        "                           \"The child makes dog happy\",\n",
        "                           \"What makes child happy?\",\n",
        "                           \"What makes dog happy?\"],\n",
        "                   \"output\":[1,1,0,0]})\n",
        "df"
      ],
      "metadata": {
        "colab": {
          "base_uri": "https://localhost:8080/",
          "height": 175
        },
        "id": "aKLsgwRGcyZO",
        "outputId": "14d09c32-20da-4a90-8618-df18068edd01"
      },
      "execution_count": 32,
      "outputs": [
        {
          "output_type": "execute_result",
          "data": {
            "text/plain": [
              "                        text  output\n",
              "0  The dog makes child happy       1\n",
              "1  The child makes dog happy       1\n",
              "2    What makes child happy?       0\n",
              "3      What makes dog happy?       0"
            ],
            "text/html": [
              "\n",
              "  <div id=\"df-3b5aec3c-4e93-45f8-bca4-8bed79d19401\" class=\"colab-df-container\">\n",
              "    <div>\n",
              "<style scoped>\n",
              "    .dataframe tbody tr th:only-of-type {\n",
              "        vertical-align: middle;\n",
              "    }\n",
              "\n",
              "    .dataframe tbody tr th {\n",
              "        vertical-align: top;\n",
              "    }\n",
              "\n",
              "    .dataframe thead th {\n",
              "        text-align: right;\n",
              "    }\n",
              "</style>\n",
              "<table border=\"1\" class=\"dataframe\">\n",
              "  <thead>\n",
              "    <tr style=\"text-align: right;\">\n",
              "      <th></th>\n",
              "      <th>text</th>\n",
              "      <th>output</th>\n",
              "    </tr>\n",
              "  </thead>\n",
              "  <tbody>\n",
              "    <tr>\n",
              "      <th>0</th>\n",
              "      <td>The dog makes child happy</td>\n",
              "      <td>1</td>\n",
              "    </tr>\n",
              "    <tr>\n",
              "      <th>1</th>\n",
              "      <td>The child makes dog happy</td>\n",
              "      <td>1</td>\n",
              "    </tr>\n",
              "    <tr>\n",
              "      <th>2</th>\n",
              "      <td>What makes child happy?</td>\n",
              "      <td>0</td>\n",
              "    </tr>\n",
              "    <tr>\n",
              "      <th>3</th>\n",
              "      <td>What makes dog happy?</td>\n",
              "      <td>0</td>\n",
              "    </tr>\n",
              "  </tbody>\n",
              "</table>\n",
              "</div>\n",
              "    <div class=\"colab-df-buttons\">\n",
              "\n",
              "  <div class=\"colab-df-container\">\n",
              "    <button class=\"colab-df-convert\" onclick=\"convertToInteractive('df-3b5aec3c-4e93-45f8-bca4-8bed79d19401')\"\n",
              "            title=\"Convert this dataframe to an interactive table.\"\n",
              "            style=\"display:none;\">\n",
              "\n",
              "  <svg xmlns=\"http://www.w3.org/2000/svg\" height=\"24px\" viewBox=\"0 -960 960 960\">\n",
              "    <path d=\"M120-120v-720h720v720H120Zm60-500h600v-160H180v160Zm220 220h160v-160H400v160Zm0 220h160v-160H400v160ZM180-400h160v-160H180v160Zm440 0h160v-160H620v160ZM180-180h160v-160H180v160Zm440 0h160v-160H620v160Z\"/>\n",
              "  </svg>\n",
              "    </button>\n",
              "\n",
              "  <style>\n",
              "    .colab-df-container {\n",
              "      display:flex;\n",
              "      gap: 12px;\n",
              "    }\n",
              "\n",
              "    .colab-df-convert {\n",
              "      background-color: #E8F0FE;\n",
              "      border: none;\n",
              "      border-radius: 50%;\n",
              "      cursor: pointer;\n",
              "      display: none;\n",
              "      fill: #1967D2;\n",
              "      height: 32px;\n",
              "      padding: 0 0 0 0;\n",
              "      width: 32px;\n",
              "    }\n",
              "\n",
              "    .colab-df-convert:hover {\n",
              "      background-color: #E2EBFA;\n",
              "      box-shadow: 0px 1px 2px rgba(60, 64, 67, 0.3), 0px 1px 3px 1px rgba(60, 64, 67, 0.15);\n",
              "      fill: #174EA6;\n",
              "    }\n",
              "\n",
              "    .colab-df-buttons div {\n",
              "      margin-bottom: 4px;\n",
              "    }\n",
              "\n",
              "    [theme=dark] .colab-df-convert {\n",
              "      background-color: #3B4455;\n",
              "      fill: #D2E3FC;\n",
              "    }\n",
              "\n",
              "    [theme=dark] .colab-df-convert:hover {\n",
              "      background-color: #434B5C;\n",
              "      box-shadow: 0px 1px 3px 1px rgba(0, 0, 0, 0.15);\n",
              "      filter: drop-shadow(0px 1px 2px rgba(0, 0, 0, 0.3));\n",
              "      fill: #FFFFFF;\n",
              "    }\n",
              "  </style>\n",
              "\n",
              "    <script>\n",
              "      const buttonEl =\n",
              "        document.querySelector('#df-3b5aec3c-4e93-45f8-bca4-8bed79d19401 button.colab-df-convert');\n",
              "      buttonEl.style.display =\n",
              "        google.colab.kernel.accessAllowed ? 'block' : 'none';\n",
              "\n",
              "      async function convertToInteractive(key) {\n",
              "        const element = document.querySelector('#df-3b5aec3c-4e93-45f8-bca4-8bed79d19401');\n",
              "        const dataTable =\n",
              "          await google.colab.kernel.invokeFunction('convertToInteractive',\n",
              "                                                    [key], {});\n",
              "        if (!dataTable) return;\n",
              "\n",
              "        const docLinkHtml = 'Like what you see? Visit the ' +\n",
              "          '<a target=\"_blank\" href=https://colab.research.google.com/notebooks/data_table.ipynb>data table notebook</a>'\n",
              "          + ' to learn more about interactive tables.';\n",
              "        element.innerHTML = '';\n",
              "        dataTable['output_type'] = 'display_data';\n",
              "        await google.colab.output.renderOutput(dataTable, element);\n",
              "        const docLink = document.createElement('div');\n",
              "        docLink.innerHTML = docLinkHtml;\n",
              "        element.appendChild(docLink);\n",
              "      }\n",
              "    </script>\n",
              "  </div>\n",
              "\n",
              "\n",
              "<div id=\"df-17a3c791-c3df-458d-8646-87632e0f17df\">\n",
              "  <button class=\"colab-df-quickchart\" onclick=\"quickchart('df-17a3c791-c3df-458d-8646-87632e0f17df')\"\n",
              "            title=\"Suggest charts\"\n",
              "            style=\"display:none;\">\n",
              "\n",
              "<svg xmlns=\"http://www.w3.org/2000/svg\" height=\"24px\"viewBox=\"0 0 24 24\"\n",
              "     width=\"24px\">\n",
              "    <g>\n",
              "        <path d=\"M19 3H5c-1.1 0-2 .9-2 2v14c0 1.1.9 2 2 2h14c1.1 0 2-.9 2-2V5c0-1.1-.9-2-2-2zM9 17H7v-7h2v7zm4 0h-2V7h2v10zm4 0h-2v-4h2v4z\"/>\n",
              "    </g>\n",
              "</svg>\n",
              "  </button>\n",
              "\n",
              "<style>\n",
              "  .colab-df-quickchart {\n",
              "      --bg-color: #E8F0FE;\n",
              "      --fill-color: #1967D2;\n",
              "      --hover-bg-color: #E2EBFA;\n",
              "      --hover-fill-color: #174EA6;\n",
              "      --disabled-fill-color: #AAA;\n",
              "      --disabled-bg-color: #DDD;\n",
              "  }\n",
              "\n",
              "  [theme=dark] .colab-df-quickchart {\n",
              "      --bg-color: #3B4455;\n",
              "      --fill-color: #D2E3FC;\n",
              "      --hover-bg-color: #434B5C;\n",
              "      --hover-fill-color: #FFFFFF;\n",
              "      --disabled-bg-color: #3B4455;\n",
              "      --disabled-fill-color: #666;\n",
              "  }\n",
              "\n",
              "  .colab-df-quickchart {\n",
              "    background-color: var(--bg-color);\n",
              "    border: none;\n",
              "    border-radius: 50%;\n",
              "    cursor: pointer;\n",
              "    display: none;\n",
              "    fill: var(--fill-color);\n",
              "    height: 32px;\n",
              "    padding: 0;\n",
              "    width: 32px;\n",
              "  }\n",
              "\n",
              "  .colab-df-quickchart:hover {\n",
              "    background-color: var(--hover-bg-color);\n",
              "    box-shadow: 0 1px 2px rgba(60, 64, 67, 0.3), 0 1px 3px 1px rgba(60, 64, 67, 0.15);\n",
              "    fill: var(--button-hover-fill-color);\n",
              "  }\n",
              "\n",
              "  .colab-df-quickchart-complete:disabled,\n",
              "  .colab-df-quickchart-complete:disabled:hover {\n",
              "    background-color: var(--disabled-bg-color);\n",
              "    fill: var(--disabled-fill-color);\n",
              "    box-shadow: none;\n",
              "  }\n",
              "\n",
              "  .colab-df-spinner {\n",
              "    border: 2px solid var(--fill-color);\n",
              "    border-color: transparent;\n",
              "    border-bottom-color: var(--fill-color);\n",
              "    animation:\n",
              "      spin 1s steps(1) infinite;\n",
              "  }\n",
              "\n",
              "  @keyframes spin {\n",
              "    0% {\n",
              "      border-color: transparent;\n",
              "      border-bottom-color: var(--fill-color);\n",
              "      border-left-color: var(--fill-color);\n",
              "    }\n",
              "    20% {\n",
              "      border-color: transparent;\n",
              "      border-left-color: var(--fill-color);\n",
              "      border-top-color: var(--fill-color);\n",
              "    }\n",
              "    30% {\n",
              "      border-color: transparent;\n",
              "      border-left-color: var(--fill-color);\n",
              "      border-top-color: var(--fill-color);\n",
              "      border-right-color: var(--fill-color);\n",
              "    }\n",
              "    40% {\n",
              "      border-color: transparent;\n",
              "      border-right-color: var(--fill-color);\n",
              "      border-top-color: var(--fill-color);\n",
              "    }\n",
              "    60% {\n",
              "      border-color: transparent;\n",
              "      border-right-color: var(--fill-color);\n",
              "    }\n",
              "    80% {\n",
              "      border-color: transparent;\n",
              "      border-right-color: var(--fill-color);\n",
              "      border-bottom-color: var(--fill-color);\n",
              "    }\n",
              "    90% {\n",
              "      border-color: transparent;\n",
              "      border-bottom-color: var(--fill-color);\n",
              "    }\n",
              "  }\n",
              "</style>\n",
              "\n",
              "  <script>\n",
              "    async function quickchart(key) {\n",
              "      const quickchartButtonEl =\n",
              "        document.querySelector('#' + key + ' button');\n",
              "      quickchartButtonEl.disabled = true;  // To prevent multiple clicks.\n",
              "      quickchartButtonEl.classList.add('colab-df-spinner');\n",
              "      try {\n",
              "        const charts = await google.colab.kernel.invokeFunction(\n",
              "            'suggestCharts', [key], {});\n",
              "      } catch (error) {\n",
              "        console.error('Error during call to suggestCharts:', error);\n",
              "      }\n",
              "      quickchartButtonEl.classList.remove('colab-df-spinner');\n",
              "      quickchartButtonEl.classList.add('colab-df-quickchart-complete');\n",
              "    }\n",
              "    (() => {\n",
              "      let quickchartButtonEl =\n",
              "        document.querySelector('#df-17a3c791-c3df-458d-8646-87632e0f17df button');\n",
              "      quickchartButtonEl.style.display =\n",
              "        google.colab.kernel.accessAllowed ? 'block' : 'none';\n",
              "    })();\n",
              "  </script>\n",
              "</div>\n",
              "\n",
              "  <div id=\"id_30d69425-5330-4abf-8059-9166107f03cd\">\n",
              "    <style>\n",
              "      .colab-df-generate {\n",
              "        background-color: #E8F0FE;\n",
              "        border: none;\n",
              "        border-radius: 50%;\n",
              "        cursor: pointer;\n",
              "        display: none;\n",
              "        fill: #1967D2;\n",
              "        height: 32px;\n",
              "        padding: 0 0 0 0;\n",
              "        width: 32px;\n",
              "      }\n",
              "\n",
              "      .colab-df-generate:hover {\n",
              "        background-color: #E2EBFA;\n",
              "        box-shadow: 0px 1px 2px rgba(60, 64, 67, 0.3), 0px 1px 3px 1px rgba(60, 64, 67, 0.15);\n",
              "        fill: #174EA6;\n",
              "      }\n",
              "\n",
              "      [theme=dark] .colab-df-generate {\n",
              "        background-color: #3B4455;\n",
              "        fill: #D2E3FC;\n",
              "      }\n",
              "\n",
              "      [theme=dark] .colab-df-generate:hover {\n",
              "        background-color: #434B5C;\n",
              "        box-shadow: 0px 1px 3px 1px rgba(0, 0, 0, 0.15);\n",
              "        filter: drop-shadow(0px 1px 2px rgba(0, 0, 0, 0.3));\n",
              "        fill: #FFFFFF;\n",
              "      }\n",
              "    </style>\n",
              "    <button class=\"colab-df-generate\" onclick=\"generateWithVariable('df')\"\n",
              "            title=\"Generate code using this dataframe.\"\n",
              "            style=\"display:none;\">\n",
              "\n",
              "  <svg xmlns=\"http://www.w3.org/2000/svg\" height=\"24px\"viewBox=\"0 0 24 24\"\n",
              "       width=\"24px\">\n",
              "    <path d=\"M7,19H8.4L18.45,9,17,7.55,7,17.6ZM5,21V16.75L18.45,3.32a2,2,0,0,1,2.83,0l1.4,1.43a1.91,1.91,0,0,1,.58,1.4,1.91,1.91,0,0,1-.58,1.4L9.25,21ZM18.45,9,17,7.55Zm-12,3A5.31,5.31,0,0,0,4.9,8.1,5.31,5.31,0,0,0,1,6.5,5.31,5.31,0,0,0,4.9,4.9,5.31,5.31,0,0,0,6.5,1,5.31,5.31,0,0,0,8.1,4.9,5.31,5.31,0,0,0,12,6.5,5.46,5.46,0,0,0,6.5,12Z\"/>\n",
              "  </svg>\n",
              "    </button>\n",
              "    <script>\n",
              "      (() => {\n",
              "      const buttonEl =\n",
              "        document.querySelector('#id_30d69425-5330-4abf-8059-9166107f03cd button.colab-df-generate');\n",
              "      buttonEl.style.display =\n",
              "        google.colab.kernel.accessAllowed ? 'block' : 'none';\n",
              "\n",
              "      buttonEl.onclick = () => {\n",
              "        google.colab.notebook.generateWithVariable('df');\n",
              "      }\n",
              "      })();\n",
              "    </script>\n",
              "  </div>\n",
              "\n",
              "    </div>\n",
              "  </div>\n"
            ],
            "application/vnd.google.colaboratory.intrinsic+json": {
              "type": "dataframe",
              "variable_name": "df",
              "summary": "{\n  \"name\": \"df\",\n  \"rows\": 4,\n  \"fields\": [\n    {\n      \"column\": \"text\",\n      \"properties\": {\n        \"dtype\": \"string\",\n        \"num_unique_values\": 4,\n        \"samples\": [\n          \"The child makes dog happy\",\n          \"What makes dog happy?\",\n          \"The dog makes child happy\"\n        ],\n        \"semantic_type\": \"\",\n        \"description\": \"\"\n      }\n    },\n    {\n      \"column\": \"output\",\n      \"properties\": {\n        \"dtype\": \"number\",\n        \"std\": 0,\n        \"min\": 0,\n        \"max\": 1,\n        \"num_unique_values\": 2,\n        \"samples\": [\n          0,\n          1\n        ],\n        \"semantic_type\": \"\",\n        \"description\": \"\"\n      }\n    }\n  ]\n}"
            }
          },
          "metadata": {},
          "execution_count": 32
        }
      ]
    },
    {
      "cell_type": "code",
      "source": [
        "from sklearn.feature_extraction.text import TfidfVectorizer\n",
        "tfid= TfidfVectorizer()"
      ],
      "metadata": {
        "id": "G1uoWaF8c_aq"
      },
      "execution_count": 34,
      "outputs": []
    },
    {
      "cell_type": "code",
      "source": [
        "vector = tfid.fit_transform(df['text']).toarray()\n",
        "vector"
      ],
      "metadata": {
        "colab": {
          "base_uri": "https://localhost:8080/"
        },
        "id": "PVXv1PL1dBN7",
        "outputId": "5e804cd6-3b64-4e6e-fc99-5502abe473ce"
      },
      "execution_count": 40,
      "outputs": [
        {
          "output_type": "execute_result",
          "data": {
            "text/plain": [
              "array([[0.45349057, 0.45349057, 0.37075826, 0.37075826, 0.56015108,\n",
              "        0.        ],\n",
              "       [0.45349057, 0.45349057, 0.37075826, 0.37075826, 0.56015108,\n",
              "        0.        ],\n",
              "       [0.50881901, 0.        , 0.41599288, 0.41599288, 0.        ,\n",
              "        0.6284927 ],\n",
              "       [0.        , 0.50881901, 0.41599288, 0.41599288, 0.        ,\n",
              "        0.6284927 ]])"
            ]
          },
          "metadata": {},
          "execution_count": 40
        }
      ]
    },
    {
      "cell_type": "code",
      "source": [
        "print(tfid.idf_)"
      ],
      "metadata": {
        "colab": {
          "base_uri": "https://localhost:8080/"
        },
        "id": "kK0IOkKTdDbH",
        "outputId": "c7fbc2f1-5562-472b-a943-9f294d0dab69"
      },
      "execution_count": 41,
      "outputs": [
        {
          "output_type": "stream",
          "name": "stdout",
          "text": [
            "[1.22314355 1.22314355 1.         1.         1.51082562 1.51082562]\n"
          ]
        }
      ]
    },
    {
      "cell_type": "markdown",
      "source": [
        "# Word2Vec"
      ],
      "metadata": {
        "id": "kpyDBMPWdWHI"
      }
    },
    {
      "cell_type": "code",
      "source": [
        "import gensim\n",
        "import os"
      ],
      "metadata": {
        "id": "WT5dfOsVdJgU"
      },
      "execution_count": 42,
      "outputs": []
    },
    {
      "cell_type": "code",
      "source": [
        "!pip install --upgrade gensim --user\n"
      ],
      "metadata": {
        "colab": {
          "base_uri": "https://localhost:8080/"
        },
        "id": "HJKpQpEverxd",
        "outputId": "8f8b2326-b5ec-4cdb-db3c-ff9fc52b1185"
      },
      "execution_count": 43,
      "outputs": [
        {
          "output_type": "stream",
          "name": "stdout",
          "text": [
            "Requirement already satisfied: gensim in /usr/local/lib/python3.10/dist-packages (4.3.3)\n",
            "Requirement already satisfied: numpy<2.0,>=1.18.5 in /usr/local/lib/python3.10/dist-packages (from gensim) (1.26.4)\n",
            "Requirement already satisfied: scipy<1.14.0,>=1.7.0 in /usr/local/lib/python3.10/dist-packages (from gensim) (1.13.1)\n",
            "Requirement already satisfied: smart-open>=1.8.1 in /usr/local/lib/python3.10/dist-packages (from gensim) (7.0.5)\n",
            "Requirement already satisfied: wrapt in /usr/local/lib/python3.10/dist-packages (from smart-open>=1.8.1->gensim) (1.16.0)\n"
          ]
        }
      ]
    },
    {
      "cell_type": "code",
      "source": [
        "from nltk import sent_tokenize\n",
        "from gensim.utils import simple_preprocess\n",
        "import nltk\n",
        "nltk.download('punkt')"
      ],
      "metadata": {
        "colab": {
          "base_uri": "https://localhost:8080/"
        },
        "id": "e-mMsr7keyEL",
        "outputId": "167cfb68-3f2d-4e23-8da5-a56f00541d76"
      },
      "execution_count": 44,
      "outputs": [
        {
          "output_type": "stream",
          "name": "stderr",
          "text": [
            "[nltk_data] Downloading package punkt to /root/nltk_data...\n",
            "[nltk_data]   Unzipping tokenizers/punkt.zip.\n"
          ]
        },
        {
          "output_type": "execute_result",
          "data": {
            "text/plain": [
              "True"
            ]
          },
          "metadata": {},
          "execution_count": 44
        }
      ]
    },
    {
      "cell_type": "code",
      "source": [
        "data = \"/content/simpsons_dataset.csv\"\n"
      ],
      "metadata": {
        "id": "lhr3K7wve882"
      },
      "execution_count": 46,
      "outputs": []
    },
    {
      "cell_type": "code",
      "source": [
        "# Load the CSV file into a DataFrame\n",
        "df = pd.read_csv('/content/data.csv')\n",
        "df"
      ],
      "metadata": {
        "colab": {
          "base_uri": "https://localhost:8080/",
          "height": 423
        },
        "id": "I7unl491e0xk",
        "outputId": "9891985f-3867-490e-f06a-1a1138bb3d46"
      },
      "execution_count": 53,
      "outputs": [
        {
          "output_type": "execute_result",
          "data": {
            "text/plain": [
              "             raw_character_text  \\\n",
              "0                   Miss Hoover   \n",
              "1                  Lisa Simpson   \n",
              "2                   Miss Hoover   \n",
              "3                  Lisa Simpson   \n",
              "4       Edna Krabappel-Flanders   \n",
              "...                         ...   \n",
              "158309              Miss Hoover   \n",
              "158310              Miss Hoover   \n",
              "158311              Miss Hoover   \n",
              "158312             Ralph Wiggum   \n",
              "158313                    JANEY   \n",
              "\n",
              "                                             spoken_words  \n",
              "0       No, actually, it was a little of both. Sometim...  \n",
              "1                                  Where's Mr. Bergstrom?  \n",
              "2       I don't know. Although I'd sure like to talk t...  \n",
              "3                              That life is worth living.  \n",
              "4       The polls will be open from now until the end ...  \n",
              "...                                                   ...  \n",
              "158309                                          I'm back.  \n",
              "158310  You see, class, my Lyme disease turned out to ...  \n",
              "158311                                 Psy-cho-so-ma-tic.  \n",
              "158312                     Does that mean you were crazy?  \n",
              "158313                  No, that means she was faking it.  \n",
              "\n",
              "[158314 rows x 2 columns]"
            ],
            "text/html": [
              "\n",
              "  <div id=\"df-25438660-673b-43a7-9eda-fb6382c12983\" class=\"colab-df-container\">\n",
              "    <div>\n",
              "<style scoped>\n",
              "    .dataframe tbody tr th:only-of-type {\n",
              "        vertical-align: middle;\n",
              "    }\n",
              "\n",
              "    .dataframe tbody tr th {\n",
              "        vertical-align: top;\n",
              "    }\n",
              "\n",
              "    .dataframe thead th {\n",
              "        text-align: right;\n",
              "    }\n",
              "</style>\n",
              "<table border=\"1\" class=\"dataframe\">\n",
              "  <thead>\n",
              "    <tr style=\"text-align: right;\">\n",
              "      <th></th>\n",
              "      <th>raw_character_text</th>\n",
              "      <th>spoken_words</th>\n",
              "    </tr>\n",
              "  </thead>\n",
              "  <tbody>\n",
              "    <tr>\n",
              "      <th>0</th>\n",
              "      <td>Miss Hoover</td>\n",
              "      <td>No, actually, it was a little of both. Sometim...</td>\n",
              "    </tr>\n",
              "    <tr>\n",
              "      <th>1</th>\n",
              "      <td>Lisa Simpson</td>\n",
              "      <td>Where's Mr. Bergstrom?</td>\n",
              "    </tr>\n",
              "    <tr>\n",
              "      <th>2</th>\n",
              "      <td>Miss Hoover</td>\n",
              "      <td>I don't know. Although I'd sure like to talk t...</td>\n",
              "    </tr>\n",
              "    <tr>\n",
              "      <th>3</th>\n",
              "      <td>Lisa Simpson</td>\n",
              "      <td>That life is worth living.</td>\n",
              "    </tr>\n",
              "    <tr>\n",
              "      <th>4</th>\n",
              "      <td>Edna Krabappel-Flanders</td>\n",
              "      <td>The polls will be open from now until the end ...</td>\n",
              "    </tr>\n",
              "    <tr>\n",
              "      <th>...</th>\n",
              "      <td>...</td>\n",
              "      <td>...</td>\n",
              "    </tr>\n",
              "    <tr>\n",
              "      <th>158309</th>\n",
              "      <td>Miss Hoover</td>\n",
              "      <td>I'm back.</td>\n",
              "    </tr>\n",
              "    <tr>\n",
              "      <th>158310</th>\n",
              "      <td>Miss Hoover</td>\n",
              "      <td>You see, class, my Lyme disease turned out to ...</td>\n",
              "    </tr>\n",
              "    <tr>\n",
              "      <th>158311</th>\n",
              "      <td>Miss Hoover</td>\n",
              "      <td>Psy-cho-so-ma-tic.</td>\n",
              "    </tr>\n",
              "    <tr>\n",
              "      <th>158312</th>\n",
              "      <td>Ralph Wiggum</td>\n",
              "      <td>Does that mean you were crazy?</td>\n",
              "    </tr>\n",
              "    <tr>\n",
              "      <th>158313</th>\n",
              "      <td>JANEY</td>\n",
              "      <td>No, that means she was faking it.</td>\n",
              "    </tr>\n",
              "  </tbody>\n",
              "</table>\n",
              "<p>158314 rows × 2 columns</p>\n",
              "</div>\n",
              "    <div class=\"colab-df-buttons\">\n",
              "\n",
              "  <div class=\"colab-df-container\">\n",
              "    <button class=\"colab-df-convert\" onclick=\"convertToInteractive('df-25438660-673b-43a7-9eda-fb6382c12983')\"\n",
              "            title=\"Convert this dataframe to an interactive table.\"\n",
              "            style=\"display:none;\">\n",
              "\n",
              "  <svg xmlns=\"http://www.w3.org/2000/svg\" height=\"24px\" viewBox=\"0 -960 960 960\">\n",
              "    <path d=\"M120-120v-720h720v720H120Zm60-500h600v-160H180v160Zm220 220h160v-160H400v160Zm0 220h160v-160H400v160ZM180-400h160v-160H180v160Zm440 0h160v-160H620v160ZM180-180h160v-160H180v160Zm440 0h160v-160H620v160Z\"/>\n",
              "  </svg>\n",
              "    </button>\n",
              "\n",
              "  <style>\n",
              "    .colab-df-container {\n",
              "      display:flex;\n",
              "      gap: 12px;\n",
              "    }\n",
              "\n",
              "    .colab-df-convert {\n",
              "      background-color: #E8F0FE;\n",
              "      border: none;\n",
              "      border-radius: 50%;\n",
              "      cursor: pointer;\n",
              "      display: none;\n",
              "      fill: #1967D2;\n",
              "      height: 32px;\n",
              "      padding: 0 0 0 0;\n",
              "      width: 32px;\n",
              "    }\n",
              "\n",
              "    .colab-df-convert:hover {\n",
              "      background-color: #E2EBFA;\n",
              "      box-shadow: 0px 1px 2px rgba(60, 64, 67, 0.3), 0px 1px 3px 1px rgba(60, 64, 67, 0.15);\n",
              "      fill: #174EA6;\n",
              "    }\n",
              "\n",
              "    .colab-df-buttons div {\n",
              "      margin-bottom: 4px;\n",
              "    }\n",
              "\n",
              "    [theme=dark] .colab-df-convert {\n",
              "      background-color: #3B4455;\n",
              "      fill: #D2E3FC;\n",
              "    }\n",
              "\n",
              "    [theme=dark] .colab-df-convert:hover {\n",
              "      background-color: #434B5C;\n",
              "      box-shadow: 0px 1px 3px 1px rgba(0, 0, 0, 0.15);\n",
              "      filter: drop-shadow(0px 1px 2px rgba(0, 0, 0, 0.3));\n",
              "      fill: #FFFFFF;\n",
              "    }\n",
              "  </style>\n",
              "\n",
              "    <script>\n",
              "      const buttonEl =\n",
              "        document.querySelector('#df-25438660-673b-43a7-9eda-fb6382c12983 button.colab-df-convert');\n",
              "      buttonEl.style.display =\n",
              "        google.colab.kernel.accessAllowed ? 'block' : 'none';\n",
              "\n",
              "      async function convertToInteractive(key) {\n",
              "        const element = document.querySelector('#df-25438660-673b-43a7-9eda-fb6382c12983');\n",
              "        const dataTable =\n",
              "          await google.colab.kernel.invokeFunction('convertToInteractive',\n",
              "                                                    [key], {});\n",
              "        if (!dataTable) return;\n",
              "\n",
              "        const docLinkHtml = 'Like what you see? Visit the ' +\n",
              "          '<a target=\"_blank\" href=https://colab.research.google.com/notebooks/data_table.ipynb>data table notebook</a>'\n",
              "          + ' to learn more about interactive tables.';\n",
              "        element.innerHTML = '';\n",
              "        dataTable['output_type'] = 'display_data';\n",
              "        await google.colab.output.renderOutput(dataTable, element);\n",
              "        const docLink = document.createElement('div');\n",
              "        docLink.innerHTML = docLinkHtml;\n",
              "        element.appendChild(docLink);\n",
              "      }\n",
              "    </script>\n",
              "  </div>\n",
              "\n",
              "\n",
              "<div id=\"df-feaeecbe-e5fe-4c59-b99c-b20708521abb\">\n",
              "  <button class=\"colab-df-quickchart\" onclick=\"quickchart('df-feaeecbe-e5fe-4c59-b99c-b20708521abb')\"\n",
              "            title=\"Suggest charts\"\n",
              "            style=\"display:none;\">\n",
              "\n",
              "<svg xmlns=\"http://www.w3.org/2000/svg\" height=\"24px\"viewBox=\"0 0 24 24\"\n",
              "     width=\"24px\">\n",
              "    <g>\n",
              "        <path d=\"M19 3H5c-1.1 0-2 .9-2 2v14c0 1.1.9 2 2 2h14c1.1 0 2-.9 2-2V5c0-1.1-.9-2-2-2zM9 17H7v-7h2v7zm4 0h-2V7h2v10zm4 0h-2v-4h2v4z\"/>\n",
              "    </g>\n",
              "</svg>\n",
              "  </button>\n",
              "\n",
              "<style>\n",
              "  .colab-df-quickchart {\n",
              "      --bg-color: #E8F0FE;\n",
              "      --fill-color: #1967D2;\n",
              "      --hover-bg-color: #E2EBFA;\n",
              "      --hover-fill-color: #174EA6;\n",
              "      --disabled-fill-color: #AAA;\n",
              "      --disabled-bg-color: #DDD;\n",
              "  }\n",
              "\n",
              "  [theme=dark] .colab-df-quickchart {\n",
              "      --bg-color: #3B4455;\n",
              "      --fill-color: #D2E3FC;\n",
              "      --hover-bg-color: #434B5C;\n",
              "      --hover-fill-color: #FFFFFF;\n",
              "      --disabled-bg-color: #3B4455;\n",
              "      --disabled-fill-color: #666;\n",
              "  }\n",
              "\n",
              "  .colab-df-quickchart {\n",
              "    background-color: var(--bg-color);\n",
              "    border: none;\n",
              "    border-radius: 50%;\n",
              "    cursor: pointer;\n",
              "    display: none;\n",
              "    fill: var(--fill-color);\n",
              "    height: 32px;\n",
              "    padding: 0;\n",
              "    width: 32px;\n",
              "  }\n",
              "\n",
              "  .colab-df-quickchart:hover {\n",
              "    background-color: var(--hover-bg-color);\n",
              "    box-shadow: 0 1px 2px rgba(60, 64, 67, 0.3), 0 1px 3px 1px rgba(60, 64, 67, 0.15);\n",
              "    fill: var(--button-hover-fill-color);\n",
              "  }\n",
              "\n",
              "  .colab-df-quickchart-complete:disabled,\n",
              "  .colab-df-quickchart-complete:disabled:hover {\n",
              "    background-color: var(--disabled-bg-color);\n",
              "    fill: var(--disabled-fill-color);\n",
              "    box-shadow: none;\n",
              "  }\n",
              "\n",
              "  .colab-df-spinner {\n",
              "    border: 2px solid var(--fill-color);\n",
              "    border-color: transparent;\n",
              "    border-bottom-color: var(--fill-color);\n",
              "    animation:\n",
              "      spin 1s steps(1) infinite;\n",
              "  }\n",
              "\n",
              "  @keyframes spin {\n",
              "    0% {\n",
              "      border-color: transparent;\n",
              "      border-bottom-color: var(--fill-color);\n",
              "      border-left-color: var(--fill-color);\n",
              "    }\n",
              "    20% {\n",
              "      border-color: transparent;\n",
              "      border-left-color: var(--fill-color);\n",
              "      border-top-color: var(--fill-color);\n",
              "    }\n",
              "    30% {\n",
              "      border-color: transparent;\n",
              "      border-left-color: var(--fill-color);\n",
              "      border-top-color: var(--fill-color);\n",
              "      border-right-color: var(--fill-color);\n",
              "    }\n",
              "    40% {\n",
              "      border-color: transparent;\n",
              "      border-right-color: var(--fill-color);\n",
              "      border-top-color: var(--fill-color);\n",
              "    }\n",
              "    60% {\n",
              "      border-color: transparent;\n",
              "      border-right-color: var(--fill-color);\n",
              "    }\n",
              "    80% {\n",
              "      border-color: transparent;\n",
              "      border-right-color: var(--fill-color);\n",
              "      border-bottom-color: var(--fill-color);\n",
              "    }\n",
              "    90% {\n",
              "      border-color: transparent;\n",
              "      border-bottom-color: var(--fill-color);\n",
              "    }\n",
              "  }\n",
              "</style>\n",
              "\n",
              "  <script>\n",
              "    async function quickchart(key) {\n",
              "      const quickchartButtonEl =\n",
              "        document.querySelector('#' + key + ' button');\n",
              "      quickchartButtonEl.disabled = true;  // To prevent multiple clicks.\n",
              "      quickchartButtonEl.classList.add('colab-df-spinner');\n",
              "      try {\n",
              "        const charts = await google.colab.kernel.invokeFunction(\n",
              "            'suggestCharts', [key], {});\n",
              "      } catch (error) {\n",
              "        console.error('Error during call to suggestCharts:', error);\n",
              "      }\n",
              "      quickchartButtonEl.classList.remove('colab-df-spinner');\n",
              "      quickchartButtonEl.classList.add('colab-df-quickchart-complete');\n",
              "    }\n",
              "    (() => {\n",
              "      let quickchartButtonEl =\n",
              "        document.querySelector('#df-feaeecbe-e5fe-4c59-b99c-b20708521abb button');\n",
              "      quickchartButtonEl.style.display =\n",
              "        google.colab.kernel.accessAllowed ? 'block' : 'none';\n",
              "    })();\n",
              "  </script>\n",
              "</div>\n",
              "\n",
              "  <div id=\"id_5a18e87b-266f-459e-8f96-25bb1097c84e\">\n",
              "    <style>\n",
              "      .colab-df-generate {\n",
              "        background-color: #E8F0FE;\n",
              "        border: none;\n",
              "        border-radius: 50%;\n",
              "        cursor: pointer;\n",
              "        display: none;\n",
              "        fill: #1967D2;\n",
              "        height: 32px;\n",
              "        padding: 0 0 0 0;\n",
              "        width: 32px;\n",
              "      }\n",
              "\n",
              "      .colab-df-generate:hover {\n",
              "        background-color: #E2EBFA;\n",
              "        box-shadow: 0px 1px 2px rgba(60, 64, 67, 0.3), 0px 1px 3px 1px rgba(60, 64, 67, 0.15);\n",
              "        fill: #174EA6;\n",
              "      }\n",
              "\n",
              "      [theme=dark] .colab-df-generate {\n",
              "        background-color: #3B4455;\n",
              "        fill: #D2E3FC;\n",
              "      }\n",
              "\n",
              "      [theme=dark] .colab-df-generate:hover {\n",
              "        background-color: #434B5C;\n",
              "        box-shadow: 0px 1px 3px 1px rgba(0, 0, 0, 0.15);\n",
              "        filter: drop-shadow(0px 1px 2px rgba(0, 0, 0, 0.3));\n",
              "        fill: #FFFFFF;\n",
              "      }\n",
              "    </style>\n",
              "    <button class=\"colab-df-generate\" onclick=\"generateWithVariable('df')\"\n",
              "            title=\"Generate code using this dataframe.\"\n",
              "            style=\"display:none;\">\n",
              "\n",
              "  <svg xmlns=\"http://www.w3.org/2000/svg\" height=\"24px\"viewBox=\"0 0 24 24\"\n",
              "       width=\"24px\">\n",
              "    <path d=\"M7,19H8.4L18.45,9,17,7.55,7,17.6ZM5,21V16.75L18.45,3.32a2,2,0,0,1,2.83,0l1.4,1.43a1.91,1.91,0,0,1,.58,1.4,1.91,1.91,0,0,1-.58,1.4L9.25,21ZM18.45,9,17,7.55Zm-12,3A5.31,5.31,0,0,0,4.9,8.1,5.31,5.31,0,0,0,1,6.5,5.31,5.31,0,0,0,4.9,4.9,5.31,5.31,0,0,0,6.5,1,5.31,5.31,0,0,0,8.1,4.9,5.31,5.31,0,0,0,12,6.5,5.46,5.46,0,0,0,6.5,12Z\"/>\n",
              "  </svg>\n",
              "    </button>\n",
              "    <script>\n",
              "      (() => {\n",
              "      const buttonEl =\n",
              "        document.querySelector('#id_5a18e87b-266f-459e-8f96-25bb1097c84e button.colab-df-generate');\n",
              "      buttonEl.style.display =\n",
              "        google.colab.kernel.accessAllowed ? 'block' : 'none';\n",
              "\n",
              "      buttonEl.onclick = () => {\n",
              "        google.colab.notebook.generateWithVariable('df');\n",
              "      }\n",
              "      })();\n",
              "    </script>\n",
              "  </div>\n",
              "\n",
              "    </div>\n",
              "  </div>\n"
            ],
            "application/vnd.google.colaboratory.intrinsic+json": {
              "type": "dataframe",
              "variable_name": "df"
            }
          },
          "metadata": {},
          "execution_count": 53
        }
      ]
    },
    {
      "cell_type": "code",
      "source": [
        "df.isnull().sum()"
      ],
      "metadata": {
        "colab": {
          "base_uri": "https://localhost:8080/",
          "height": 147
        },
        "id": "8vkglzF3gElI",
        "outputId": "a3db4eed-4064-4142-d0d3-58c557629905"
      },
      "execution_count": 57,
      "outputs": [
        {
          "output_type": "execute_result",
          "data": {
            "text/plain": [
              "raw_character_text    17814\n",
              "spoken_words          26459\n",
              "dtype: int64"
            ],
            "text/html": [
              "<div>\n",
              "<style scoped>\n",
              "    .dataframe tbody tr th:only-of-type {\n",
              "        vertical-align: middle;\n",
              "    }\n",
              "\n",
              "    .dataframe tbody tr th {\n",
              "        vertical-align: top;\n",
              "    }\n",
              "\n",
              "    .dataframe thead th {\n",
              "        text-align: right;\n",
              "    }\n",
              "</style>\n",
              "<table border=\"1\" class=\"dataframe\">\n",
              "  <thead>\n",
              "    <tr style=\"text-align: right;\">\n",
              "      <th></th>\n",
              "      <th>0</th>\n",
              "    </tr>\n",
              "  </thead>\n",
              "  <tbody>\n",
              "    <tr>\n",
              "      <th>raw_character_text</th>\n",
              "      <td>17814</td>\n",
              "    </tr>\n",
              "    <tr>\n",
              "      <th>spoken_words</th>\n",
              "      <td>26459</td>\n",
              "    </tr>\n",
              "  </tbody>\n",
              "</table>\n",
              "</div><br><label><b>dtype:</b> int64</label>"
            ]
          },
          "metadata": {},
          "execution_count": 57
        }
      ]
    },
    {
      "cell_type": "code",
      "source": [
        "df.dropna(inplace=True)"
      ],
      "metadata": {
        "id": "on9PX0-TgNcd"
      },
      "execution_count": 58,
      "outputs": []
    },
    {
      "cell_type": "code",
      "source": [
        "df.isnull().sum()"
      ],
      "metadata": {
        "colab": {
          "base_uri": "https://localhost:8080/",
          "height": 147
        },
        "id": "AWpaFNGXgRhF",
        "outputId": "9d55b560-71f1-4e3f-9659-7f239fee1568"
      },
      "execution_count": 59,
      "outputs": [
        {
          "output_type": "execute_result",
          "data": {
            "text/plain": [
              "raw_character_text    0\n",
              "spoken_words          0\n",
              "dtype: int64"
            ],
            "text/html": [
              "<div>\n",
              "<style scoped>\n",
              "    .dataframe tbody tr th:only-of-type {\n",
              "        vertical-align: middle;\n",
              "    }\n",
              "\n",
              "    .dataframe tbody tr th {\n",
              "        vertical-align: top;\n",
              "    }\n",
              "\n",
              "    .dataframe thead th {\n",
              "        text-align: right;\n",
              "    }\n",
              "</style>\n",
              "<table border=\"1\" class=\"dataframe\">\n",
              "  <thead>\n",
              "    <tr style=\"text-align: right;\">\n",
              "      <th></th>\n",
              "      <th>0</th>\n",
              "    </tr>\n",
              "  </thead>\n",
              "  <tbody>\n",
              "    <tr>\n",
              "      <th>raw_character_text</th>\n",
              "      <td>0</td>\n",
              "    </tr>\n",
              "    <tr>\n",
              "      <th>spoken_words</th>\n",
              "      <td>0</td>\n",
              "    </tr>\n",
              "  </tbody>\n",
              "</table>\n",
              "</div><br><label><b>dtype:</b> int64</label>"
            ]
          },
          "metadata": {},
          "execution_count": 59
        }
      ]
    },
    {
      "cell_type": "code",
      "source": [
        "df.duplicated().sum()"
      ],
      "metadata": {
        "colab": {
          "base_uri": "https://localhost:8080/"
        },
        "id": "oLZwrsGkgTRw",
        "outputId": "7d72d27a-a753-40b9-c145-3e394f4dbaf5"
      },
      "execution_count": 60,
      "outputs": [
        {
          "output_type": "execute_result",
          "data": {
            "text/plain": [
              "5207"
            ]
          },
          "metadata": {},
          "execution_count": 60
        }
      ]
    },
    {
      "cell_type": "code",
      "source": [
        "df.drop_duplicates(inplace=True)"
      ],
      "metadata": {
        "id": "Q96FV2IhgVsz"
      },
      "execution_count": 61,
      "outputs": []
    },
    {
      "cell_type": "code",
      "source": [
        "df.duplicated().sum()"
      ],
      "metadata": {
        "colab": {
          "base_uri": "https://localhost:8080/"
        },
        "id": "f3NfWDgLgXpg",
        "outputId": "2c23ec2c-234a-43e9-a5ab-9a09022ff8ce"
      },
      "execution_count": 62,
      "outputs": [
        {
          "output_type": "execute_result",
          "data": {
            "text/plain": [
              "0"
            ]
          },
          "metadata": {},
          "execution_count": 62
        }
      ]
    },
    {
      "cell_type": "code",
      "source": [
        "df.shape"
      ],
      "metadata": {
        "colab": {
          "base_uri": "https://localhost:8080/"
        },
        "id": "u606FuSYgY-7",
        "outputId": "78183117-9e53-40bf-c0d1-eef4bb2b0e74"
      },
      "execution_count": 63,
      "outputs": [
        {
          "output_type": "execute_result",
          "data": {
            "text/plain": [
              "(126646, 2)"
            ]
          },
          "metadata": {},
          "execution_count": 63
        }
      ]
    },
    {
      "cell_type": "code",
      "source": [
        "# Replace 'your_text_column' with the name of the column containing text\n",
        "text_data = df['spoken_words'].tolist()\n",
        "\n",
        "# Initialize an empty list to hold the sentences\n",
        "sentence = []\n",
        "\n",
        "# Process each text entry from the CSV\n",
        "for corpus in text_data:\n",
        "    raw_sent = sent_tokenize(corpus)  # Tokenize text into sentences\n",
        "    for sent in raw_sent:\n",
        "        sentence.append(simple_preprocess(sent))  # Preprocess and add to the list\n",
        "\n",
        "sentence[:3]\n"
      ],
      "metadata": {
        "colab": {
          "base_uri": "https://localhost:8080/"
        },
        "id": "1bBarKutesJy",
        "outputId": "df25deac-3c58-4158-a193-c509660e8b29"
      },
      "execution_count": 66,
      "outputs": [
        {
          "output_type": "execute_result",
          "data": {
            "text/plain": [
              "[['no', 'actually', 'it', 'was', 'little', 'of', 'both'],\n",
              " ['sometimes',\n",
              "  'when',\n",
              "  'disease',\n",
              "  'is',\n",
              "  'in',\n",
              "  'all',\n",
              "  'the',\n",
              "  'magazines',\n",
              "  'and',\n",
              "  'all',\n",
              "  'the',\n",
              "  'news',\n",
              "  'shows',\n",
              "  'it',\n",
              "  'only',\n",
              "  'natural',\n",
              "  'that',\n",
              "  'you',\n",
              "  'think',\n",
              "  'you',\n",
              "  'have',\n",
              "  'it'],\n",
              " ['where', 'mr', 'bergstrom']]"
            ]
          },
          "metadata": {},
          "execution_count": 66
        }
      ]
    },
    {
      "cell_type": "code",
      "source": [
        "len(sentence)"
      ],
      "metadata": {
        "colab": {
          "base_uri": "https://localhost:8080/"
        },
        "id": "JqyakqU0f3Tt",
        "outputId": "0a73d2c4-2486-46fe-f45f-26cf463e08a4"
      },
      "execution_count": 67,
      "outputs": [
        {
          "output_type": "execute_result",
          "data": {
            "text/plain": [
              "204901"
            ]
          },
          "metadata": {},
          "execution_count": 67
        }
      ]
    },
    {
      "cell_type": "code",
      "source": [
        "model = gensim.models.Word2Vec(\n",
        "    window=10,\n",
        "    min_count=2\n",
        ")"
      ],
      "metadata": {
        "id": "2gLDpCFJjEh7"
      },
      "execution_count": 71,
      "outputs": []
    },
    {
      "cell_type": "code",
      "source": [
        "model.build_vocab(sentence)"
      ],
      "metadata": {
        "id": "uYFqBqoQjGYQ"
      },
      "execution_count": 72,
      "outputs": []
    },
    {
      "cell_type": "code",
      "source": [
        "model.train(sentence, total_examples=model.corpus_count, epochs=model.epochs)\n"
      ],
      "metadata": {
        "colab": {
          "base_uri": "https://localhost:8080/"
        },
        "id": "sAJFMbBgjIzV",
        "outputId": "8de0e4a4-19d4-466d-cdf6-4cd37058727e"
      },
      "execution_count": 73,
      "outputs": [
        {
          "output_type": "execute_result",
          "data": {
            "text/plain": [
              "(4738605, 6172800)"
            ]
          },
          "metadata": {},
          "execution_count": 73
        }
      ]
    },
    {
      "cell_type": "code",
      "source": [
        "model.wv.most_similar('magazines')"
      ],
      "metadata": {
        "colab": {
          "base_uri": "https://localhost:8080/"
        },
        "id": "7AmNlaUUjSF2",
        "outputId": "c17a444a-994f-438b-c9f9-2d11d9e1de43"
      },
      "execution_count": 76,
      "outputs": [
        {
          "output_type": "execute_result",
          "data": {
            "text/plain": [
              "[('conversion', 0.9214313626289368),\n",
              " ('sheets', 0.9124067425727844),\n",
              " ('players', 0.9050449728965759),\n",
              " ('ether', 0.9050155878067017),\n",
              " ('cane', 0.9039900302886963),\n",
              " ('nina', 0.902400553226471),\n",
              " ('vast', 0.9021453261375427),\n",
              " ('stains', 0.9018569588661194),\n",
              " ('lovers', 0.9012829065322876),\n",
              " ('germs', 0.9011884331703186)]"
            ]
          },
          "metadata": {},
          "execution_count": 76
        }
      ]
    },
    {
      "cell_type": "code",
      "source": [
        "model.wv.similarity('natural','disease')"
      ],
      "metadata": {
        "colab": {
          "base_uri": "https://localhost:8080/"
        },
        "id": "fC9bcqhSjj2U",
        "outputId": "e3731875-5f78-4f64-ff66-3842453ef2b7"
      },
      "execution_count": 77,
      "outputs": [
        {
          "output_type": "execute_result",
          "data": {
            "text/plain": [
              "0.87638426"
            ]
          },
          "metadata": {},
          "execution_count": 77
        }
      ]
    },
    {
      "cell_type": "code",
      "source": [
        "model.wv['deep'].shape"
      ],
      "metadata": {
        "colab": {
          "base_uri": "https://localhost:8080/"
        },
        "id": "ZSPw_WZnjpD0",
        "outputId": "ae32c269-689e-45dd-b2e7-236d08ec0f51"
      },
      "execution_count": 78,
      "outputs": [
        {
          "output_type": "execute_result",
          "data": {
            "text/plain": [
              "(100,)"
            ]
          },
          "metadata": {},
          "execution_count": 78
        }
      ]
    },
    {
      "cell_type": "code",
      "source": [
        "vec = model.wv.get_normed_vectors()\n",
        "vec"
      ],
      "metadata": {
        "colab": {
          "base_uri": "https://localhost:8080/"
        },
        "id": "VIApofwCjrVF",
        "outputId": "0041db5d-0b31-4a41-813d-a8d9987db97d"
      },
      "execution_count": 80,
      "outputs": [
        {
          "output_type": "execute_result",
          "data": {
            "text/plain": [
              "array([[-0.04367295,  0.19382648, -0.00710748, ...,  0.13561474,\n",
              "         0.10295776,  0.03140843],\n",
              "       [-0.01502088,  0.21162169,  0.08084115, ...,  0.1329336 ,\n",
              "        -0.13974455, -0.00045861],\n",
              "       [ 0.09317227,  0.02614755, -0.05969175, ..., -0.0312504 ,\n",
              "         0.15366982, -0.12815921],\n",
              "       ...,\n",
              "       [ 0.13484345, -0.1489134 ,  0.04130427, ...,  0.00352725,\n",
              "         0.08982968, -0.02108248],\n",
              "       [-0.05007254,  0.00080226, -0.09245366, ..., -0.12916182,\n",
              "         0.00122624, -0.04286993],\n",
              "       [-0.06972565,  0.1579368 ,  0.10659361, ...,  0.0124564 ,\n",
              "         0.17923728, -0.08780779]], dtype=float32)"
            ]
          },
          "metadata": {},
          "execution_count": 80
        }
      ]
    },
    {
      "cell_type": "code",
      "source": [
        "\n",
        "model.wv.get_normed_vectors().shape"
      ],
      "metadata": {
        "colab": {
          "base_uri": "https://localhost:8080/"
        },
        "id": "TJz2pyhXjudx",
        "outputId": "3b61d030-1b91-4743-f170-0b75098b7a21"
      },
      "execution_count": 81,
      "outputs": [
        {
          "output_type": "execute_result",
          "data": {
            "text/plain": [
              "(22541, 100)"
            ]
          },
          "metadata": {},
          "execution_count": 81
        }
      ]
    },
    {
      "cell_type": "code",
      "source": [
        "\n",
        "y = model.wv.index_to_key"
      ],
      "metadata": {
        "id": "Z0pDbYXDjwLB"
      },
      "execution_count": 82,
      "outputs": []
    },
    {
      "cell_type": "code",
      "source": [
        "len(y)"
      ],
      "metadata": {
        "colab": {
          "base_uri": "https://localhost:8080/"
        },
        "id": "X1PrzTogjySj",
        "outputId": "3f27bbf6-07bc-45c6-d4aa-534d4df65aef"
      },
      "execution_count": 83,
      "outputs": [
        {
          "output_type": "execute_result",
          "data": {
            "text/plain": [
              "22541"
            ]
          },
          "metadata": {},
          "execution_count": 83
        }
      ]
    },
    {
      "cell_type": "code",
      "source": [
        "\n",
        "y"
      ],
      "metadata": {
        "colab": {
          "base_uri": "https://localhost:8080/"
        },
        "id": "scElPWFJjzxX",
        "outputId": "0a9e03ac-59f5-46df-8f3b-8b55766a6133"
      },
      "execution_count": 84,
      "outputs": [
        {
          "output_type": "execute_result",
          "data": {
            "text/plain": [
              "['you',\n",
              " 'the',\n",
              " 'to',\n",
              " 'it',\n",
              " 'and',\n",
              " 'that',\n",
              " 'of',\n",
              " 'in',\n",
              " 'my',\n",
              " 'we',\n",
              " 'is',\n",
              " 'this',\n",
              " 'me',\n",
              " 'your',\n",
              " 'for',\n",
              " 'what',\n",
              " 're',\n",
              " 'oh',\n",
              " 'on',\n",
              " 'can',\n",
              " 'have',\n",
              " 'but',\n",
              " 'be',\n",
              " 'no',\n",
              " 'don',\n",
              " 'all',\n",
              " 'just',\n",
              " 'with',\n",
              " 'do',\n",
              " 'are',\n",
              " 'll',\n",
              " 'well',\n",
              " 'now',\n",
              " 'not',\n",
              " 'like',\n",
              " 'so',\n",
              " 'he',\n",
              " 'was',\n",
              " 'get',\n",
              " 'here',\n",
              " 'one',\n",
              " 'there',\n",
              " 'know',\n",
              " 've',\n",
              " 'up',\n",
              " 'at',\n",
              " 'out',\n",
              " 'they',\n",
              " 'hey',\n",
              " 'if',\n",
              " 'homer',\n",
              " 'right',\n",
              " 'go',\n",
              " 'got',\n",
              " 'how',\n",
              " 'bart',\n",
              " 'our',\n",
              " 'about',\n",
              " 'let',\n",
              " 'from',\n",
              " 'who',\n",
              " 'good',\n",
              " 'see',\n",
              " 'uh',\n",
              " 'as',\n",
              " 'will',\n",
              " 'think',\n",
              " 'yeah',\n",
              " 'want',\n",
              " 'man',\n",
              " 'why',\n",
              " 'an',\n",
              " 'look',\n",
              " 'marge',\n",
              " 'gonna',\n",
              " 'back',\n",
              " 'little',\n",
              " 'dad',\n",
              " 'time',\n",
              " 'some',\n",
              " 'when',\n",
              " 'him',\n",
              " 'could',\n",
              " 'did',\n",
              " 'come',\n",
              " 'us',\n",
              " 'okay',\n",
              " 'take',\n",
              " 'never',\n",
              " 'his',\n",
              " 'simpson',\n",
              " 'say',\n",
              " 'lisa',\n",
              " 'she',\n",
              " 'where',\n",
              " 'make',\n",
              " 'would',\n",
              " 'or',\n",
              " 'by',\n",
              " 'more',\n",
              " 'really',\n",
              " 'been',\n",
              " 'two',\n",
              " 'yes',\n",
              " 'her',\n",
              " 'love',\n",
              " 'going',\n",
              " 'has',\n",
              " 'way',\n",
              " 'down',\n",
              " 'off',\n",
              " 'only',\n",
              " 'then',\n",
              " 'something',\n",
              " 'too',\n",
              " 'am',\n",
              " 'were',\n",
              " 'boy',\n",
              " 'mr',\n",
              " 'people',\n",
              " 'need',\n",
              " 'over',\n",
              " 'day',\n",
              " 'had',\n",
              " 'those',\n",
              " 'these',\n",
              " 'tell',\n",
              " 'sorry',\n",
              " 'thing',\n",
              " 'please',\n",
              " 'them',\n",
              " 'give',\n",
              " 'sure',\n",
              " 'mom',\n",
              " 'new',\n",
              " 'kids',\n",
              " 'didn',\n",
              " 'should',\n",
              " 'wait',\n",
              " 'god',\n",
              " 'first',\n",
              " 'great',\n",
              " 'old',\n",
              " 'ever',\n",
              " 'better',\n",
              " 'any',\n",
              " 'life',\n",
              " 'stop',\n",
              " 'into',\n",
              " 'again',\n",
              " 'even',\n",
              " 'maybe',\n",
              " 'sir',\n",
              " 'help',\n",
              " 'home',\n",
              " 'than',\n",
              " 'big',\n",
              " 'made',\n",
              " 'springfield',\n",
              " 'three',\n",
              " 'because',\n",
              " 'show',\n",
              " 'mean',\n",
              " 'son',\n",
              " 'much',\n",
              " 'their',\n",
              " 'thank',\n",
              " 'school',\n",
              " 'money',\n",
              " 'won',\n",
              " 'put',\n",
              " 'work',\n",
              " 'said',\n",
              " 'still',\n",
              " 'very',\n",
              " 'ya',\n",
              " 'always',\n",
              " 'call',\n",
              " 'last',\n",
              " 'guy',\n",
              " 'thought',\n",
              " 'name',\n",
              " 'ah',\n",
              " 'must',\n",
              " 'family',\n",
              " 'gotta',\n",
              " 'every',\n",
              " 'baby',\n",
              " 'huh',\n",
              " 'house',\n",
              " 'world',\n",
              " 'find',\n",
              " 'moe',\n",
              " 'before',\n",
              " 'night',\n",
              " 'bad',\n",
              " 'five',\n",
              " 'anything',\n",
              " 'guess',\n",
              " 'feel',\n",
              " 'hello',\n",
              " 'things',\n",
              " 'away',\n",
              " 'other',\n",
              " 'doing',\n",
              " 'place',\n",
              " 'burns',\n",
              " 'next',\n",
              " 'isn',\n",
              " 'keep',\n",
              " 'years',\n",
              " 'guys',\n",
              " 'thanks',\n",
              " 'wow',\n",
              " 'today',\n",
              " 'believe',\n",
              " 'nothing',\n",
              " 'krusty',\n",
              " 'everyone',\n",
              " 'after',\n",
              " 'lot',\n",
              " 'everything',\n",
              " 'does',\n",
              " 'nice',\n",
              " 'long',\n",
              " 'real',\n",
              " 'best',\n",
              " 'father',\n",
              " 'remember',\n",
              " 'doesn',\n",
              " 'car',\n",
              " 'another',\n",
              " 'ooh',\n",
              " 'which',\n",
              " 'someone',\n",
              " 'hear',\n",
              " 'around',\n",
              " 'use',\n",
              " 'own',\n",
              " 'stupid',\n",
              " 'talk',\n",
              " 'mother',\n",
              " 'girl',\n",
              " 'dog',\n",
              " 'eat',\n",
              " 'happy',\n",
              " 'done',\n",
              " 'fun',\n",
              " 'kill',\n",
              " 'children',\n",
              " 'fine',\n",
              " 'through',\n",
              " 'play',\n",
              " 'eh',\n",
              " 'may',\n",
              " 'most',\n",
              " 'wanna',\n",
              " 'wrong',\n",
              " 'honey',\n",
              " 'em',\n",
              " 'while',\n",
              " 'worry',\n",
              " 'looks',\n",
              " 'town',\n",
              " 'year',\n",
              " 'kid',\n",
              " 'job',\n",
              " 'left',\n",
              " 'four',\n",
              " 'milhouse',\n",
              " 'dollars',\n",
              " 'friend',\n",
              " 'hell',\n",
              " 'aw',\n",
              " 'um',\n",
              " 'whoa',\n",
              " 'tonight',\n",
              " 'enough',\n",
              " 'turn',\n",
              " 'kind',\n",
              " 'being',\n",
              " 'listen',\n",
              " 'maggie',\n",
              " 'many',\n",
              " 'free',\n",
              " 'minute',\n",
              " 'getting',\n",
              " 'without',\n",
              " 'might',\n",
              " 'cause',\n",
              " 'hundred',\n",
              " 'friends',\n",
              " 'try',\n",
              " 'beer',\n",
              " 'leave',\n",
              " 'watch',\n",
              " 'live',\n",
              " 'ow',\n",
              " 'room',\n",
              " 'homie',\n",
              " 'flanders',\n",
              " 'head',\n",
              " 'care',\n",
              " 'cool',\n",
              " 'once',\n",
              " 'wife',\n",
              " 'seen',\n",
              " 'ha',\n",
              " 'mon',\n",
              " 'hi',\n",
              " 'dead',\n",
              " 'everybody',\n",
              " 'tv',\n",
              " 'pretty',\n",
              " 'used',\n",
              " 'coming',\n",
              " 'check',\n",
              " 'book',\n",
              " 'stay',\n",
              " 'ten',\n",
              " 'says',\n",
              " 'hope',\n",
              " 'face',\n",
              " 'welcome',\n",
              " 'boys',\n",
              " 'miss',\n",
              " 'told',\n",
              " 'game',\n",
              " 'whole',\n",
              " 'actually',\n",
              " 'start',\n",
              " 'such',\n",
              " 'buy',\n",
              " 'movie',\n",
              " 'young',\n",
              " 'wanted',\n",
              " 'six',\n",
              " 'already',\n",
              " 'sweet',\n",
              " 'shut',\n",
              " 'wouldn',\n",
              " 'trying',\n",
              " 'twenty',\n",
              " 'course',\n",
              " 'heard',\n",
              " 'gone',\n",
              " 'pay',\n",
              " 'lost',\n",
              " 'hard',\n",
              " 'stuff',\n",
              " 'yourself',\n",
              " 'found',\n",
              " 'wish',\n",
              " 'forget',\n",
              " 'called',\n",
              " 'talking',\n",
              " 'smithers',\n",
              " 'run',\n",
              " 'party',\n",
              " 'hot',\n",
              " 'fat',\n",
              " 'read',\n",
              " 'crazy',\n",
              " 'came',\n",
              " 'beautiful',\n",
              " 'heh',\n",
              " 'together',\n",
              " 'eight',\n",
              " 'hmm',\n",
              " 'since',\n",
              " 'makes',\n",
              " 'la',\n",
              " 'afraid',\n",
              " 'anyone',\n",
              " 'idea',\n",
              " 'dear',\n",
              " 'true',\n",
              " 'mind',\n",
              " 'hate',\n",
              " 'ain',\n",
              " 'end',\n",
              " 'same',\n",
              " 'story',\n",
              " 'christmas',\n",
              " 'problem',\n",
              " 'lady',\n",
              " 'happened',\n",
              " 'food',\n",
              " 'die',\n",
              " 'daddy',\n",
              " 'tomorrow',\n",
              " 'finally',\n",
              " 'woman',\n",
              " 'word',\n",
              " 'myself',\n",
              " 'ask',\n",
              " 'bring',\n",
              " 'chief',\n",
              " 'else',\n",
              " 'heart',\n",
              " 'win',\n",
              " 'cut',\n",
              " 'looking',\n",
              " 'hold',\n",
              " 'ho',\n",
              " 'ned',\n",
              " 'week',\n",
              " 'under',\n",
              " 'open',\n",
              " 'eyes',\n",
              " 'part',\n",
              " 'power',\n",
              " 'haven',\n",
              " 'hair',\n",
              " 'making',\n",
              " 'funny',\n",
              " 'full',\n",
              " 'excuse',\n",
              " 'went',\n",
              " 'number',\n",
              " 'least',\n",
              " 'lord',\n",
              " 'also',\n",
              " 'aren',\n",
              " 'special',\n",
              " 'days',\n",
              " 'saying',\n",
              " 'save',\n",
              " 'grampa',\n",
              " 'second',\n",
              " 'couldn',\n",
              " 'mrs',\n",
              " 'yet',\n",
              " 'took',\n",
              " 'skinner',\n",
              " 'having',\n",
              " 'perfect',\n",
              " 'business',\n",
              " 'class',\n",
              " 'woo',\n",
              " 'hand',\n",
              " 'thousand',\n",
              " 'point',\n",
              " 'husband',\n",
              " 'change',\n",
              " 'knew',\n",
              " 'ready',\n",
              " 'wants',\n",
              " 'morning',\n",
              " 'until',\n",
              " 'saw',\n",
              " 'wasn',\n",
              " 'america',\n",
              " 'taking',\n",
              " 'comes',\n",
              " 'fire',\n",
              " 'fifty',\n",
              " 'dinner',\n",
              " 'hm',\n",
              " 'move',\n",
              " 'each',\n",
              " 'city',\n",
              " 'hit',\n",
              " 'pick',\n",
              " 'easy',\n",
              " 'hoo',\n",
              " 'men',\n",
              " 'seven',\n",
              " 'gave',\n",
              " 'meet',\n",
              " 'both',\n",
              " 'news',\n",
              " 'break',\n",
              " 'bar',\n",
              " 'means',\n",
              " 'drink',\n",
              " 'understand',\n",
              " 'thirty',\n",
              " 'gets',\n",
              " 'goes',\n",
              " 'brother',\n",
              " 'sleep',\n",
              " 'store',\n",
              " 'water',\n",
              " 'few',\n",
              " 'its',\n",
              " 'half',\n",
              " 'married',\n",
              " 'anymore',\n",
              " 'supposed',\n",
              " 'dream',\n",
              " 'bed',\n",
              " 'bob',\n",
              " 'times',\n",
              " 'minutes',\n",
              " 'nine',\n",
              " 'hurt',\n",
              " 'high',\n",
              " 'door',\n",
              " 'deal',\n",
              " 'fight',\n",
              " 'music',\n",
              " 'set',\n",
              " 'phone',\n",
              " 'song',\n",
              " 'thinking',\n",
              " 'drive',\n",
              " 'rock',\n",
              " 'nobody',\n",
              " 'sign',\n",
              " 'stand',\n",
              " 'side',\n",
              " 'needs',\n",
              " 'alone',\n",
              " 'president',\n",
              " 'sit',\n",
              " 'sounds',\n",
              " 'late',\n",
              " 'answer',\n",
              " 'hands',\n",
              " 'whatever',\n",
              " 'top',\n",
              " 'brought',\n",
              " 'test',\n",
              " 'mine',\n",
              " 'ice',\n",
              " 'million',\n",
              " 'doctor',\n",
              " 'death',\n",
              " 'rest',\n",
              " 'mad',\n",
              " 'watching',\n",
              " 'hours',\n",
              " 'kiss',\n",
              " 'haw',\n",
              " 'attention',\n",
              " 'enjoy',\n",
              " 'outta',\n",
              " 'important',\n",
              " 'pants',\n",
              " 'bet',\n",
              " 'soon',\n",
              " 'poor',\n",
              " 'till',\n",
              " 'eye',\n",
              " 'line',\n",
              " 'sister',\n",
              " 'american',\n",
              " 'clown',\n",
              " 'ball',\n",
              " 'nelson',\n",
              " 'plant',\n",
              " 'country',\n",
              " 'glad',\n",
              " 'wonderful',\n",
              " 'ago',\n",
              " 'ladies',\n",
              " 'forever',\n",
              " 'anyway',\n",
              " 'except',\n",
              " 'chance',\n",
              " 'working',\n",
              " 'team',\n",
              " 'birthday',\n",
              " 'air',\n",
              " 'lenny',\n",
              " 'box',\n",
              " 'walk',\n",
              " 'inside',\n",
              " 'matter',\n",
              " 'learn',\n",
              " 'apu',\n",
              " 'girls',\n",
              " 'women',\n",
              " 'fair',\n",
              " 'secret',\n",
              " 'hmmm',\n",
              " 'damn',\n",
              " 'throw',\n",
              " 'somebody',\n",
              " 'close',\n",
              " 'quit',\n",
              " 'later',\n",
              " 'probably',\n",
              " 'marriage',\n",
              " 'ma',\n",
              " 'mmm',\n",
              " 'sound',\n",
              " 'picture',\n",
              " 'da',\n",
              " 'eating',\n",
              " 'trouble',\n",
              " 'parents',\n",
              " 'gentlemen',\n",
              " 'ride',\n",
              " 'card',\n",
              " 'shot',\n",
              " 'write',\n",
              " 'alive',\n",
              " 'church',\n",
              " 'clean',\n",
              " 'seems',\n",
              " 'lis',\n",
              " 'principal',\n",
              " 'learned',\n",
              " 'behind',\n",
              " 'bye',\n",
              " 'question',\n",
              " 'killed',\n",
              " 'future',\n",
              " 'goodbye',\n",
              " 'spend',\n",
              " 'daughter',\n",
              " 'plan',\n",
              " 'simpsons',\n",
              " 'shall',\n",
              " 'quite',\n",
              " 'happen',\n",
              " 'send',\n",
              " 'goin',\n",
              " 'front',\n",
              " 'case',\n",
              " 'bit',\n",
              " 'dance',\n",
              " 'words',\n",
              " 'seymour',\n",
              " 'exactly',\n",
              " 'fast',\n",
              " 'child',\n",
              " 'folks',\n",
              " 'beat',\n",
              " 'bus',\n",
              " 'sweetie',\n",
              " 'saved',\n",
              " 'dr',\n",
              " 'state',\n",
              " 'super',\n",
              " 'red',\n",
              " 'cream',\n",
              " 'sick',\n",
              " 'police',\n",
              " 'doin',\n",
              " 'terrible',\n",
              " 'king',\n",
              " 'bout',\n",
              " 'candy',\n",
              " 'person',\n",
              " 'willie',\n",
              " 'cat',\n",
              " 'truth',\n",
              " 'far',\n",
              " 'knows',\n",
              " 'order',\n",
              " 'against',\n",
              " 'started',\n",
              " 'lose',\n",
              " 'ralph',\n",
              " 'body',\n",
              " 'blue',\n",
              " 'star',\n",
              " 'kent',\n",
              " 'sell',\n",
              " 'proud',\n",
              " 'war',\n",
              " 'worse',\n",
              " 'yours',\n",
              " 'bought',\n",
              " 'earth',\n",
              " 'pie',\n",
              " 'butt',\n",
              " 'hour',\n",
              " 'living',\n",
              " 'teach',\n",
              " 'favorite',\n",
              " 'lives',\n",
              " 'dude',\n",
              " 'bill',\n",
              " 'blood',\n",
              " 'mouth',\n",
              " 'almost',\n",
              " 'ass',\n",
              " 'catch',\n",
              " 'tree',\n",
              " 'lie',\n",
              " 'brain',\n",
              " 'yo',\n",
              " 'reason',\n",
              " 'dollar',\n",
              " 'smell',\n",
              " 'become',\n",
              " 'rich',\n",
              " 'turned',\n",
              " 'less',\n",
              " 'itchy',\n",
              " 'quiet',\n",
              " 'wedding',\n",
              " 'light',\n",
              " 'telling',\n",
              " 'honor',\n",
              " 'human',\n",
              " 'monkey',\n",
              " 'along',\n",
              " 'moment',\n",
              " 'couple',\n",
              " 'fish',\n",
              " 'comin',\n",
              " 'tried',\n",
              " 'safe',\n",
              " 'nothin',\n",
              " 'bear',\n",
              " 'nuclear',\n",
              " 'gay',\n",
              " 'paper',\n",
              " 'playing',\n",
              " 'santa',\n",
              " 'wear',\n",
              " 'ahead',\n",
              " 'art',\n",
              " 'different',\n",
              " 'gimme',\n",
              " 'smart',\n",
              " 'date',\n",
              " 'worst',\n",
              " 'bucks',\n",
              " 'greatest',\n",
              " 'stick',\n",
              " 'small',\n",
              " 'forty',\n",
              " 'law',\n",
              " 'likes',\n",
              " 'cold',\n",
              " 'selma',\n",
              " 'roll',\n",
              " 'oooh',\n",
              " 'join',\n",
              " 'teacher',\n",
              " 'feeling',\n",
              " 'return',\n",
              " 'ooo',\n",
              " 'hat',\n",
              " 'extra',\n",
              " 'act',\n",
              " 'soul',\n",
              " 'carl',\n",
              " 'shouldn',\n",
              " 'promise',\n",
              " 'seem',\n",
              " 'machine',\n",
              " 'sometimes',\n",
              " 'outside',\n",
              " 'wonder',\n",
              " 'met',\n",
              " 'perhaps',\n",
              " 'lucky',\n",
              " 'instead',\n",
              " 'paid',\n",
              " 'wearing',\n",
              " 'quick',\n",
              " 'giving',\n",
              " 'clock',\n",
              " 'barney',\n",
              " 'pass',\n",
              " 'drunk',\n",
              " 'lunch',\n",
              " 'using',\n",
              " 'street',\n",
              " 'bag',\n",
              " 'club',\n",
              " 'gas',\n",
              " 'either',\n",
              " 'wake',\n",
              " 'shirt',\n",
              " 'floor',\n",
              " 'dogs',\n",
              " 'hero',\n",
              " 'film',\n",
              " 'trip',\n",
              " 'company',\n",
              " 'crap',\n",
              " 'sex',\n",
              " 'fact',\n",
              " 'white',\n",
              " 'land',\n",
              " 'kinda',\n",
              " 'de',\n",
              " 'between',\n",
              " 'ring',\n",
              " 'speak',\n",
              " 'taken',\n",
              " 'books',\n",
              " 'edna',\n",
              " 'monster',\n",
              " 'pull',\n",
              " 'sad',\n",
              " 'relax',\n",
              " 'fault',\n",
              " 'present',\n",
              " 'tired',\n",
              " 'straight',\n",
              " 'worth',\n",
              " 'black',\n",
              " 'sold',\n",
              " 'piece',\n",
              " 'movies',\n",
              " 'voice',\n",
              " 'takes',\n",
              " 'space',\n",
              " 'third',\n",
              " 'hang',\n",
              " 'touch',\n",
              " 'fly',\n",
              " 'low',\n",
              " 'lousy',\n",
              " 'works',\n",
              " 'gun',\n",
              " 'weren',\n",
              " 'age',\n",
              " 'feet',\n",
              " 'drop',\n",
              " 'plus',\n",
              " 'park',\n",
              " 'scratchy',\n",
              " 'luck',\n",
              " 'nose',\n",
              " 'duff',\n",
              " 'step',\n",
              " 'evil',\n",
              " 'laugh',\n",
              " 'fired',\n",
              " 'college',\n",
              " 'shoot',\n",
              " 'grade',\n",
              " 'mayor',\n",
              " 'pizza',\n",
              " 'drinking',\n",
              " 'office',\n",
              " 'doo',\n",
              " 'sugar',\n",
              " 'broke',\n",
              " 'gettin',\n",
              " 'choice',\n",
              " 'cute',\n",
              " 'past',\n",
              " 'forgot',\n",
              " 'unless',\n",
              " 'horrible',\n",
              " 'sing',\n",
              " 'surprise',\n",
              " 'anybody',\n",
              " 'seat',\n",
              " 'coffee',\n",
              " 'angry',\n",
              " 'known',\n",
              " 'died',\n",
              " 'ones',\n",
              " 'thinks',\n",
              " 'running',\n",
              " 'lou',\n",
              " 'problems',\n",
              " 'idiot',\n",
              " 'fresh',\n",
              " 'blow',\n",
              " 'leaving',\n",
              " 'driving',\n",
              " 'field',\n",
              " 'weird',\n",
              " 'sideshow',\n",
              " 'though',\n",
              " 'boss',\n",
              " 'hurry',\n",
              " 'cheese',\n",
              " 'afford',\n",
              " 'buddy',\n",
              " 'prison',\n",
              " 'judge',\n",
              " 'longer',\n",
              " 'band',\n",
              " 'cake',\n",
              " 'table',\n",
              " 'loves',\n",
              " 'system',\n",
              " 'stuck',\n",
              " 'worked',\n",
              " 'evening',\n",
              " 'milk',\n",
              " 'asked',\n",
              " 'hole',\n",
              " 'happens',\n",
              " 'twelve',\n",
              " 'loved',\n",
              " 'fall',\n",
              " 'blah',\n",
              " 'trust',\n",
              " 'public',\n",
              " 'fool',\n",
              " 'court',\n",
              " 'calling',\n",
              " 'knock',\n",
              " 'pain',\n",
              " 'heaven',\n",
              " 'meat',\n",
              " 'local',\n",
              " 'himself',\n",
              " 'wrote',\n",
              " 'history',\n",
              " 'vote',\n",
              " 'nuts',\n",
              " 'bird',\n",
              " 'dreams',\n",
              " 'burn',\n",
              " 'share',\n",
              " 'felt',\n",
              " 'wiggum',\n",
              " 'clear',\n",
              " 'suit',\n",
              " 'babies',\n",
              " 'magic',\n",
              " 'certainly',\n",
              " 'martin',\n",
              " 'gee',\n",
              " 'grow',\n",
              " 'questions',\n",
              " 'awesome',\n",
              " 'follow',\n",
              " 'changed',\n",
              " 'jerk',\n",
              " 'months',\n",
              " 'letter',\n",
              " 'early',\n",
              " 'gift',\n",
              " 'lesson',\n",
              " 'report',\n",
              " 'weeks',\n",
              " 'ruined',\n",
              " 'double',\n",
              " 'month',\n",
              " 'excellent',\n",
              " 'visit',\n",
              " 'joe',\n",
              " 'self',\n",
              " 'horse',\n",
              " 'missing',\n",
              " 'lookin',\n",
              " 'mm',\n",
              " 'missed',\n",
              " 'sea',\n",
              " 'summer',\n",
              " 'nah',\n",
              " 'chicken',\n",
              " 'breakfast',\n",
              " 'finish',\n",
              " 'tickets',\n",
              " 'short',\n",
              " 'chair',\n",
              " 'somewhere',\n",
              " 'tough',\n",
              " 'reading',\n",
              " 'born',\n",
              " 'mister',\n",
              " 'sense',\n",
              " 'cover',\n",
              " 'ate',\n",
              " 'safety',\n",
              " 'jesus',\n",
              " 'sent',\n",
              " 'ninety',\n",
              " 'absolutely',\n",
              " 'cost',\n",
              " 'marry',\n",
              " 'science',\n",
              " 'animals',\n",
              " 'chocolate',\n",
              " 'service',\n",
              " 'peace',\n",
              " 'bite',\n",
              " 'gold',\n",
              " 'channel',\n",
              " 'wall',\n",
              " 'window',\n",
              " 'respect',\n",
              " 'garbage',\n",
              " 'john',\n",
              " 'shoes',\n",
              " 'steal',\n",
              " 'clothes',\n",
              " 'caught',\n",
              " 'toilet',\n",
              " 'center',\n",
              " 'green',\n",
              " 'starting',\n",
              " 'key',\n",
              " 'fear',\n",
              " 'sort',\n",
              " 'bathroom',\n",
              " 'explain',\n",
              " 'ba',\n",
              " 'none',\n",
              " 'talkin',\n",
              " 'meant',\n",
              " 'crime',\n",
              " ...]"
            ]
          },
          "metadata": {},
          "execution_count": 84
        }
      ]
    },
    {
      "cell_type": "code",
      "source": [
        "from sklearn.decomposition import PCA"
      ],
      "metadata": {
        "id": "kNZhm-xFil_C"
      },
      "execution_count": 85,
      "outputs": []
    },
    {
      "cell_type": "code",
      "source": [
        "\n",
        "pca = PCA(n_components=3)"
      ],
      "metadata": {
        "id": "wEBULAXsinR2"
      },
      "execution_count": 86,
      "outputs": []
    },
    {
      "cell_type": "code",
      "source": [
        "\n",
        "X = pca.fit_transform(model.wv.get_normed_vectors())"
      ],
      "metadata": {
        "id": "b4QYzDvRipfv"
      },
      "execution_count": 87,
      "outputs": []
    },
    {
      "cell_type": "code",
      "source": [
        "\n",
        "X"
      ],
      "metadata": {
        "colab": {
          "base_uri": "https://localhost:8080/"
        },
        "id": "FXMI7tSkiq7E",
        "outputId": "894c8674-833d-4013-fe4f-a3d5f0b96604"
      },
      "execution_count": 88,
      "outputs": [
        {
          "output_type": "execute_result",
          "data": {
            "text/plain": [
              "array([[ 8.1867570e-01,  1.7170604e-02, -1.3848767e-03],\n",
              "       [ 5.1030743e-01,  5.0984520e-01,  2.7120915e-01],\n",
              "       [ 7.7053320e-01,  1.2716520e-01,  1.4616109e-01],\n",
              "       ...,\n",
              "       [ 6.6000366e-01, -1.5335263e-01,  1.0981601e-02],\n",
              "       [ 1.6197681e-02, -1.6847283e-01, -6.7775279e-02],\n",
              "       [ 8.5070789e-02, -5.6729093e-04, -1.2107987e-02]], dtype=float32)"
            ]
          },
          "metadata": {},
          "execution_count": 88
        }
      ]
    },
    {
      "cell_type": "code",
      "source": [
        "X.shape"
      ],
      "metadata": {
        "colab": {
          "base_uri": "https://localhost:8080/"
        },
        "id": "xdldhga1j6K1",
        "outputId": "178502e2-5640-42ec-90c9-a1467679bc3b"
      },
      "execution_count": 89,
      "outputs": [
        {
          "output_type": "execute_result",
          "data": {
            "text/plain": [
              "(22541, 3)"
            ]
          },
          "metadata": {},
          "execution_count": 89
        }
      ]
    },
    {
      "cell_type": "code",
      "source": [
        "import plotly.express as px\n",
        "fig = px.scatter_3d(X[200:300],x=0,y=1,z=2, color=y[200:300])\n",
        "fig.show()"
      ],
      "metadata": {
        "colab": {
          "base_uri": "https://localhost:8080/",
          "height": 542
        },
        "id": "KPnmEnBVj7bA",
        "outputId": "bbf45de4-d118-461d-abe5-2a09155881a1"
      },
      "execution_count": 90,
      "outputs": [
        {
          "output_type": "display_data",
          "data": {
            "text/html": [
              "<html>\n",
              "<head><meta charset=\"utf-8\" /></head>\n",
              "<body>\n",
              "    <div>            <script src=\"https://cdnjs.cloudflare.com/ajax/libs/mathjax/2.7.5/MathJax.js?config=TeX-AMS-MML_SVG\"></script><script type=\"text/javascript\">if (window.MathJax && window.MathJax.Hub && window.MathJax.Hub.Config) {window.MathJax.Hub.Config({SVG: {font: \"STIX-Web\"}});}</script>                <script type=\"text/javascript\">window.PlotlyConfig = {MathJaxConfig: 'local'};</script>\n",
              "        <script charset=\"utf-8\" src=\"https://cdn.plot.ly/plotly-2.35.2.min.js\"></script>                <div id=\"4be46aac-6620-4acb-a5fc-bb900bc8cb92\" class=\"plotly-graph-div\" style=\"height:525px; width:100%;\"></div>            <script type=\"text/javascript\">                                    window.PLOTLYENV=window.PLOTLYENV || {};                                    if (document.getElementById(\"4be46aac-6620-4acb-a5fc-bb900bc8cb92\")) {                    Plotly.newPlot(                        \"4be46aac-6620-4acb-a5fc-bb900bc8cb92\",                        [{\"hovertemplate\":\"color=hello\\u003cbr\\u003e0=%{x}\\u003cbr\\u003e1=%{y}\\u003cbr\\u003e2=%{z}\\u003cextra\\u003e\\u003c\\u002fextra\\u003e\",\"legendgroup\":\"hello\",\"marker\":{\"color\":\"#636efa\",\"symbol\":\"circle\"},\"mode\":\"markers\",\"name\":\"hello\",\"scene\":\"scene\",\"showlegend\":true,\"x\":[0.08454054594039917],\"y\":[-0.31966084241867065],\"z\":[0.02290450781583786],\"type\":\"scatter3d\"},{\"hovertemplate\":\"color=things\\u003cbr\\u003e0=%{x}\\u003cbr\\u003e1=%{y}\\u003cbr\\u003e2=%{z}\\u003cextra\\u003e\\u003c\\u002fextra\\u003e\",\"legendgroup\":\"things\",\"marker\":{\"color\":\"#EF553B\",\"symbol\":\"circle\"},\"mode\":\"markers\",\"name\":\"things\",\"scene\":\"scene\",\"showlegend\":true,\"x\":[0.8176750540733337],\"y\":[-0.08987829089164734],\"z\":[0.07623910903930664],\"type\":\"scatter3d\"},{\"hovertemplate\":\"color=away\\u003cbr\\u003e0=%{x}\\u003cbr\\u003e1=%{y}\\u003cbr\\u003e2=%{z}\\u003cextra\\u003e\\u003c\\u002fextra\\u003e\",\"legendgroup\":\"away\",\"marker\":{\"color\":\"#00cc96\",\"symbol\":\"circle\"},\"mode\":\"markers\",\"name\":\"away\",\"scene\":\"scene\",\"showlegend\":true,\"x\":[0.5989856719970703],\"y\":[0.3008849322795868],\"z\":[-0.057996753603219986],\"type\":\"scatter3d\"},{\"hovertemplate\":\"color=other\\u003cbr\\u003e0=%{x}\\u003cbr\\u003e1=%{y}\\u003cbr\\u003e2=%{z}\\u003cextra\\u003e\\u003c\\u002fextra\\u003e\",\"legendgroup\":\"other\",\"marker\":{\"color\":\"#ab63fa\",\"symbol\":\"circle\"},\"mode\":\"markers\",\"name\":\"other\",\"scene\":\"scene\",\"showlegend\":true,\"x\":[0.6042697429656982],\"y\":[0.2645629644393921],\"z\":[0.18288975954055786],\"type\":\"scatter3d\"},{\"hovertemplate\":\"color=doing\\u003cbr\\u003e0=%{x}\\u003cbr\\u003e1=%{y}\\u003cbr\\u003e2=%{z}\\u003cextra\\u003e\\u003c\\u002fextra\\u003e\",\"legendgroup\":\"doing\",\"marker\":{\"color\":\"#FFA15A\",\"symbol\":\"circle\"},\"mode\":\"markers\",\"name\":\"doing\",\"scene\":\"scene\",\"showlegend\":true,\"x\":[0.647896945476532],\"y\":[-0.24061903357505798],\"z\":[0.17304247617721558],\"type\":\"scatter3d\"},{\"hovertemplate\":\"color=place\\u003cbr\\u003e0=%{x}\\u003cbr\\u003e1=%{y}\\u003cbr\\u003e2=%{z}\\u003cextra\\u003e\\u003c\\u002fextra\\u003e\",\"legendgroup\":\"place\",\"marker\":{\"color\":\"#19d3f3\",\"symbol\":\"circle\"},\"mode\":\"markers\",\"name\":\"place\",\"scene\":\"scene\",\"showlegend\":true,\"x\":[0.6883475184440613],\"y\":[0.3192113935947418],\"z\":[0.0964803546667099],\"type\":\"scatter3d\"},{\"hovertemplate\":\"color=burns\\u003cbr\\u003e0=%{x}\\u003cbr\\u003e1=%{y}\\u003cbr\\u003e2=%{z}\\u003cextra\\u003e\\u003c\\u002fextra\\u003e\",\"legendgroup\":\"burns\",\"marker\":{\"color\":\"#FF6692\",\"symbol\":\"circle\"},\"mode\":\"markers\",\"name\":\"burns\",\"scene\":\"scene\",\"showlegend\":true,\"x\":[0.46854445338249207],\"y\":[0.027390798553824425],\"z\":[0.09858682751655579],\"type\":\"scatter3d\"},{\"hovertemplate\":\"color=next\\u003cbr\\u003e0=%{x}\\u003cbr\\u003e1=%{y}\\u003cbr\\u003e2=%{z}\\u003cextra\\u003e\\u003c\\u002fextra\\u003e\",\"legendgroup\":\"next\",\"marker\":{\"color\":\"#B6E880\",\"symbol\":\"circle\"},\"mode\":\"markers\",\"name\":\"next\",\"scene\":\"scene\",\"showlegend\":true,\"x\":[0.571738064289093],\"y\":[0.46965983510017395],\"z\":[0.11992132663726807],\"type\":\"scatter3d\"},{\"hovertemplate\":\"color=isn\\u003cbr\\u003e0=%{x}\\u003cbr\\u003e1=%{y}\\u003cbr\\u003e2=%{z}\\u003cextra\\u003e\\u003c\\u002fextra\\u003e\",\"legendgroup\":\"isn\",\"marker\":{\"color\":\"#FF97FF\",\"symbol\":\"circle\"},\"mode\":\"markers\",\"name\":\"isn\",\"scene\":\"scene\",\"showlegend\":true,\"x\":[0.547634482383728],\"y\":[-0.227491557598114],\"z\":[0.02268713340163231],\"type\":\"scatter3d\"},{\"hovertemplate\":\"color=keep\\u003cbr\\u003e0=%{x}\\u003cbr\\u003e1=%{y}\\u003cbr\\u003e2=%{z}\\u003cextra\\u003e\\u003c\\u002fextra\\u003e\",\"legendgroup\":\"keep\",\"marker\":{\"color\":\"#FECB52\",\"symbol\":\"circle\"},\"mode\":\"markers\",\"name\":\"keep\",\"scene\":\"scene\",\"showlegend\":true,\"x\":[0.6744171977043152],\"y\":[0.08361245691776276],\"z\":[-0.7001217007637024],\"type\":\"scatter3d\"},{\"hovertemplate\":\"color=years\\u003cbr\\u003e0=%{x}\\u003cbr\\u003e1=%{y}\\u003cbr\\u003e2=%{z}\\u003cextra\\u003e\\u003c\\u002fextra\\u003e\",\"legendgroup\":\"years\",\"marker\":{\"color\":\"#636efa\",\"symbol\":\"circle\"},\"mode\":\"markers\",\"name\":\"years\",\"scene\":\"scene\",\"showlegend\":true,\"x\":[0.5524933338165283],\"y\":[0.40104803442955017],\"z\":[0.4037904143333435],\"type\":\"scatter3d\"},{\"hovertemplate\":\"color=guys\\u003cbr\\u003e0=%{x}\\u003cbr\\u003e1=%{y}\\u003cbr\\u003e2=%{z}\\u003cextra\\u003e\\u003c\\u002fextra\\u003e\",\"legendgroup\":\"guys\",\"marker\":{\"color\":\"#EF553B\",\"symbol\":\"circle\"},\"mode\":\"markers\",\"name\":\"guys\",\"scene\":\"scene\",\"showlegend\":true,\"x\":[0.6613789796829224],\"y\":[-0.12510967254638672],\"z\":[-0.09144720435142517],\"type\":\"scatter3d\"},{\"hovertemplate\":\"color=thanks\\u003cbr\\u003e0=%{x}\\u003cbr\\u003e1=%{y}\\u003cbr\\u003e2=%{z}\\u003cextra\\u003e\\u003c\\u002fextra\\u003e\",\"legendgroup\":\"thanks\",\"marker\":{\"color\":\"#00cc96\",\"symbol\":\"circle\"},\"mode\":\"markers\",\"name\":\"thanks\",\"scene\":\"scene\",\"showlegend\":true,\"x\":[0.38237419724464417],\"y\":[-0.16337589919567108],\"z\":[-0.24018780887126923],\"type\":\"scatter3d\"},{\"hovertemplate\":\"color=wow\\u003cbr\\u003e0=%{x}\\u003cbr\\u003e1=%{y}\\u003cbr\\u003e2=%{z}\\u003cextra\\u003e\\u003c\\u002fextra\\u003e\",\"legendgroup\":\"wow\",\"marker\":{\"color\":\"#ab63fa\",\"symbol\":\"circle\"},\"mode\":\"markers\",\"name\":\"wow\",\"scene\":\"scene\",\"showlegend\":true,\"x\":[0.3366946876049042],\"y\":[-0.1454973816871643],\"z\":[0.2404247373342514],\"type\":\"scatter3d\"},{\"hovertemplate\":\"color=today\\u003cbr\\u003e0=%{x}\\u003cbr\\u003e1=%{y}\\u003cbr\\u003e2=%{z}\\u003cextra\\u003e\\u003c\\u002fextra\\u003e\",\"legendgroup\":\"today\",\"marker\":{\"color\":\"#FFA15A\",\"symbol\":\"circle\"},\"mode\":\"markers\",\"name\":\"today\",\"scene\":\"scene\",\"showlegend\":true,\"x\":[0.4288387596607208],\"y\":[0.24743960797786713],\"z\":[0.4195546507835388],\"type\":\"scatter3d\"},{\"hovertemplate\":\"color=believe\\u003cbr\\u003e0=%{x}\\u003cbr\\u003e1=%{y}\\u003cbr\\u003e2=%{z}\\u003cextra\\u003e\\u003c\\u002fextra\\u003e\",\"legendgroup\":\"believe\",\"marker\":{\"color\":\"#19d3f3\",\"symbol\":\"circle\"},\"mode\":\"markers\",\"name\":\"believe\",\"scene\":\"scene\",\"showlegend\":true,\"x\":[0.7107911109924316],\"y\":[-0.10674184560775757],\"z\":[-0.17907573282718658],\"type\":\"scatter3d\"},{\"hovertemplate\":\"color=nothing\\u003cbr\\u003e0=%{x}\\u003cbr\\u003e1=%{y}\\u003cbr\\u003e2=%{z}\\u003cextra\\u003e\\u003c\\u002fextra\\u003e\",\"legendgroup\":\"nothing\",\"marker\":{\"color\":\"#FF6692\",\"symbol\":\"circle\"},\"mode\":\"markers\",\"name\":\"nothing\",\"scene\":\"scene\",\"showlegend\":true,\"x\":[0.6036947965621948],\"y\":[-0.09438629448413849],\"z\":[0.15976260602474213],\"type\":\"scatter3d\"},{\"hovertemplate\":\"color=krusty\\u003cbr\\u003e0=%{x}\\u003cbr\\u003e1=%{y}\\u003cbr\\u003e2=%{z}\\u003cextra\\u003e\\u003c\\u002fextra\\u003e\",\"legendgroup\":\"krusty\",\"marker\":{\"color\":\"#B6E880\",\"symbol\":\"circle\"},\"mode\":\"markers\",\"name\":\"krusty\",\"scene\":\"scene\",\"showlegend\":true,\"x\":[0.3633662164211273],\"y\":[0.19802230596542358],\"z\":[0.08529059588909149],\"type\":\"scatter3d\"},{\"hovertemplate\":\"color=everyone\\u003cbr\\u003e0=%{x}\\u003cbr\\u003e1=%{y}\\u003cbr\\u003e2=%{z}\\u003cextra\\u003e\\u003c\\u002fextra\\u003e\",\"legendgroup\":\"everyone\",\"marker\":{\"color\":\"#FF97FF\",\"symbol\":\"circle\"},\"mode\":\"markers\",\"name\":\"everyone\",\"scene\":\"scene\",\"showlegend\":true,\"x\":[0.5392545461654663],\"y\":[-0.007890786975622177],\"z\":[0.006852954626083374],\"type\":\"scatter3d\"},{\"hovertemplate\":\"color=after\\u003cbr\\u003e0=%{x}\\u003cbr\\u003e1=%{y}\\u003cbr\\u003e2=%{z}\\u003cextra\\u003e\\u003c\\u002fextra\\u003e\",\"legendgroup\":\"after\",\"marker\":{\"color\":\"#FECB52\",\"symbol\":\"circle\"},\"mode\":\"markers\",\"name\":\"after\",\"scene\":\"scene\",\"showlegend\":true,\"x\":[0.6192681789398193],\"y\":[0.2997713088989258],\"z\":[0.0706617534160614],\"type\":\"scatter3d\"},{\"hovertemplate\":\"color=lot\\u003cbr\\u003e0=%{x}\\u003cbr\\u003e1=%{y}\\u003cbr\\u003e2=%{z}\\u003cextra\\u003e\\u003c\\u002fextra\\u003e\",\"legendgroup\":\"lot\",\"marker\":{\"color\":\"#636efa\",\"symbol\":\"circle\"},\"mode\":\"markers\",\"name\":\"lot\",\"scene\":\"scene\",\"showlegend\":true,\"x\":[0.6591792106628418],\"y\":[-0.02005576342344284],\"z\":[0.26450425386428833],\"type\":\"scatter3d\"},{\"hovertemplate\":\"color=everything\\u003cbr\\u003e0=%{x}\\u003cbr\\u003e1=%{y}\\u003cbr\\u003e2=%{z}\\u003cextra\\u003e\\u003c\\u002fextra\\u003e\",\"legendgroup\":\"everything\",\"marker\":{\"color\":\"#EF553B\",\"symbol\":\"circle\"},\"mode\":\"markers\",\"name\":\"everything\",\"scene\":\"scene\",\"showlegend\":true,\"x\":[0.6674425601959229],\"y\":[-0.05420286953449249],\"z\":[0.04333338513970375],\"type\":\"scatter3d\"},{\"hovertemplate\":\"color=does\\u003cbr\\u003e0=%{x}\\u003cbr\\u003e1=%{y}\\u003cbr\\u003e2=%{z}\\u003cextra\\u003e\\u003c\\u002fextra\\u003e\",\"legendgroup\":\"does\",\"marker\":{\"color\":\"#00cc96\",\"symbol\":\"circle\"},\"mode\":\"markers\",\"name\":\"does\",\"scene\":\"scene\",\"showlegend\":true,\"x\":[0.5996419191360474],\"y\":[-0.3493902385234833],\"z\":[0.15934251248836517],\"type\":\"scatter3d\"},{\"hovertemplate\":\"color=nice\\u003cbr\\u003e0=%{x}\\u003cbr\\u003e1=%{y}\\u003cbr\\u003e2=%{z}\\u003cextra\\u003e\\u003c\\u002fextra\\u003e\",\"legendgroup\":\"nice\",\"marker\":{\"color\":\"#ab63fa\",\"symbol\":\"circle\"},\"mode\":\"markers\",\"name\":\"nice\",\"scene\":\"scene\",\"showlegend\":true,\"x\":[0.5519658327102661],\"y\":[-0.3789166212081909],\"z\":[0.15639860928058624],\"type\":\"scatter3d\"},{\"hovertemplate\":\"color=long\\u003cbr\\u003e0=%{x}\\u003cbr\\u003e1=%{y}\\u003cbr\\u003e2=%{z}\\u003cextra\\u003e\\u003c\\u002fextra\\u003e\",\"legendgroup\":\"long\",\"marker\":{\"color\":\"#FFA15A\",\"symbol\":\"circle\"},\"mode\":\"markers\",\"name\":\"long\",\"scene\":\"scene\",\"showlegend\":true,\"x\":[0.5959595441818237],\"y\":[0.08582925796508789],\"z\":[0.1975976973772049],\"type\":\"scatter3d\"},{\"hovertemplate\":\"color=real\\u003cbr\\u003e0=%{x}\\u003cbr\\u003e1=%{y}\\u003cbr\\u003e2=%{z}\\u003cextra\\u003e\\u003c\\u002fextra\\u003e\",\"legendgroup\":\"real\",\"marker\":{\"color\":\"#19d3f3\",\"symbol\":\"circle\"},\"mode\":\"markers\",\"name\":\"real\",\"scene\":\"scene\",\"showlegend\":true,\"x\":[0.5478280186653137],\"y\":[-0.09208860993385315],\"z\":[0.36337730288505554],\"type\":\"scatter3d\"},{\"hovertemplate\":\"color=best\\u003cbr\\u003e0=%{x}\\u003cbr\\u003e1=%{y}\\u003cbr\\u003e2=%{z}\\u003cextra\\u003e\\u003c\\u002fextra\\u003e\",\"legendgroup\":\"best\",\"marker\":{\"color\":\"#FF6692\",\"symbol\":\"circle\"},\"mode\":\"markers\",\"name\":\"best\",\"scene\":\"scene\",\"showlegend\":true,\"x\":[0.7062952518463135],\"y\":[0.054272815585136414],\"z\":[0.2751622796058655],\"type\":\"scatter3d\"},{\"hovertemplate\":\"color=father\\u003cbr\\u003e0=%{x}\\u003cbr\\u003e1=%{y}\\u003cbr\\u003e2=%{z}\\u003cextra\\u003e\\u003c\\u002fextra\\u003e\",\"legendgroup\":\"father\",\"marker\":{\"color\":\"#B6E880\",\"symbol\":\"circle\"},\"mode\":\"markers\",\"name\":\"father\",\"scene\":\"scene\",\"showlegend\":true,\"x\":[0.6997113823890686],\"y\":[-0.009004689753055573],\"z\":[0.11339890956878662],\"type\":\"scatter3d\"},{\"hovertemplate\":\"color=remember\\u003cbr\\u003e0=%{x}\\u003cbr\\u003e1=%{y}\\u003cbr\\u003e2=%{z}\\u003cextra\\u003e\\u003c\\u002fextra\\u003e\",\"legendgroup\":\"remember\",\"marker\":{\"color\":\"#FF97FF\",\"symbol\":\"circle\"},\"mode\":\"markers\",\"name\":\"remember\",\"scene\":\"scene\",\"showlegend\":true,\"x\":[0.6849491596221924],\"y\":[-0.07523562014102936],\"z\":[-0.17129811644554138],\"type\":\"scatter3d\"},{\"hovertemplate\":\"color=doesn\\u003cbr\\u003e0=%{x}\\u003cbr\\u003e1=%{y}\\u003cbr\\u003e2=%{z}\\u003cextra\\u003e\\u003c\\u002fextra\\u003e\",\"legendgroup\":\"doesn\",\"marker\":{\"color\":\"#FECB52\",\"symbol\":\"circle\"},\"mode\":\"markers\",\"name\":\"doesn\",\"scene\":\"scene\",\"showlegend\":true,\"x\":[0.6498094201087952],\"y\":[-0.36519885063171387],\"z\":[0.11877572536468506],\"type\":\"scatter3d\"},{\"hovertemplate\":\"color=car\\u003cbr\\u003e0=%{x}\\u003cbr\\u003e1=%{y}\\u003cbr\\u003e2=%{z}\\u003cextra\\u003e\\u003c\\u002fextra\\u003e\",\"legendgroup\":\"car\",\"marker\":{\"color\":\"#636efa\",\"symbol\":\"circle\"},\"mode\":\"markers\",\"name\":\"car\",\"scene\":\"scene\",\"showlegend\":true,\"x\":[0.5994468927383423],\"y\":[0.4579640030860901],\"z\":[-0.19623978435993195],\"type\":\"scatter3d\"},{\"hovertemplate\":\"color=another\\u003cbr\\u003e0=%{x}\\u003cbr\\u003e1=%{y}\\u003cbr\\u003e2=%{z}\\u003cextra\\u003e\\u003c\\u002fextra\\u003e\",\"legendgroup\":\"another\",\"marker\":{\"color\":\"#EF553B\",\"symbol\":\"circle\"},\"mode\":\"markers\",\"name\":\"another\",\"scene\":\"scene\",\"showlegend\":true,\"x\":[0.4785296320915222],\"y\":[0.33071765303611755],\"z\":[0.17030352354049683],\"type\":\"scatter3d\"},{\"hovertemplate\":\"color=ooh\\u003cbr\\u003e0=%{x}\\u003cbr\\u003e1=%{y}\\u003cbr\\u003e2=%{z}\\u003cextra\\u003e\\u003c\\u002fextra\\u003e\",\"legendgroup\":\"ooh\",\"marker\":{\"color\":\"#00cc96\",\"symbol\":\"circle\"},\"mode\":\"markers\",\"name\":\"ooh\",\"scene\":\"scene\",\"showlegend\":true,\"x\":[0.1726219654083252],\"y\":[-0.09991210699081421],\"z\":[0.061930883675813675],\"type\":\"scatter3d\"},{\"hovertemplate\":\"color=which\\u003cbr\\u003e0=%{x}\\u003cbr\\u003e1=%{y}\\u003cbr\\u003e2=%{z}\\u003cextra\\u003e\\u003c\\u002fextra\\u003e\",\"legendgroup\":\"which\",\"marker\":{\"color\":\"#ab63fa\",\"symbol\":\"circle\"},\"mode\":\"markers\",\"name\":\"which\",\"scene\":\"scene\",\"showlegend\":true,\"x\":[0.48492807149887085],\"y\":[0.3062713146209717],\"z\":[0.3943711221218109],\"type\":\"scatter3d\"},{\"hovertemplate\":\"color=someone\\u003cbr\\u003e0=%{x}\\u003cbr\\u003e1=%{y}\\u003cbr\\u003e2=%{z}\\u003cextra\\u003e\\u003c\\u002fextra\\u003e\",\"legendgroup\":\"someone\",\"marker\":{\"color\":\"#FFA15A\",\"symbol\":\"circle\"},\"mode\":\"markers\",\"name\":\"someone\",\"scene\":\"scene\",\"showlegend\":true,\"x\":[0.667375385761261],\"y\":[-0.038189053535461426],\"z\":[-0.06047961488366127],\"type\":\"scatter3d\"},{\"hovertemplate\":\"color=hear\\u003cbr\\u003e0=%{x}\\u003cbr\\u003e1=%{y}\\u003cbr\\u003e2=%{z}\\u003cextra\\u003e\\u003c\\u002fextra\\u003e\",\"legendgroup\":\"hear\",\"marker\":{\"color\":\"#19d3f3\",\"symbol\":\"circle\"},\"mode\":\"markers\",\"name\":\"hear\",\"scene\":\"scene\",\"showlegend\":true,\"x\":[0.6497142314910889],\"y\":[-0.3882070779800415],\"z\":[-0.3519071638584137],\"type\":\"scatter3d\"},{\"hovertemplate\":\"color=around\\u003cbr\\u003e0=%{x}\\u003cbr\\u003e1=%{y}\\u003cbr\\u003e2=%{z}\\u003cextra\\u003e\\u003c\\u002fextra\\u003e\",\"legendgroup\":\"around\",\"marker\":{\"color\":\"#FF6692\",\"symbol\":\"circle\"},\"mode\":\"markers\",\"name\":\"around\",\"scene\":\"scene\",\"showlegend\":true,\"x\":[0.6297988891601562],\"y\":[0.27011626958847046],\"z\":[-0.18669934570789337],\"type\":\"scatter3d\"},{\"hovertemplate\":\"color=use\\u003cbr\\u003e0=%{x}\\u003cbr\\u003e1=%{y}\\u003cbr\\u003e2=%{z}\\u003cextra\\u003e\\u003c\\u002fextra\\u003e\",\"legendgroup\":\"use\",\"marker\":{\"color\":\"#B6E880\",\"symbol\":\"circle\"},\"mode\":\"markers\",\"name\":\"use\",\"scene\":\"scene\",\"showlegend\":true,\"x\":[0.6177277565002441],\"y\":[0.08559456467628479],\"z\":[-0.3548697233200073],\"type\":\"scatter3d\"},{\"hovertemplate\":\"color=own\\u003cbr\\u003e0=%{x}\\u003cbr\\u003e1=%{y}\\u003cbr\\u003e2=%{z}\\u003cextra\\u003e\\u003c\\u002fextra\\u003e\",\"legendgroup\":\"own\",\"marker\":{\"color\":\"#FF97FF\",\"symbol\":\"circle\"},\"mode\":\"markers\",\"name\":\"own\",\"scene\":\"scene\",\"showlegend\":true,\"x\":[0.4968123435974121],\"y\":[0.3467612862586975],\"z\":[-0.0028274841606616974],\"type\":\"scatter3d\"},{\"hovertemplate\":\"color=stupid\\u003cbr\\u003e0=%{x}\\u003cbr\\u003e1=%{y}\\u003cbr\\u003e2=%{z}\\u003cextra\\u003e\\u003c\\u002fextra\\u003e\",\"legendgroup\":\"stupid\",\"marker\":{\"color\":\"#FECB52\",\"symbol\":\"circle\"},\"mode\":\"markers\",\"name\":\"stupid\",\"scene\":\"scene\",\"showlegend\":true,\"x\":[0.4817451238632202],\"y\":[-0.21744033694267273],\"z\":[-0.15041816234588623],\"type\":\"scatter3d\"},{\"hovertemplate\":\"color=talk\\u003cbr\\u003e0=%{x}\\u003cbr\\u003e1=%{y}\\u003cbr\\u003e2=%{z}\\u003cextra\\u003e\\u003c\\u002fextra\\u003e\",\"legendgroup\":\"talk\",\"marker\":{\"color\":\"#636efa\",\"symbol\":\"circle\"},\"mode\":\"markers\",\"name\":\"talk\",\"scene\":\"scene\",\"showlegend\":true,\"x\":[0.6510747671127319],\"y\":[-0.2018381655216217],\"z\":[-0.377928763628006],\"type\":\"scatter3d\"},{\"hovertemplate\":\"color=mother\\u003cbr\\u003e0=%{x}\\u003cbr\\u003e1=%{y}\\u003cbr\\u003e2=%{z}\\u003cextra\\u003e\\u003c\\u002fextra\\u003e\",\"legendgroup\":\"mother\",\"marker\":{\"color\":\"#EF553B\",\"symbol\":\"circle\"},\"mode\":\"markers\",\"name\":\"mother\",\"scene\":\"scene\",\"showlegend\":true,\"x\":[0.6574576497077942],\"y\":[0.006819386035203934],\"z\":[0.0067991167306900024],\"type\":\"scatter3d\"},{\"hovertemplate\":\"color=girl\\u003cbr\\u003e0=%{x}\\u003cbr\\u003e1=%{y}\\u003cbr\\u003e2=%{z}\\u003cextra\\u003e\\u003c\\u002fextra\\u003e\",\"legendgroup\":\"girl\",\"marker\":{\"color\":\"#00cc96\",\"symbol\":\"circle\"},\"mode\":\"markers\",\"name\":\"girl\",\"scene\":\"scene\",\"showlegend\":true,\"x\":[0.5552210211753845],\"y\":[-0.027116574347019196],\"z\":[0.05395974591374397],\"type\":\"scatter3d\"},{\"hovertemplate\":\"color=dog\\u003cbr\\u003e0=%{x}\\u003cbr\\u003e1=%{y}\\u003cbr\\u003e2=%{z}\\u003cextra\\u003e\\u003c\\u002fextra\\u003e\",\"legendgroup\":\"dog\",\"marker\":{\"color\":\"#ab63fa\",\"symbol\":\"circle\"},\"mode\":\"markers\",\"name\":\"dog\",\"scene\":\"scene\",\"showlegend\":true,\"x\":[0.45593762397766113],\"y\":[0.18218642473220825],\"z\":[-0.021047290414571762],\"type\":\"scatter3d\"},{\"hovertemplate\":\"color=eat\\u003cbr\\u003e0=%{x}\\u003cbr\\u003e1=%{y}\\u003cbr\\u003e2=%{z}\\u003cextra\\u003e\\u003c\\u002fextra\\u003e\",\"legendgroup\":\"eat\",\"marker\":{\"color\":\"#FFA15A\",\"symbol\":\"circle\"},\"mode\":\"markers\",\"name\":\"eat\",\"scene\":\"scene\",\"showlegend\":true,\"x\":[0.6074879765510559],\"y\":[0.050232015550136566],\"z\":[-0.5868806838989258],\"type\":\"scatter3d\"},{\"hovertemplate\":\"color=happy\\u003cbr\\u003e0=%{x}\\u003cbr\\u003e1=%{y}\\u003cbr\\u003e2=%{z}\\u003cextra\\u003e\\u003c\\u002fextra\\u003e\",\"legendgroup\":\"happy\",\"marker\":{\"color\":\"#19d3f3\",\"symbol\":\"circle\"},\"mode\":\"markers\",\"name\":\"happy\",\"scene\":\"scene\",\"showlegend\":true,\"x\":[0.561577320098877],\"y\":[-0.29457879066467285],\"z\":[0.23945581912994385],\"type\":\"scatter3d\"},{\"hovertemplate\":\"color=done\\u003cbr\\u003e0=%{x}\\u003cbr\\u003e1=%{y}\\u003cbr\\u003e2=%{z}\\u003cextra\\u003e\\u003c\\u002fextra\\u003e\",\"legendgroup\":\"done\",\"marker\":{\"color\":\"#FF6692\",\"symbol\":\"circle\"},\"mode\":\"markers\",\"name\":\"done\",\"scene\":\"scene\",\"showlegend\":true,\"x\":[0.6803796291351318],\"y\":[-0.23998719453811646],\"z\":[0.23265039920806885],\"type\":\"scatter3d\"},{\"hovertemplate\":\"color=fun\\u003cbr\\u003e0=%{x}\\u003cbr\\u003e1=%{y}\\u003cbr\\u003e2=%{z}\\u003cextra\\u003e\\u003c\\u002fextra\\u003e\",\"legendgroup\":\"fun\",\"marker\":{\"color\":\"#B6E880\",\"symbol\":\"circle\"},\"mode\":\"markers\",\"name\":\"fun\",\"scene\":\"scene\",\"showlegend\":true,\"x\":[0.7000384330749512],\"y\":[-0.1276243031024933],\"z\":[0.09757488965988159],\"type\":\"scatter3d\"},{\"hovertemplate\":\"color=kill\\u003cbr\\u003e0=%{x}\\u003cbr\\u003e1=%{y}\\u003cbr\\u003e2=%{z}\\u003cextra\\u003e\\u003c\\u002fextra\\u003e\",\"legendgroup\":\"kill\",\"marker\":{\"color\":\"#FF97FF\",\"symbol\":\"circle\"},\"mode\":\"markers\",\"name\":\"kill\",\"scene\":\"scene\",\"showlegend\":true,\"x\":[0.6522144079208374],\"y\":[-0.2208555042743683],\"z\":[-0.5180647969245911],\"type\":\"scatter3d\"},{\"hovertemplate\":\"color=children\\u003cbr\\u003e0=%{x}\\u003cbr\\u003e1=%{y}\\u003cbr\\u003e2=%{z}\\u003cextra\\u003e\\u003c\\u002fextra\\u003e\",\"legendgroup\":\"children\",\"marker\":{\"color\":\"#FECB52\",\"symbol\":\"circle\"},\"mode\":\"markers\",\"name\":\"children\",\"scene\":\"scene\",\"showlegend\":true,\"x\":[0.5249432325363159],\"y\":[0.2539498805999756],\"z\":[0.17203648388385773],\"type\":\"scatter3d\"},{\"hovertemplate\":\"color=fine\\u003cbr\\u003e0=%{x}\\u003cbr\\u003e1=%{y}\\u003cbr\\u003e2=%{z}\\u003cextra\\u003e\\u003c\\u002fextra\\u003e\",\"legendgroup\":\"fine\",\"marker\":{\"color\":\"#636efa\",\"symbol\":\"circle\"},\"mode\":\"markers\",\"name\":\"fine\",\"scene\":\"scene\",\"showlegend\":true,\"x\":[0.4361844062805176],\"y\":[-0.3145342469215393],\"z\":[-0.05997254326939583],\"type\":\"scatter3d\"},{\"hovertemplate\":\"color=through\\u003cbr\\u003e0=%{x}\\u003cbr\\u003e1=%{y}\\u003cbr\\u003e2=%{z}\\u003cextra\\u003e\\u003c\\u002fextra\\u003e\",\"legendgroup\":\"through\",\"marker\":{\"color\":\"#EF553B\",\"symbol\":\"circle\"},\"mode\":\"markers\",\"name\":\"through\",\"scene\":\"scene\",\"showlegend\":true,\"x\":[0.5530382394790649],\"y\":[0.30404824018478394],\"z\":[-0.028618860989809036],\"type\":\"scatter3d\"},{\"hovertemplate\":\"color=play\\u003cbr\\u003e0=%{x}\\u003cbr\\u003e1=%{y}\\u003cbr\\u003e2=%{z}\\u003cextra\\u003e\\u003c\\u002fextra\\u003e\",\"legendgroup\":\"play\",\"marker\":{\"color\":\"#00cc96\",\"symbol\":\"circle\"},\"mode\":\"markers\",\"name\":\"play\",\"scene\":\"scene\",\"showlegend\":true,\"x\":[0.5630921721458435],\"y\":[0.19874568283557892],\"z\":[-0.4745016396045685],\"type\":\"scatter3d\"},{\"hovertemplate\":\"color=eh\\u003cbr\\u003e0=%{x}\\u003cbr\\u003e1=%{y}\\u003cbr\\u003e2=%{z}\\u003cextra\\u003e\\u003c\\u002fextra\\u003e\",\"legendgroup\":\"eh\",\"marker\":{\"color\":\"#ab63fa\",\"symbol\":\"circle\"},\"mode\":\"markers\",\"name\":\"eh\",\"scene\":\"scene\",\"showlegend\":true,\"x\":[0.21342578530311584],\"y\":[-0.4118800461292267],\"z\":[-0.15603892505168915],\"type\":\"scatter3d\"},{\"hovertemplate\":\"color=may\\u003cbr\\u003e0=%{x}\\u003cbr\\u003e1=%{y}\\u003cbr\\u003e2=%{z}\\u003cextra\\u003e\\u003c\\u002fextra\\u003e\",\"legendgroup\":\"may\",\"marker\":{\"color\":\"#FFA15A\",\"symbol\":\"circle\"},\"mode\":\"markers\",\"name\":\"may\",\"scene\":\"scene\",\"showlegend\":true,\"x\":[0.5376051664352417],\"y\":[-0.1474996954202652],\"z\":[0.39050039649009705],\"type\":\"scatter3d\"},{\"hovertemplate\":\"color=most\\u003cbr\\u003e0=%{x}\\u003cbr\\u003e1=%{y}\\u003cbr\\u003e2=%{z}\\u003cextra\\u003e\\u003c\\u002fextra\\u003e\",\"legendgroup\":\"most\",\"marker\":{\"color\":\"#19d3f3\",\"symbol\":\"circle\"},\"mode\":\"markers\",\"name\":\"most\",\"scene\":\"scene\",\"showlegend\":true,\"x\":[0.4458811283111572],\"y\":[0.18114987015724182],\"z\":[0.5822095274925232],\"type\":\"scatter3d\"},{\"hovertemplate\":\"color=wanna\\u003cbr\\u003e0=%{x}\\u003cbr\\u003e1=%{y}\\u003cbr\\u003e2=%{z}\\u003cextra\\u003e\\u003c\\u002fextra\\u003e\",\"legendgroup\":\"wanna\",\"marker\":{\"color\":\"#FF6692\",\"symbol\":\"circle\"},\"mode\":\"markers\",\"name\":\"wanna\",\"scene\":\"scene\",\"showlegend\":true,\"x\":[0.5908441543579102],\"y\":[-0.1951395869255066],\"z\":[-0.1714302897453308],\"type\":\"scatter3d\"},{\"hovertemplate\":\"color=wrong\\u003cbr\\u003e0=%{x}\\u003cbr\\u003e1=%{y}\\u003cbr\\u003e2=%{z}\\u003cextra\\u003e\\u003c\\u002fextra\\u003e\",\"legendgroup\":\"wrong\",\"marker\":{\"color\":\"#B6E880\",\"symbol\":\"circle\"},\"mode\":\"markers\",\"name\":\"wrong\",\"scene\":\"scene\",\"showlegend\":true,\"x\":[0.6099826097488403],\"y\":[-0.37666723132133484],\"z\":[0.15877920389175415],\"type\":\"scatter3d\"},{\"hovertemplate\":\"color=honey\\u003cbr\\u003e0=%{x}\\u003cbr\\u003e1=%{y}\\u003cbr\\u003e2=%{z}\\u003cextra\\u003e\\u003c\\u002fextra\\u003e\",\"legendgroup\":\"honey\",\"marker\":{\"color\":\"#FF97FF\",\"symbol\":\"circle\"},\"mode\":\"markers\",\"name\":\"honey\",\"scene\":\"scene\",\"showlegend\":true,\"x\":[0.576010525226593],\"y\":[-0.5152289867401123],\"z\":[-0.13718096911907196],\"type\":\"scatter3d\"},{\"hovertemplate\":\"color=em\\u003cbr\\u003e0=%{x}\\u003cbr\\u003e1=%{y}\\u003cbr\\u003e2=%{z}\\u003cextra\\u003e\\u003c\\u002fextra\\u003e\",\"legendgroup\":\"em\",\"marker\":{\"color\":\"#FECB52\",\"symbol\":\"circle\"},\"mode\":\"markers\",\"name\":\"em\",\"scene\":\"scene\",\"showlegend\":true,\"x\":[0.5665158629417419],\"y\":[0.20362992584705353],\"z\":[-0.32465052604675293],\"type\":\"scatter3d\"},{\"hovertemplate\":\"color=while\\u003cbr\\u003e0=%{x}\\u003cbr\\u003e1=%{y}\\u003cbr\\u003e2=%{z}\\u003cextra\\u003e\\u003c\\u002fextra\\u003e\",\"legendgroup\":\"while\",\"marker\":{\"color\":\"#636efa\",\"symbol\":\"circle\"},\"mode\":\"markers\",\"name\":\"while\",\"scene\":\"scene\",\"showlegend\":true,\"x\":[0.665263295173645],\"y\":[0.21289008855819702],\"z\":[-0.14730402827262878],\"type\":\"scatter3d\"},{\"hovertemplate\":\"color=worry\\u003cbr\\u003e0=%{x}\\u003cbr\\u003e1=%{y}\\u003cbr\\u003e2=%{z}\\u003cextra\\u003e\\u003c\\u002fextra\\u003e\",\"legendgroup\":\"worry\",\"marker\":{\"color\":\"#EF553B\",\"symbol\":\"circle\"},\"mode\":\"markers\",\"name\":\"worry\",\"scene\":\"scene\",\"showlegend\":true,\"x\":[0.5420323014259338],\"y\":[-0.25255611538887024],\"z\":[-0.2617049813270569],\"type\":\"scatter3d\"},{\"hovertemplate\":\"color=looks\\u003cbr\\u003e0=%{x}\\u003cbr\\u003e1=%{y}\\u003cbr\\u003e2=%{z}\\u003cextra\\u003e\\u003c\\u002fextra\\u003e\",\"legendgroup\":\"looks\",\"marker\":{\"color\":\"#00cc96\",\"symbol\":\"circle\"},\"mode\":\"markers\",\"name\":\"looks\",\"scene\":\"scene\",\"showlegend\":true,\"x\":[0.5345941781997681],\"y\":[-0.0912722498178482],\"z\":[0.046124428510665894],\"type\":\"scatter3d\"},{\"hovertemplate\":\"color=town\\u003cbr\\u003e0=%{x}\\u003cbr\\u003e1=%{y}\\u003cbr\\u003e2=%{z}\\u003cextra\\u003e\\u003c\\u002fextra\\u003e\",\"legendgroup\":\"town\",\"marker\":{\"color\":\"#ab63fa\",\"symbol\":\"circle\"},\"mode\":\"markers\",\"name\":\"town\",\"scene\":\"scene\",\"showlegend\":true,\"x\":[0.531822681427002],\"y\":[0.5384916067123413],\"z\":[0.20012184977531433],\"type\":\"scatter3d\"},{\"hovertemplate\":\"color=year\\u003cbr\\u003e0=%{x}\\u003cbr\\u003e1=%{y}\\u003cbr\\u003e2=%{z}\\u003cextra\\u003e\\u003c\\u002fextra\\u003e\",\"legendgroup\":\"year\",\"marker\":{\"color\":\"#FFA15A\",\"symbol\":\"circle\"},\"mode\":\"markers\",\"name\":\"year\",\"scene\":\"scene\",\"showlegend\":true,\"x\":[0.502905011177063],\"y\":[0.43269607424736023],\"z\":[0.41426366567611694],\"type\":\"scatter3d\"},{\"hovertemplate\":\"color=kid\\u003cbr\\u003e0=%{x}\\u003cbr\\u003e1=%{y}\\u003cbr\\u003e2=%{z}\\u003cextra\\u003e\\u003c\\u002fextra\\u003e\",\"legendgroup\":\"kid\",\"marker\":{\"color\":\"#19d3f3\",\"symbol\":\"circle\"},\"mode\":\"markers\",\"name\":\"kid\",\"scene\":\"scene\",\"showlegend\":true,\"x\":[0.599993884563446],\"y\":[-0.06344958394765854],\"z\":[-0.06011326238512993],\"type\":\"scatter3d\"},{\"hovertemplate\":\"color=job\\u003cbr\\u003e0=%{x}\\u003cbr\\u003e1=%{y}\\u003cbr\\u003e2=%{z}\\u003cextra\\u003e\\u003c\\u002fextra\\u003e\",\"legendgroup\":\"job\",\"marker\":{\"color\":\"#FF6692\",\"symbol\":\"circle\"},\"mode\":\"markers\",\"name\":\"job\",\"scene\":\"scene\",\"showlegend\":true,\"x\":[0.7042379379272461],\"y\":[0.1480371057987213],\"z\":[0.009821277111768723],\"type\":\"scatter3d\"},{\"hovertemplate\":\"color=left\\u003cbr\\u003e0=%{x}\\u003cbr\\u003e1=%{y}\\u003cbr\\u003e2=%{z}\\u003cextra\\u003e\\u003c\\u002fextra\\u003e\",\"legendgroup\":\"left\",\"marker\":{\"color\":\"#B6E880\",\"symbol\":\"circle\"},\"mode\":\"markers\",\"name\":\"left\",\"scene\":\"scene\",\"showlegend\":true,\"x\":[0.5685414671897888],\"y\":[0.3850378692150116],\"z\":[0.04334865137934685],\"type\":\"scatter3d\"},{\"hovertemplate\":\"color=four\\u003cbr\\u003e0=%{x}\\u003cbr\\u003e1=%{y}\\u003cbr\\u003e2=%{z}\\u003cextra\\u003e\\u003c\\u002fextra\\u003e\",\"legendgroup\":\"four\",\"marker\":{\"color\":\"#FF97FF\",\"symbol\":\"circle\"},\"mode\":\"markers\",\"name\":\"four\",\"scene\":\"scene\",\"showlegend\":true,\"x\":[0.31940850615501404],\"y\":[0.560400664806366],\"z\":[0.2871939241886139],\"type\":\"scatter3d\"},{\"hovertemplate\":\"color=milhouse\\u003cbr\\u003e0=%{x}\\u003cbr\\u003e1=%{y}\\u003cbr\\u003e2=%{z}\\u003cextra\\u003e\\u003c\\u002fextra\\u003e\",\"legendgroup\":\"milhouse\",\"marker\":{\"color\":\"#FECB52\",\"symbol\":\"circle\"},\"mode\":\"markers\",\"name\":\"milhouse\",\"scene\":\"scene\",\"showlegend\":true,\"x\":[0.5071222186088562],\"y\":[-0.16592785716056824],\"z\":[-0.032279904931783676],\"type\":\"scatter3d\"},{\"hovertemplate\":\"color=dollars\\u003cbr\\u003e0=%{x}\\u003cbr\\u003e1=%{y}\\u003cbr\\u003e2=%{z}\\u003cextra\\u003e\\u003c\\u002fextra\\u003e\",\"legendgroup\":\"dollars\",\"marker\":{\"color\":\"#636efa\",\"symbol\":\"circle\"},\"mode\":\"markers\",\"name\":\"dollars\",\"scene\":\"scene\",\"showlegend\":true,\"x\":[0.3841843008995056],\"y\":[0.44721198081970215],\"z\":[0.19184058904647827],\"type\":\"scatter3d\"},{\"hovertemplate\":\"color=friend\\u003cbr\\u003e0=%{x}\\u003cbr\\u003e1=%{y}\\u003cbr\\u003e2=%{z}\\u003cextra\\u003e\\u003c\\u002fextra\\u003e\",\"legendgroup\":\"friend\",\"marker\":{\"color\":\"#EF553B\",\"symbol\":\"circle\"},\"mode\":\"markers\",\"name\":\"friend\",\"scene\":\"scene\",\"showlegend\":true,\"x\":[0.6109585762023926],\"y\":[-0.0305948406457901],\"z\":[0.21099531650543213],\"type\":\"scatter3d\"},{\"hovertemplate\":\"color=hell\\u003cbr\\u003e0=%{x}\\u003cbr\\u003e1=%{y}\\u003cbr\\u003e2=%{z}\\u003cextra\\u003e\\u003c\\u002fextra\\u003e\",\"legendgroup\":\"hell\",\"marker\":{\"color\":\"#00cc96\",\"symbol\":\"circle\"},\"mode\":\"markers\",\"name\":\"hell\",\"scene\":\"scene\",\"showlegend\":true,\"x\":[0.49631357192993164],\"y\":[-0.007134459912776947],\"z\":[-0.06925889849662781],\"type\":\"scatter3d\"},{\"hovertemplate\":\"color=aw\\u003cbr\\u003e0=%{x}\\u003cbr\\u003e1=%{y}\\u003cbr\\u003e2=%{z}\\u003cextra\\u003e\\u003c\\u002fextra\\u003e\",\"legendgroup\":\"aw\",\"marker\":{\"color\":\"#ab63fa\",\"symbol\":\"circle\"},\"mode\":\"markers\",\"name\":\"aw\",\"scene\":\"scene\",\"showlegend\":true,\"x\":[0.4813774526119232],\"y\":[-0.47626543045043945],\"z\":[-0.28036418557167053],\"type\":\"scatter3d\"},{\"hovertemplate\":\"color=um\\u003cbr\\u003e0=%{x}\\u003cbr\\u003e1=%{y}\\u003cbr\\u003e2=%{z}\\u003cextra\\u003e\\u003c\\u002fextra\\u003e\",\"legendgroup\":\"um\",\"marker\":{\"color\":\"#FFA15A\",\"symbol\":\"circle\"},\"mode\":\"markers\",\"name\":\"um\",\"scene\":\"scene\",\"showlegend\":true,\"x\":[0.5026237964630127],\"y\":[-0.3846280872821808],\"z\":[-0.14883241057395935],\"type\":\"scatter3d\"},{\"hovertemplate\":\"color=whoa\\u003cbr\\u003e0=%{x}\\u003cbr\\u003e1=%{y}\\u003cbr\\u003e2=%{z}\\u003cextra\\u003e\\u003c\\u002fextra\\u003e\",\"legendgroup\":\"whoa\",\"marker\":{\"color\":\"#19d3f3\",\"symbol\":\"circle\"},\"mode\":\"markers\",\"name\":\"whoa\",\"scene\":\"scene\",\"showlegend\":true,\"x\":[0.1804811954498291],\"y\":[-0.1819167137145996],\"z\":[-0.10290373861789703],\"type\":\"scatter3d\"},{\"hovertemplate\":\"color=tonight\\u003cbr\\u003e0=%{x}\\u003cbr\\u003e1=%{y}\\u003cbr\\u003e2=%{z}\\u003cextra\\u003e\\u003c\\u002fextra\\u003e\",\"legendgroup\":\"tonight\",\"marker\":{\"color\":\"#FF6692\",\"symbol\":\"circle\"},\"mode\":\"markers\",\"name\":\"tonight\",\"scene\":\"scene\",\"showlegend\":true,\"x\":[0.3951546251773834],\"y\":[0.29795408248901367],\"z\":[-0.08460944890975952],\"type\":\"scatter3d\"},{\"hovertemplate\":\"color=enough\\u003cbr\\u003e0=%{x}\\u003cbr\\u003e1=%{y}\\u003cbr\\u003e2=%{z}\\u003cextra\\u003e\\u003c\\u002fextra\\u003e\",\"legendgroup\":\"enough\",\"marker\":{\"color\":\"#B6E880\",\"symbol\":\"circle\"},\"mode\":\"markers\",\"name\":\"enough\",\"scene\":\"scene\",\"showlegend\":true,\"x\":[0.6539003849029541],\"y\":[-0.10158585011959076],\"z\":[0.31539681553840637],\"type\":\"scatter3d\"},{\"hovertemplate\":\"color=turn\\u003cbr\\u003e0=%{x}\\u003cbr\\u003e1=%{y}\\u003cbr\\u003e2=%{z}\\u003cextra\\u003e\\u003c\\u002fextra\\u003e\",\"legendgroup\":\"turn\",\"marker\":{\"color\":\"#FF97FF\",\"symbol\":\"circle\"},\"mode\":\"markers\",\"name\":\"turn\",\"scene\":\"scene\",\"showlegend\":true,\"x\":[0.6467977166175842],\"y\":[0.3551143407821655],\"z\":[-0.5788158774375916],\"type\":\"scatter3d\"},{\"hovertemplate\":\"color=kind\\u003cbr\\u003e0=%{x}\\u003cbr\\u003e1=%{y}\\u003cbr\\u003e2=%{z}\\u003cextra\\u003e\\u003c\\u002fextra\\u003e\",\"legendgroup\":\"kind\",\"marker\":{\"color\":\"#FECB52\",\"symbol\":\"circle\"},\"mode\":\"markers\",\"name\":\"kind\",\"scene\":\"scene\",\"showlegend\":true,\"x\":[0.5727067589759827],\"y\":[-0.0873698890209198],\"z\":[0.3818452060222626],\"type\":\"scatter3d\"},{\"hovertemplate\":\"color=being\\u003cbr\\u003e0=%{x}\\u003cbr\\u003e1=%{y}\\u003cbr\\u003e2=%{z}\\u003cextra\\u003e\\u003c\\u002fextra\\u003e\",\"legendgroup\":\"being\",\"marker\":{\"color\":\"#636efa\",\"symbol\":\"circle\"},\"mode\":\"markers\",\"name\":\"being\",\"scene\":\"scene\",\"showlegend\":true,\"x\":[0.521981954574585],\"y\":[-0.0511927455663681],\"z\":[0.3842831254005432],\"type\":\"scatter3d\"},{\"hovertemplate\":\"color=listen\\u003cbr\\u003e0=%{x}\\u003cbr\\u003e1=%{y}\\u003cbr\\u003e2=%{z}\\u003cextra\\u003e\\u003c\\u002fextra\\u003e\",\"legendgroup\":\"listen\",\"marker\":{\"color\":\"#EF553B\",\"symbol\":\"circle\"},\"mode\":\"markers\",\"name\":\"listen\",\"scene\":\"scene\",\"showlegend\":true,\"x\":[0.642536997795105],\"y\":[-0.37405523657798767],\"z\":[-0.5265033841133118],\"type\":\"scatter3d\"},{\"hovertemplate\":\"color=maggie\\u003cbr\\u003e0=%{x}\\u003cbr\\u003e1=%{y}\\u003cbr\\u003e2=%{z}\\u003cextra\\u003e\\u003c\\u002fextra\\u003e\",\"legendgroup\":\"maggie\",\"marker\":{\"color\":\"#00cc96\",\"symbol\":\"circle\"},\"mode\":\"markers\",\"name\":\"maggie\",\"scene\":\"scene\",\"showlegend\":true,\"x\":[0.5346089005470276],\"y\":[-0.2554839253425598],\"z\":[-0.2829030454158783],\"type\":\"scatter3d\"},{\"hovertemplate\":\"color=many\\u003cbr\\u003e0=%{x}\\u003cbr\\u003e1=%{y}\\u003cbr\\u003e2=%{z}\\u003cextra\\u003e\\u003c\\u002fextra\\u003e\",\"legendgroup\":\"many\",\"marker\":{\"color\":\"#ab63fa\",\"symbol\":\"circle\"},\"mode\":\"markers\",\"name\":\"many\",\"scene\":\"scene\",\"showlegend\":true,\"x\":[0.4285151958465576],\"y\":[0.024015219882130623],\"z\":[0.34797203540802],\"type\":\"scatter3d\"},{\"hovertemplate\":\"color=free\\u003cbr\\u003e0=%{x}\\u003cbr\\u003e1=%{y}\\u003cbr\\u003e2=%{z}\\u003cextra\\u003e\\u003c\\u002fextra\\u003e\",\"legendgroup\":\"free\",\"marker\":{\"color\":\"#FFA15A\",\"symbol\":\"circle\"},\"mode\":\"markers\",\"name\":\"free\",\"scene\":\"scene\",\"showlegend\":true,\"x\":[0.3665386736392975],\"y\":[0.39199966192245483],\"z\":[0.01292792335152626],\"type\":\"scatter3d\"},{\"hovertemplate\":\"color=minute\\u003cbr\\u003e0=%{x}\\u003cbr\\u003e1=%{y}\\u003cbr\\u003e2=%{z}\\u003cextra\\u003e\\u003c\\u002fextra\\u003e\",\"legendgroup\":\"minute\",\"marker\":{\"color\":\"#19d3f3\",\"symbol\":\"circle\"},\"mode\":\"markers\",\"name\":\"minute\",\"scene\":\"scene\",\"showlegend\":true,\"x\":[0.3970590829849243],\"y\":[-0.02243626117706299],\"z\":[-0.07895788550376892],\"type\":\"scatter3d\"},{\"hovertemplate\":\"color=getting\\u003cbr\\u003e0=%{x}\\u003cbr\\u003e1=%{y}\\u003cbr\\u003e2=%{z}\\u003cextra\\u003e\\u003c\\u002fextra\\u003e\",\"legendgroup\":\"getting\",\"marker\":{\"color\":\"#FF6692\",\"symbol\":\"circle\"},\"mode\":\"markers\",\"name\":\"getting\",\"scene\":\"scene\",\"showlegend\":true,\"x\":[0.5869916081428528],\"y\":[-0.08694945275783539],\"z\":[0.0694059282541275],\"type\":\"scatter3d\"},{\"hovertemplate\":\"color=without\\u003cbr\\u003e0=%{x}\\u003cbr\\u003e1=%{y}\\u003cbr\\u003e2=%{z}\\u003cextra\\u003e\\u003c\\u002fextra\\u003e\",\"legendgroup\":\"without\",\"marker\":{\"color\":\"#B6E880\",\"symbol\":\"circle\"},\"mode\":\"markers\",\"name\":\"without\",\"scene\":\"scene\",\"showlegend\":true,\"x\":[0.56937175989151],\"y\":[0.09670089185237885],\"z\":[-0.15174509584903717],\"type\":\"scatter3d\"},{\"hovertemplate\":\"color=might\\u003cbr\\u003e0=%{x}\\u003cbr\\u003e1=%{y}\\u003cbr\\u003e2=%{z}\\u003cextra\\u003e\\u003c\\u002fextra\\u003e\",\"legendgroup\":\"might\",\"marker\":{\"color\":\"#FF97FF\",\"symbol\":\"circle\"},\"mode\":\"markers\",\"name\":\"might\",\"scene\":\"scene\",\"showlegend\":true,\"x\":[0.6782438158988953],\"y\":[-0.22833654284477234],\"z\":[0.28790155053138733],\"type\":\"scatter3d\"},{\"hovertemplate\":\"color=cause\\u003cbr\\u003e0=%{x}\\u003cbr\\u003e1=%{y}\\u003cbr\\u003e2=%{z}\\u003cextra\\u003e\\u003c\\u002fextra\\u003e\",\"legendgroup\":\"cause\",\"marker\":{\"color\":\"#FECB52\",\"symbol\":\"circle\"},\"mode\":\"markers\",\"name\":\"cause\",\"scene\":\"scene\",\"showlegend\":true,\"x\":[0.7273530960083008],\"y\":[-0.07678241282701492],\"z\":[-0.11826635897159576],\"type\":\"scatter3d\"},{\"hovertemplate\":\"color=hundred\\u003cbr\\u003e0=%{x}\\u003cbr\\u003e1=%{y}\\u003cbr\\u003e2=%{z}\\u003cextra\\u003e\\u003c\\u002fextra\\u003e\",\"legendgroup\":\"hundred\",\"marker\":{\"color\":\"#636efa\",\"symbol\":\"circle\"},\"mode\":\"markers\",\"name\":\"hundred\",\"scene\":\"scene\",\"showlegend\":true,\"x\":[0.3019498586654663],\"y\":[0.445512980222702],\"z\":[0.23409469425678253],\"type\":\"scatter3d\"},{\"hovertemplate\":\"color=friends\\u003cbr\\u003e0=%{x}\\u003cbr\\u003e1=%{y}\\u003cbr\\u003e2=%{z}\\u003cextra\\u003e\\u003c\\u002fextra\\u003e\",\"legendgroup\":\"friends\",\"marker\":{\"color\":\"#EF553B\",\"symbol\":\"circle\"},\"mode\":\"markers\",\"name\":\"friends\",\"scene\":\"scene\",\"showlegend\":true,\"x\":[0.6927900314331055],\"y\":[-0.06007520109415054],\"z\":[0.13301552832126617],\"type\":\"scatter3d\"},{\"hovertemplate\":\"color=try\\u003cbr\\u003e0=%{x}\\u003cbr\\u003e1=%{y}\\u003cbr\\u003e2=%{z}\\u003cextra\\u003e\\u003c\\u002fextra\\u003e\",\"legendgroup\":\"try\",\"marker\":{\"color\":\"#00cc96\",\"symbol\":\"circle\"},\"mode\":\"markers\",\"name\":\"try\",\"scene\":\"scene\",\"showlegend\":true,\"x\":[0.6882073283195496],\"y\":[-0.018035385757684708],\"z\":[-0.5135279893875122],\"type\":\"scatter3d\"},{\"hovertemplate\":\"color=beer\\u003cbr\\u003e0=%{x}\\u003cbr\\u003e1=%{y}\\u003cbr\\u003e2=%{z}\\u003cextra\\u003e\\u003c\\u002fextra\\u003e\",\"legendgroup\":\"beer\",\"marker\":{\"color\":\"#ab63fa\",\"symbol\":\"circle\"},\"mode\":\"markers\",\"name\":\"beer\",\"scene\":\"scene\",\"showlegend\":true,\"x\":[0.33124101161956787],\"y\":[0.2813289761543274],\"z\":[-0.2130144089460373],\"type\":\"scatter3d\"},{\"hovertemplate\":\"color=leave\\u003cbr\\u003e0=%{x}\\u003cbr\\u003e1=%{y}\\u003cbr\\u003e2=%{z}\\u003cextra\\u003e\\u003c\\u002fextra\\u003e\",\"legendgroup\":\"leave\",\"marker\":{\"color\":\"#FFA15A\",\"symbol\":\"circle\"},\"mode\":\"markers\",\"name\":\"leave\",\"scene\":\"scene\",\"showlegend\":true,\"x\":[0.660880982875824],\"y\":[0.0015615709125995636],\"z\":[-0.5973448753356934],\"type\":\"scatter3d\"},{\"hovertemplate\":\"color=watch\\u003cbr\\u003e0=%{x}\\u003cbr\\u003e1=%{y}\\u003cbr\\u003e2=%{z}\\u003cextra\\u003e\\u003c\\u002fextra\\u003e\",\"legendgroup\":\"watch\",\"marker\":{\"color\":\"#19d3f3\",\"symbol\":\"circle\"},\"mode\":\"markers\",\"name\":\"watch\",\"scene\":\"scene\",\"showlegend\":true,\"x\":[0.6278222799301147],\"y\":[0.06595754623413086],\"z\":[-0.669516921043396],\"type\":\"scatter3d\"},{\"hovertemplate\":\"color=live\\u003cbr\\u003e0=%{x}\\u003cbr\\u003e1=%{y}\\u003cbr\\u003e2=%{z}\\u003cextra\\u003e\\u003c\\u002fextra\\u003e\",\"legendgroup\":\"live\",\"marker\":{\"color\":\"#FF6692\",\"symbol\":\"circle\"},\"mode\":\"markers\",\"name\":\"live\",\"scene\":\"scene\",\"showlegend\":true,\"x\":[0.5251489877700806],\"y\":[0.43787434697151184],\"z\":[-0.20957915484905243],\"type\":\"scatter3d\"},{\"hovertemplate\":\"color=ow\\u003cbr\\u003e0=%{x}\\u003cbr\\u003e1=%{y}\\u003cbr\\u003e2=%{z}\\u003cextra\\u003e\\u003c\\u002fextra\\u003e\",\"legendgroup\":\"ow\",\"marker\":{\"color\":\"#B6E880\",\"symbol\":\"circle\"},\"mode\":\"markers\",\"name\":\"ow\",\"scene\":\"scene\",\"showlegend\":true,\"x\":[-0.13059723377227783],\"y\":[-0.052282027900218964],\"z\":[0.02833816595375538],\"type\":\"scatter3d\"},{\"hovertemplate\":\"color=room\\u003cbr\\u003e0=%{x}\\u003cbr\\u003e1=%{y}\\u003cbr\\u003e2=%{z}\\u003cextra\\u003e\\u003c\\u002fextra\\u003e\",\"legendgroup\":\"room\",\"marker\":{\"color\":\"#FF97FF\",\"symbol\":\"circle\"},\"mode\":\"markers\",\"name\":\"room\",\"scene\":\"scene\",\"showlegend\":true,\"x\":[0.5495499968528748],\"y\":[0.5345380902290344],\"z\":[-0.1587136685848236],\"type\":\"scatter3d\"},{\"hovertemplate\":\"color=homie\\u003cbr\\u003e0=%{x}\\u003cbr\\u003e1=%{y}\\u003cbr\\u003e2=%{z}\\u003cextra\\u003e\\u003c\\u002fextra\\u003e\",\"legendgroup\":\"homie\",\"marker\":{\"color\":\"#FECB52\",\"symbol\":\"circle\"},\"mode\":\"markers\",\"name\":\"homie\",\"scene\":\"scene\",\"showlegend\":true,\"x\":[0.5769755244255066],\"y\":[-0.46764498949050903],\"z\":[-0.05849346145987511],\"type\":\"scatter3d\"}],                        {\"template\":{\"data\":{\"histogram2dcontour\":[{\"type\":\"histogram2dcontour\",\"colorbar\":{\"outlinewidth\":0,\"ticks\":\"\"},\"colorscale\":[[0.0,\"#0d0887\"],[0.1111111111111111,\"#46039f\"],[0.2222222222222222,\"#7201a8\"],[0.3333333333333333,\"#9c179e\"],[0.4444444444444444,\"#bd3786\"],[0.5555555555555556,\"#d8576b\"],[0.6666666666666666,\"#ed7953\"],[0.7777777777777778,\"#fb9f3a\"],[0.8888888888888888,\"#fdca26\"],[1.0,\"#f0f921\"]]}],\"choropleth\":[{\"type\":\"choropleth\",\"colorbar\":{\"outlinewidth\":0,\"ticks\":\"\"}}],\"histogram2d\":[{\"type\":\"histogram2d\",\"colorbar\":{\"outlinewidth\":0,\"ticks\":\"\"},\"colorscale\":[[0.0,\"#0d0887\"],[0.1111111111111111,\"#46039f\"],[0.2222222222222222,\"#7201a8\"],[0.3333333333333333,\"#9c179e\"],[0.4444444444444444,\"#bd3786\"],[0.5555555555555556,\"#d8576b\"],[0.6666666666666666,\"#ed7953\"],[0.7777777777777778,\"#fb9f3a\"],[0.8888888888888888,\"#fdca26\"],[1.0,\"#f0f921\"]]}],\"heatmap\":[{\"type\":\"heatmap\",\"colorbar\":{\"outlinewidth\":0,\"ticks\":\"\"},\"colorscale\":[[0.0,\"#0d0887\"],[0.1111111111111111,\"#46039f\"],[0.2222222222222222,\"#7201a8\"],[0.3333333333333333,\"#9c179e\"],[0.4444444444444444,\"#bd3786\"],[0.5555555555555556,\"#d8576b\"],[0.6666666666666666,\"#ed7953\"],[0.7777777777777778,\"#fb9f3a\"],[0.8888888888888888,\"#fdca26\"],[1.0,\"#f0f921\"]]}],\"heatmapgl\":[{\"type\":\"heatmapgl\",\"colorbar\":{\"outlinewidth\":0,\"ticks\":\"\"},\"colorscale\":[[0.0,\"#0d0887\"],[0.1111111111111111,\"#46039f\"],[0.2222222222222222,\"#7201a8\"],[0.3333333333333333,\"#9c179e\"],[0.4444444444444444,\"#bd3786\"],[0.5555555555555556,\"#d8576b\"],[0.6666666666666666,\"#ed7953\"],[0.7777777777777778,\"#fb9f3a\"],[0.8888888888888888,\"#fdca26\"],[1.0,\"#f0f921\"]]}],\"contourcarpet\":[{\"type\":\"contourcarpet\",\"colorbar\":{\"outlinewidth\":0,\"ticks\":\"\"}}],\"contour\":[{\"type\":\"contour\",\"colorbar\":{\"outlinewidth\":0,\"ticks\":\"\"},\"colorscale\":[[0.0,\"#0d0887\"],[0.1111111111111111,\"#46039f\"],[0.2222222222222222,\"#7201a8\"],[0.3333333333333333,\"#9c179e\"],[0.4444444444444444,\"#bd3786\"],[0.5555555555555556,\"#d8576b\"],[0.6666666666666666,\"#ed7953\"],[0.7777777777777778,\"#fb9f3a\"],[0.8888888888888888,\"#fdca26\"],[1.0,\"#f0f921\"]]}],\"surface\":[{\"type\":\"surface\",\"colorbar\":{\"outlinewidth\":0,\"ticks\":\"\"},\"colorscale\":[[0.0,\"#0d0887\"],[0.1111111111111111,\"#46039f\"],[0.2222222222222222,\"#7201a8\"],[0.3333333333333333,\"#9c179e\"],[0.4444444444444444,\"#bd3786\"],[0.5555555555555556,\"#d8576b\"],[0.6666666666666666,\"#ed7953\"],[0.7777777777777778,\"#fb9f3a\"],[0.8888888888888888,\"#fdca26\"],[1.0,\"#f0f921\"]]}],\"mesh3d\":[{\"type\":\"mesh3d\",\"colorbar\":{\"outlinewidth\":0,\"ticks\":\"\"}}],\"scatter\":[{\"fillpattern\":{\"fillmode\":\"overlay\",\"size\":10,\"solidity\":0.2},\"type\":\"scatter\"}],\"parcoords\":[{\"type\":\"parcoords\",\"line\":{\"colorbar\":{\"outlinewidth\":0,\"ticks\":\"\"}}}],\"scatterpolargl\":[{\"type\":\"scatterpolargl\",\"marker\":{\"colorbar\":{\"outlinewidth\":0,\"ticks\":\"\"}}}],\"bar\":[{\"error_x\":{\"color\":\"#2a3f5f\"},\"error_y\":{\"color\":\"#2a3f5f\"},\"marker\":{\"line\":{\"color\":\"#E5ECF6\",\"width\":0.5},\"pattern\":{\"fillmode\":\"overlay\",\"size\":10,\"solidity\":0.2}},\"type\":\"bar\"}],\"scattergeo\":[{\"type\":\"scattergeo\",\"marker\":{\"colorbar\":{\"outlinewidth\":0,\"ticks\":\"\"}}}],\"scatterpolar\":[{\"type\":\"scatterpolar\",\"marker\":{\"colorbar\":{\"outlinewidth\":0,\"ticks\":\"\"}}}],\"histogram\":[{\"marker\":{\"pattern\":{\"fillmode\":\"overlay\",\"size\":10,\"solidity\":0.2}},\"type\":\"histogram\"}],\"scattergl\":[{\"type\":\"scattergl\",\"marker\":{\"colorbar\":{\"outlinewidth\":0,\"ticks\":\"\"}}}],\"scatter3d\":[{\"type\":\"scatter3d\",\"line\":{\"colorbar\":{\"outlinewidth\":0,\"ticks\":\"\"}},\"marker\":{\"colorbar\":{\"outlinewidth\":0,\"ticks\":\"\"}}}],\"scattermapbox\":[{\"type\":\"scattermapbox\",\"marker\":{\"colorbar\":{\"outlinewidth\":0,\"ticks\":\"\"}}}],\"scatterternary\":[{\"type\":\"scatterternary\",\"marker\":{\"colorbar\":{\"outlinewidth\":0,\"ticks\":\"\"}}}],\"scattercarpet\":[{\"type\":\"scattercarpet\",\"marker\":{\"colorbar\":{\"outlinewidth\":0,\"ticks\":\"\"}}}],\"carpet\":[{\"aaxis\":{\"endlinecolor\":\"#2a3f5f\",\"gridcolor\":\"white\",\"linecolor\":\"white\",\"minorgridcolor\":\"white\",\"startlinecolor\":\"#2a3f5f\"},\"baxis\":{\"endlinecolor\":\"#2a3f5f\",\"gridcolor\":\"white\",\"linecolor\":\"white\",\"minorgridcolor\":\"white\",\"startlinecolor\":\"#2a3f5f\"},\"type\":\"carpet\"}],\"table\":[{\"cells\":{\"fill\":{\"color\":\"#EBF0F8\"},\"line\":{\"color\":\"white\"}},\"header\":{\"fill\":{\"color\":\"#C8D4E3\"},\"line\":{\"color\":\"white\"}},\"type\":\"table\"}],\"barpolar\":[{\"marker\":{\"line\":{\"color\":\"#E5ECF6\",\"width\":0.5},\"pattern\":{\"fillmode\":\"overlay\",\"size\":10,\"solidity\":0.2}},\"type\":\"barpolar\"}],\"pie\":[{\"automargin\":true,\"type\":\"pie\"}]},\"layout\":{\"autotypenumbers\":\"strict\",\"colorway\":[\"#636efa\",\"#EF553B\",\"#00cc96\",\"#ab63fa\",\"#FFA15A\",\"#19d3f3\",\"#FF6692\",\"#B6E880\",\"#FF97FF\",\"#FECB52\"],\"font\":{\"color\":\"#2a3f5f\"},\"hovermode\":\"closest\",\"hoverlabel\":{\"align\":\"left\"},\"paper_bgcolor\":\"white\",\"plot_bgcolor\":\"#E5ECF6\",\"polar\":{\"bgcolor\":\"#E5ECF6\",\"angularaxis\":{\"gridcolor\":\"white\",\"linecolor\":\"white\",\"ticks\":\"\"},\"radialaxis\":{\"gridcolor\":\"white\",\"linecolor\":\"white\",\"ticks\":\"\"}},\"ternary\":{\"bgcolor\":\"#E5ECF6\",\"aaxis\":{\"gridcolor\":\"white\",\"linecolor\":\"white\",\"ticks\":\"\"},\"baxis\":{\"gridcolor\":\"white\",\"linecolor\":\"white\",\"ticks\":\"\"},\"caxis\":{\"gridcolor\":\"white\",\"linecolor\":\"white\",\"ticks\":\"\"}},\"coloraxis\":{\"colorbar\":{\"outlinewidth\":0,\"ticks\":\"\"}},\"colorscale\":{\"sequential\":[[0.0,\"#0d0887\"],[0.1111111111111111,\"#46039f\"],[0.2222222222222222,\"#7201a8\"],[0.3333333333333333,\"#9c179e\"],[0.4444444444444444,\"#bd3786\"],[0.5555555555555556,\"#d8576b\"],[0.6666666666666666,\"#ed7953\"],[0.7777777777777778,\"#fb9f3a\"],[0.8888888888888888,\"#fdca26\"],[1.0,\"#f0f921\"]],\"sequentialminus\":[[0.0,\"#0d0887\"],[0.1111111111111111,\"#46039f\"],[0.2222222222222222,\"#7201a8\"],[0.3333333333333333,\"#9c179e\"],[0.4444444444444444,\"#bd3786\"],[0.5555555555555556,\"#d8576b\"],[0.6666666666666666,\"#ed7953\"],[0.7777777777777778,\"#fb9f3a\"],[0.8888888888888888,\"#fdca26\"],[1.0,\"#f0f921\"]],\"diverging\":[[0,\"#8e0152\"],[0.1,\"#c51b7d\"],[0.2,\"#de77ae\"],[0.3,\"#f1b6da\"],[0.4,\"#fde0ef\"],[0.5,\"#f7f7f7\"],[0.6,\"#e6f5d0\"],[0.7,\"#b8e186\"],[0.8,\"#7fbc41\"],[0.9,\"#4d9221\"],[1,\"#276419\"]]},\"xaxis\":{\"gridcolor\":\"white\",\"linecolor\":\"white\",\"ticks\":\"\",\"title\":{\"standoff\":15},\"zerolinecolor\":\"white\",\"automargin\":true,\"zerolinewidth\":2},\"yaxis\":{\"gridcolor\":\"white\",\"linecolor\":\"white\",\"ticks\":\"\",\"title\":{\"standoff\":15},\"zerolinecolor\":\"white\",\"automargin\":true,\"zerolinewidth\":2},\"scene\":{\"xaxis\":{\"backgroundcolor\":\"#E5ECF6\",\"gridcolor\":\"white\",\"linecolor\":\"white\",\"showbackground\":true,\"ticks\":\"\",\"zerolinecolor\":\"white\",\"gridwidth\":2},\"yaxis\":{\"backgroundcolor\":\"#E5ECF6\",\"gridcolor\":\"white\",\"linecolor\":\"white\",\"showbackground\":true,\"ticks\":\"\",\"zerolinecolor\":\"white\",\"gridwidth\":2},\"zaxis\":{\"backgroundcolor\":\"#E5ECF6\",\"gridcolor\":\"white\",\"linecolor\":\"white\",\"showbackground\":true,\"ticks\":\"\",\"zerolinecolor\":\"white\",\"gridwidth\":2}},\"shapedefaults\":{\"line\":{\"color\":\"#2a3f5f\"}},\"annotationdefaults\":{\"arrowcolor\":\"#2a3f5f\",\"arrowhead\":0,\"arrowwidth\":1},\"geo\":{\"bgcolor\":\"white\",\"landcolor\":\"#E5ECF6\",\"subunitcolor\":\"white\",\"showland\":true,\"showlakes\":true,\"lakecolor\":\"white\"},\"title\":{\"x\":0.05},\"mapbox\":{\"style\":\"light\"}}},\"scene\":{\"domain\":{\"x\":[0.0,1.0],\"y\":[0.0,1.0]},\"xaxis\":{\"title\":{\"text\":\"0\"}},\"yaxis\":{\"title\":{\"text\":\"1\"}},\"zaxis\":{\"title\":{\"text\":\"2\"}}},\"legend\":{\"title\":{\"text\":\"color\"},\"tracegroupgap\":0},\"margin\":{\"t\":60}},                        {\"responsive\": true}                    ).then(function(){\n",
              "                            \n",
              "var gd = document.getElementById('4be46aac-6620-4acb-a5fc-bb900bc8cb92');\n",
              "var x = new MutationObserver(function (mutations, observer) {{\n",
              "        var display = window.getComputedStyle(gd).display;\n",
              "        if (!display || display === 'none') {{\n",
              "            console.log([gd, 'removed!']);\n",
              "            Plotly.purge(gd);\n",
              "            observer.disconnect();\n",
              "        }}\n",
              "}});\n",
              "\n",
              "// Listen for the removal of the full notebook cells\n",
              "var notebookContainer = gd.closest('#notebook-container');\n",
              "if (notebookContainer) {{\n",
              "    x.observe(notebookContainer, {childList: true});\n",
              "}}\n",
              "\n",
              "// Listen for the clearing of the current output cell\n",
              "var outputEl = gd.closest('.output');\n",
              "if (outputEl) {{\n",
              "    x.observe(outputEl, {childList: true});\n",
              "}}\n",
              "\n",
              "                        })                };                            </script>        </div>\n",
              "</body>\n",
              "</html>"
            ]
          },
          "metadata": {}
        }
      ]
    },
    {
      "cell_type": "code",
      "source": [],
      "metadata": {
        "id": "dNo-dk6Cj80W"
      },
      "execution_count": null,
      "outputs": []
    }
  ]
}