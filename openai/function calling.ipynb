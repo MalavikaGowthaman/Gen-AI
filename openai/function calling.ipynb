{
 "cells": [
  {
   "cell_type": "code",
   "execution_count": 1,
   "metadata": {},
   "outputs": [],
   "source": [
    "import os\n",
    "import openai\n",
    "from dotenv import load_dotenv"
   ]
  },
  {
   "cell_type": "code",
   "execution_count": 2,
   "metadata": {},
   "outputs": [],
   "source": [
    "load_dotenv()\n",
    "OPENAI_API_KEY = os.getenv(\"OPENAI_API_KEY\")"
   ]
  },
  {
   "cell_type": "code",
   "execution_count": 3,
   "metadata": {},
   "outputs": [
    {
     "name": "stdout",
     "output_type": "stream",
     "text": [
      "Hello! I'm here and ready to help you. How can I assist you today?\n"
     ]
    }
   ],
   "source": [
    "prompt = \"Hello, How are you?\"\n",
    "\n",
    "response = openai.ChatCompletion.create(\n",
    "    model = \"gpt-3.5-turbo\",\n",
    "    messages = [\n",
    "        {\"role\": \"system\", \"content\": \"You are a helpful assistant.\"},\n",
    "        {\"role\": \"user\", \"content\": prompt}\n",
    "    ]\n",
    ")\n",
    "\n",
    "print(response[\"choices\"][0][\"message\"][\"content\"])"
   ]
  },
  {
   "cell_type": "markdown",
   "metadata": {},
   "source": [
    "https://rapidapi.com/hub"
   ]
  },
  {
   "cell_type": "code",
   "execution_count": 5,
   "metadata": {},
   "outputs": [
    {
     "name": "stdout",
     "output_type": "stream",
     "text": [
      "{'coord': {'lon': -89.1028, 'lat': 30.438}, 'weather': [{'id': 800, 'main': 'Clear', 'description': 'clear sky', 'icon': '01d'}], 'base': 'stations', 'main': {'temp': 78.26, 'feels_like': 78.98, 'temp_min': 77.95, 'temp_max': 78.8, 'pressure': 1022, 'humidity': 68, 'sea_level': 1022, 'grnd_level': 1020}, 'visibility': 10000, 'wind': {'speed': 8.05, 'deg': 80}, 'clouds': {'all': 0}, 'dt': 1730560856, 'sys': {'type': 2, 'id': 2015175, 'country': 'US', 'sunrise': 1730549521, 'sunset': 1730588870}, 'timezone': -18000, 'id': 4429197, 'name': 'Landon', 'cod': 200}\n"
     ]
    }
   ],
   "source": [
    "import requests\n",
    "\n",
    "url = \"https://open-weather13.p.rapidapi.com/city/landon/EN\"\n",
    "\n",
    "headers = {\n",
    "\t\"x-rapidapi-key\": \"512337bda7msh75ef1f4bdc4667bp1662e9jsn2aa9306361d3\",\n",
    "\t\"x-rapidapi-host\": \"open-weather13.p.rapidapi.com\"\n",
    "}\n",
    "\n",
    "response = requests.get(url, headers=headers)\n",
    "\n",
    "print(response.json())"
   ]
  },
  {
   "cell_type": "code",
   "execution_count": 8,
   "metadata": {},
   "outputs": [
    {
     "name": "stdout",
     "output_type": "stream",
     "text": [
      "{'coord': {'lon': -0.8141, 'lat': 38.6767}, 'weather': [{'id': 800, 'main': 'Clear', 'description': 'clear sky', 'icon': '01d'}], 'base': 'stations', 'main': {'temp': 66.34, 'feels_like': 65.82, 'temp_min': 66.34, 'temp_max': 66.34, 'pressure': 1019, 'humidity': 67, 'sea_level': 1019, 'grnd_level': 940}, 'visibility': 10000, 'wind': {'speed': 9.82, 'deg': 44, 'gust': 8.68}, 'clouds': {'all': 8}, 'dt': 1730561176, 'sys': {'type': 2, 'id': 2002242, 'country': 'ES', 'sunrise': 1730529084, 'sunset': 1730566928}, 'timezone': 3600, 'id': 6355428, 'name': 'Cañada', 'cod': 200}\n"
     ]
    }
   ],
   "source": [
    "# Example dummy function hard coded to return the same weather\n",
    "# In production, this could be your backend API or an external API\n",
    "\n",
    "import requests\n",
    "def get_current_weather(location):\n",
    "    \"\"\"Get the current weather in a given location\"\"\"\n",
    "    url = \"https://open-weather13.p.rapidapi.com/city/canada/EN\"\n",
    "\n",
    "    headers = {\n",
    "        \"x-rapidapi-key\": \"512337bda7msh75ef1f4bdc4667bp1662e9jsn2aa9306361d3\",\n",
    "        \"x-rapidapi-host\": \"open-weather13.p.rapidapi.com\"\n",
    "    }\n",
    "\n",
    "    response = requests.get(url, headers=headers)\n",
    "\n",
    "    print(response.json())\n",
    "    return response.json()\n",
    "\n",
    "response = get_current_weather(\"Mitchell, Canada\")"
   ]
  },
  {
   "cell_type": "code",
   "execution_count": 9,
   "metadata": {},
   "outputs": [
    {
     "data": {
      "text/plain": [
       "{'coord': {'lon': -0.8141, 'lat': 38.6767},\n",
       " 'weather': [{'id': 800,\n",
       "   'main': 'Clear',\n",
       "   'description': 'clear sky',\n",
       "   'icon': '01d'}],\n",
       " 'base': 'stations',\n",
       " 'main': {'temp': 66.34,\n",
       "  'feels_like': 65.82,\n",
       "  'temp_min': 66.34,\n",
       "  'temp_max': 66.34,\n",
       "  'pressure': 1019,\n",
       "  'humidity': 67,\n",
       "  'sea_level': 1019,\n",
       "  'grnd_level': 940},\n",
       " 'visibility': 10000,\n",
       " 'wind': {'speed': 9.82, 'deg': 44, 'gust': 8.68},\n",
       " 'clouds': {'all': 8},\n",
       " 'dt': 1730561176,\n",
       " 'sys': {'type': 2,\n",
       "  'id': 2002242,\n",
       "  'country': 'ES',\n",
       "  'sunrise': 1730529084,\n",
       "  'sunset': 1730566928},\n",
       " 'timezone': 3600,\n",
       " 'id': 6355428,\n",
       " 'name': 'Cañada',\n",
       " 'cod': 200}"
      ]
     },
     "execution_count": 9,
     "metadata": {},
     "output_type": "execute_result"
    }
   ],
   "source": [
    "response"
   ]
  },
  {
   "cell_type": "code",
   "execution_count": 10,
   "metadata": {},
   "outputs": [],
   "source": [
    "functions = [\n",
    "        {\n",
    "            \"name\": \"get_current_weather\",\n",
    "            \"description\": \"Get the current weather in a given location\",\n",
    "            \"parameters\": {\n",
    "                \"type\": \"object\",\n",
    "                \"properties\": {\n",
    "                    \"location\": {\n",
    "                        \"type\": \"string\",\n",
    "                        \"description\": \"The city and state, e.g. San Francisco, CA\",\n",
    "                    },\n",
    "                    \n",
    "                },\n",
    "                \"required\": [\"location\"],\n",
    "            },\n",
    "        }\n",
    "    ]"
   ]
  },
  {
   "cell_type": "code",
   "execution_count": 13,
   "metadata": {},
   "outputs": [],
   "source": [
    "messages = [\n",
    "{\"role\": \"system\", \"content\": \"You are a weather predictor.\"},\n",
    "{\"role\": \"user\", \"content\": \"What is the temperature of Bangalore\"}\n",
    "]\n",
    "\n",
    "response = openai.ChatCompletion.create(\n",
    "model=\"gpt-4o\",\n",
    "messages=messages,\n",
    "functions = functions\n",
    ")"
   ]
  },
  {
   "cell_type": "code",
   "execution_count": 15,
   "metadata": {},
   "outputs": [
    {
     "name": "stdout",
     "output_type": "stream",
     "text": [
      "{\n",
      "  \"role\": \"assistant\",\n",
      "  \"content\": null,\n",
      "  \"function_call\": {\n",
      "    \"name\": \"get_current_weather\",\n",
      "    \"arguments\": \"{\\\"location\\\":\\\"Bangalore, India\\\"}\"\n",
      "  },\n",
      "  \"refusal\": null\n",
      "}\n"
     ]
    }
   ],
   "source": [
    "print(response.choices[0].message)"
   ]
  },
  {
   "cell_type": "code",
   "execution_count": 26,
   "metadata": {},
   "outputs": [
    {
     "data": {
      "text/plain": [
       "'get_current_weather'"
      ]
     },
     "execution_count": 26,
     "metadata": {},
     "output_type": "execute_result"
    }
   ],
   "source": [
    "function_name = response[\"choices\"][0][\"message\"][\"function_call\"].name\n",
    "function_name"
   ]
  },
  {
   "cell_type": "code",
   "execution_count": 37,
   "metadata": {},
   "outputs": [
    {
     "name": "stdout",
     "output_type": "stream",
     "text": [
      "Bangalore, India\n"
     ]
    }
   ],
   "source": [
    "import json\n",
    "location=eval(response[\"choices\"][0][\"message\"][\"function_call\"]['arguments'])['location']\n",
    "print(location)"
   ]
  },
  {
   "cell_type": "code",
   "execution_count": 38,
   "metadata": {},
   "outputs": [],
   "source": [
    "# Step 4: send the info on the function call and function response to GPT\n",
    "messages.append(response)  # extend conversation with assistant's reply\n",
    "messages.append(\n",
    "    {\n",
    "        \"role\": \"function\",\n",
    "        \"name\": function_name,\n",
    "        \"content\": location,\n",
    "    }\n",
    ")"
   ]
  },
  {
   "cell_type": "code",
   "execution_count": 39,
   "metadata": {},
   "outputs": [
    {
     "data": {
      "text/plain": [
       "[{'role': 'system', 'content': 'You are a weather predictor.'},\n",
       " {'role': 'user', 'content': 'What is the temperature of Bangalore'},\n",
       " <OpenAIObject chat.completion id=chatcmpl-APB1rsWS8QBX2MLZ9if6fUpfpmtpo at 0x19d247af880> JSON: {\n",
       "   \"id\": \"chatcmpl-APB1rsWS8QBX2MLZ9if6fUpfpmtpo\",\n",
       "   \"object\": \"chat.completion\",\n",
       "   \"created\": 1730563959,\n",
       "   \"model\": \"gpt-4o-2024-08-06\",\n",
       "   \"choices\": [\n",
       "     {\n",
       "       \"index\": 0,\n",
       "       \"message\": {\n",
       "         \"role\": \"assistant\",\n",
       "         \"content\": null,\n",
       "         \"function_call\": {\n",
       "           \"name\": \"get_current_weather\",\n",
       "           \"arguments\": \"{\\\"location\\\":\\\"Bangalore, India\\\"}\"\n",
       "         },\n",
       "         \"refusal\": null\n",
       "       },\n",
       "       \"logprobs\": null,\n",
       "       \"finish_reason\": \"function_call\"\n",
       "     }\n",
       "   ],\n",
       "   \"usage\": {\n",
       "     \"prompt_tokens\": 73,\n",
       "     \"completion_tokens\": 18,\n",
       "     \"total_tokens\": 91,\n",
       "     \"prompt_tokens_details\": {\n",
       "       \"cached_tokens\": 0\n",
       "     },\n",
       "     \"completion_tokens_details\": {\n",
       "       \"reasoning_tokens\": 0\n",
       "     }\n",
       "   },\n",
       "   \"system_fingerprint\": \"fp_159d8341cc\"\n",
       " },\n",
       " {'role': 'function',\n",
       "  'name': '{\"location\":\"Bangalore, India\"}',\n",
       "  'content': 'Bangalore, India'}]"
      ]
     },
     "execution_count": 39,
     "metadata": {},
     "output_type": "execute_result"
    }
   ],
   "source": [
    "messages"
   ]
  },
  {
   "cell_type": "code",
   "execution_count": null,
   "metadata": {},
   "outputs": [],
   "source": [
    "# extend conversation with function response\n",
    "second_response = openai.ChatCompletion.create(\n",
    "    model=\"gpt-3.5-turbo\",\n",
    "    messages=messages,\n",
    "    functions=functions\n",
    ")  # get a new response from GPT where it can see the function response\n"
   ]
  },
  {
   "cell_type": "code",
   "execution_count": 49,
   "metadata": {},
   "outputs": [
    {
     "name": "stdout",
     "output_type": "stream",
     "text": [
      "Weather data for Bangalore, India: {'location': 'Bangalore, India', 'temperature': '78°F', 'condition': 'Clear sky', 'humidity': '65%', 'wind_speed': '10 mph'}\n"
     ]
    }
   ],
   "source": [
    "import openai\n",
    "import os\n",
    "from dotenv import load_dotenv  # Import dotenv to load environment variables\n",
    "\n",
    "# Load API key from .env file\n",
    "load_dotenv()\n",
    "OPENAI_API_KEY = os.getenv(\"OPENAI_API_KEY\")\n",
    "openai.api_key = OPENAI_API_KEY\n",
    "\n",
    "# Define the function to get weather data (mock response)\n",
    "def get_current_weather(location):\n",
    "    # Mocked return for demonstration; replace with actual API call if needed\n",
    "    return {\n",
    "        \"location\": location,\n",
    "        \"temperature\": \"78°F\",\n",
    "        \"condition\": \"Clear sky\",\n",
    "        \"humidity\": \"65%\",\n",
    "        \"wind_speed\": \"10 mph\"\n",
    "    }\n",
    "\n",
    "# Define the conversation messages\n",
    "messages = [\n",
    "    {\"role\": \"system\", \"content\": \"You are a weather predictor.\"},\n",
    "    {\"role\": \"user\", \"content\": \"What is the temperature in Bangalore?\"}\n",
    "]\n",
    "\n",
    "try:\n",
    "    # Call the OpenAI chat completion API\n",
    "    response = openai.ChatCompletion.create(\n",
    "        model=\"gpt-4\",  # Specify the model you're using\n",
    "        messages=messages,\n",
    "        functions=[{\n",
    "            \"name\": \"get_current_weather\",\n",
    "            \"description\": \"Fetches the current weather for a given location.\",\n",
    "            \"parameters\": {\n",
    "                \"type\": \"object\",\n",
    "                \"properties\": {\n",
    "                    \"location\": {\"type\": \"string\", \"description\": \"The city and country to get the weather for.\"}\n",
    "                },\n",
    "                \"required\": [\"location\"]\n",
    "            }\n",
    "        }],\n",
    "        function_call={\"name\": \"get_current_weather\"}\n",
    "    )\n",
    "\n",
    "    # Extract the response from the assistant\n",
    "    assistant_message = response['choices'][0]['message']\n",
    "\n",
    "    # Check if the assistant triggered a function call\n",
    "    if assistant_message.get(\"function_call\"):\n",
    "        function_name = assistant_message[\"function_call\"][\"name\"]\n",
    "        arguments = eval(assistant_message[\"function_call\"][\"arguments\"])\n",
    "        \n",
    "        # Get location from arguments and call the weather function\n",
    "        location = arguments.get(\"location\")\n",
    "        weather_info = get_current_weather(location)\n",
    "\n",
    "        # Append the function response to the conversation\n",
    "        messages.append({\n",
    "            \"role\": \"function\",\n",
    "            \"name\": function_name,\n",
    "            \"content\": str(weather_info)\n",
    "        })\n",
    "\n",
    "        # Print the weather data\n",
    "        print(f\"Weather data for {location}: {weather_info}\")\n",
    "\n",
    "except openai.error.InvalidRequestError as e:\n",
    "    print(f\"InvalidRequestError: {e}\")\n",
    "except Exception as e:\n",
    "    print(f\"An unexpected error occurred: {e}\")\n"
   ]
  },
  {
   "cell_type": "code",
   "execution_count": null,
   "metadata": {},
   "outputs": [],
   "source": []
  }
 ],
 "metadata": {
  "kernelspec": {
   "display_name": "openai-projects",
   "language": "python",
   "name": "python3"
  },
  "language_info": {
   "codemirror_mode": {
    "name": "ipython",
    "version": 3
   },
   "file_extension": ".py",
   "mimetype": "text/x-python",
   "name": "python",
   "nbconvert_exporter": "python",
   "pygments_lexer": "ipython3",
   "version": "3.10.15"
  }
 },
 "nbformat": 4,
 "nbformat_minor": 2
}
